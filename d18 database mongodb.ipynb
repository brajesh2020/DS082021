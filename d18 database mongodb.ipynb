{
 "cells": [
  {
   "cell_type": "markdown",
   "id": "fa15c3db",
   "metadata": {},
   "source": [
    "# mongodb"
   ]
  },
  {
   "cell_type": "markdown",
   "id": "22b68931",
   "metadata": {},
   "source": [
    "MongoDB, the most popular NoSQL database, is an open-source document-oriented database. The term ‘NoSQL’ means ‘non-relational’. It means that MongoDB isn’t based on the table-like relational database structure but provides an altogether different mechanism for storage and retrieval of data. This format of storage is called BSON ( similar to JSON format).\n",
    "\n"
   ]
  },
  {
   "cell_type": "code",
   "execution_count": 1,
   "id": "41051bb5",
   "metadata": {},
   "outputs": [],
   "source": [
    "# {\n",
    "#   title: 'Geeksforgeeks',\n",
    "#   by: 'Harshit Gupta',\n",
    "#   url: 'https://www.geeksforgeeks.org',\n",
    "#   type: 'NoSQL'\n",
    "#     {one:1,\n",
    "#      two:2\n",
    "#     }\n",
    "# } "
   ]
  },
  {
   "cell_type": "markdown",
   "id": "243a8b15",
   "metadata": {},
   "source": [
    "# RDBMS"
   ]
  },
  {
   "cell_type": "markdown",
   "id": "a7ea7b69",
   "metadata": {},
   "source": [
    "RDBMS has a typical schema design that shows number of tables and the relationship between these tables whereas MongoDB is document-oriented. There is no concept of schema or relationship.\n",
    "\n",
    "Complex transactions are not supported in MongoDB because complex join operations are not available.\n",
    "\n",
    "MongoDB allows a highly flexible and scalable document structure. For example, one data document of a collection in MongoDB can have two fields whereas the other document in the same collection can have four.\n",
    "\n",
    "MongoDB is faster as compared to RDBMS due to efficient indexing and storage techniques.\n",
    "\n",
    "There are a few terms which are related in both the databases. What’s called Table in RDBMS is called a Collection in MongoDB. \n",
    "\n",
    "Similarly, a Tuple is called a Document and A Column is called a Field. MongoDB provides a default ‘_id’ (if not provided explicitly) which is a 12 byte hexadecimal number which assures the uniqueness of every document. It is similar to the Primary key in RDBMS."
   ]
  },
  {
   "cell_type": "markdown",
   "id": "fb52d4f8",
   "metadata": {},
   "source": [
    "# Mongo DB"
   ]
  },
  {
   "cell_type": "markdown",
   "id": "42633786",
   "metadata": {},
   "source": [
    " Document Oriented: MongoDB stores the main subject in the minimal number of documents and not by breaking it up into multiple relational structures like RDBMS. For example, it stores all the information of a computer in a single document called Computer and not in distinct relational structures like CPU, RAM, Hard disk, etc.\n",
    " \n",
    "Indexing: Without indexing, a database would have to scan every document of a collection to select those that match the query which would be inefficient. So, for efficient searching Indexing is a must and MongoDB uses it to process huge volumes of data in very less time.\n",
    "\n",
    "Scalability: MongoDB scales horizontally using sharding (partitioning data across various servers). Data is partitioned into data chunks using the shard key, and these data chunks are evenly distributed across shards that resides across many physical servers. Also, new machines can be added to a running database.\n",
    "\n",
    "Replication and High Availability: MongoDB increases the data availability with multiple copies of data on different servers. By providing redundancy, it protects the database from hardware failures. If one server goes down, the data can be retrieved easily from other active servers which  also had the data stored on  them.\n",
    "\n",
    "Aggregation: Aggregation operations process data records and return the computed results. It is similar to the GROUPBY clause in SQL. A few aggregation expressions are sum, avg, min, max, etc"
   ]
  },
  {
   "cell_type": "code",
   "execution_count": 2,
   "id": "b416de6b",
   "metadata": {},
   "outputs": [],
   "source": [
    "# install mongodb \n",
    "\n",
    "# https://www.mongodb.com/try\n",
    "# on premises -- local    \n"
   ]
  },
  {
   "cell_type": "code",
   "execution_count": 3,
   "id": "2e20a347",
   "metadata": {},
   "outputs": [
    {
     "ename": "SyntaxError",
     "evalue": "invalid syntax (Temp/ipykernel_15552/1931365386.py, line 2)",
     "output_type": "error",
     "traceback": [
      "\u001b[1;36m  File \u001b[1;32m\"C:\\Users\\win10\\AppData\\Local\\Temp/ipykernel_15552/1931365386.py\"\u001b[1;36m, line \u001b[1;32m2\u001b[0m\n\u001b[1;33m    net start MongoDB\u001b[0m\n\u001b[1;37m        ^\u001b[0m\n\u001b[1;31mSyntaxError\u001b[0m\u001b[1;31m:\u001b[0m invalid syntax\n"
     ]
    }
   ],
   "source": [
    "# start mongodb as a service\n",
    "# net start MongoDB --- in cmd / powershell\n",
    "\n",
    "\n",
    "# install package\n",
    "\n",
    "# import package\n",
    "\n",
    "\n",
    "from pymongo import MongoClient"
   ]
  },
  {
   "cell_type": "code",
   "execution_count": 4,
   "id": "d8eba262",
   "metadata": {},
   "outputs": [
    {
     "ename": "ModuleNotFoundError",
     "evalue": "No module named 'pymongo'",
     "output_type": "error",
     "traceback": [
      "\u001b[1;31m---------------------------------------------------------------------------\u001b[0m",
      "\u001b[1;31mModuleNotFoundError\u001b[0m                       Traceback (most recent call last)",
      "\u001b[1;32m~\\AppData\\Local\\Temp/ipykernel_15552/238530695.py\u001b[0m in \u001b[0;36m<module>\u001b[1;34m\u001b[0m\n\u001b[0;32m      1\u001b[0m \u001b[1;31m# create a connection\u001b[0m\u001b[1;33m\u001b[0m\u001b[1;33m\u001b[0m\u001b[1;33m\u001b[0m\u001b[0m\n\u001b[1;32m----> 2\u001b[1;33m \u001b[1;32mfrom\u001b[0m \u001b[0mpymongo\u001b[0m \u001b[1;32mimport\u001b[0m \u001b[0mMongoClient\u001b[0m\u001b[1;33m\u001b[0m\u001b[1;33m\u001b[0m\u001b[0m\n\u001b[0m\u001b[0;32m      3\u001b[0m \u001b[0mclient\u001b[0m \u001b[1;33m=\u001b[0m \u001b[0mMongoClient\u001b[0m\u001b[1;33m(\u001b[0m\u001b[1;33m)\u001b[0m\u001b[1;33m\u001b[0m\u001b[1;33m\u001b[0m\u001b[0m\n",
      "\u001b[1;31mModuleNotFoundError\u001b[0m: No module named 'pymongo'"
     ]
    }
   ],
   "source": [
    "# create a connection\n",
    "from pymongo import MongoClient\n",
    "client = MongoClient()\n",
    "\n",
    "\n",
    "client = MongoClient(‘host’, port_number)\n",
    "example:- client = MongoClient(‘localhost’, 27017)\n",
    "    \n",
    "\n",
    "# client = MongoClient(“mongodb://localhost:27017/”)    "
   ]
  },
  {
   "cell_type": "code",
   "execution_count": 5,
   "id": "f5ca8add",
   "metadata": {},
   "outputs": [
    {
     "ename": "SyntaxError",
     "evalue": "invalid character '‘' (U+2018) (Temp/ipykernel_15552/2584628418.py, line 4)",
     "output_type": "error",
     "traceback": [
      "\u001b[1;36m  File \u001b[1;32m\"C:\\Users\\win10\\AppData\\Local\\Temp/ipykernel_15552/2584628418.py\"\u001b[1;36m, line \u001b[1;32m4\u001b[0m\n\u001b[1;33m    mydatabase = client[‘name_of_the_database’]\u001b[0m\n\u001b[1;37m                        ^\u001b[0m\n\u001b[1;31mSyntaxError\u001b[0m\u001b[1;31m:\u001b[0m invalid character '‘' (U+2018)\n"
     ]
    }
   ],
   "source": [
    "# access data\n",
    "\n",
    "\n",
    "mydatabase = client[‘name_of_the_database’]\n",
    "\n",
    "# another way to access\n",
    "\n",
    "mydatabase = client.name_of_the_database"
   ]
  },
  {
   "cell_type": "markdown",
   "id": "5c860e4f",
   "metadata": {},
   "source": [
    "Collections are equivalent to Tables in RDBMS. We access a collection in PyMongo in the same way as we access the Tables in the RDBMS. To access the table, say table name “myTable” of the database, say “mydatabase”."
   ]
  },
  {
   "cell_type": "code",
   "execution_count": 6,
   "id": "4081618d",
   "metadata": {},
   "outputs": [],
   "source": [
    "# record = {\n",
    "# title: 'MongoDB and Python', \n",
    "# description: 'MongoDB is no SQL database', \n",
    "# tags: ['mongodb', 'database', 'NoSQL'], \n",
    "# viewers: 104 \n",
    "# } \n",
    "\n",
    "# insert_one() or insert_many()\n"
   ]
  },
  {
   "cell_type": "code",
   "execution_count": null,
   "id": "ce588099",
   "metadata": {},
   "outputs": [],
   "source": [
    "# importing module\n",
    "from pymongo import MongoClient\n",
    "\n",
    "# creation of MongoClient\n",
    "client=MongoClient()\n",
    "\n",
    "# Connect with the portnumber and host\n",
    "client = MongoClient(“mongodb://localhost:27017/”)\n",
    "\n",
    "# Access database\n",
    "mydatabase = client[‘name_of_the_database’]\n",
    "\n",
    "# Access collection of the database\n",
    "mycollection=mydatabase[‘myTable’]\n",
    "\n",
    "# dictionary to be added in the database\n",
    "rec={\n",
    "title: 'MongoDB and Python',\n",
    "description: 'MongoDB is no SQL database',\n",
    "tags: ['mongodb', 'database', 'NoSQL'],\n",
    "viewers: 104\n",
    "}\n",
    "\n",
    "# inserting the data in the database\n",
    "rec = mydatabase.myTable.insert(record)\n"
   ]
  }
 ],
 "metadata": {
  "kernelspec": {
   "display_name": "Python 3 (ipykernel)",
   "language": "python",
   "name": "python3"
  },
  "language_info": {
   "codemirror_mode": {
    "name": "ipython",
    "version": 3
   },
   "file_extension": ".py",
   "mimetype": "text/x-python",
   "name": "python",
   "nbconvert_exporter": "python",
   "pygments_lexer": "ipython3",
   "version": "3.9.6"
  }
 },
 "nbformat": 4,
 "nbformat_minor": 5
}
