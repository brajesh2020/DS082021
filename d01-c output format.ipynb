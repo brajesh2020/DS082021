{
 "cells": [
  {
   "cell_type": "code",
   "execution_count": 9,
   "id": "3ce50692",
   "metadata": {},
   "outputs": [
    {
     "name": "stdout",
     "output_type": "stream",
     "text": [
      "Geeks : 102034, Portal :  5.33\n"
     ]
    }
   ],
   "source": [
    "# print integer and float value\n",
    "print(\"Geeks : %2d, Portal : %5.2f\" % (102034.333, 05.3333))\n",
    "#  %5.2f means 2 decimal places"
   ]
  },
  {
   "cell_type": "code",
   "execution_count": 8,
   "id": "5f2f424b",
   "metadata": {},
   "outputs": [
    {
     "name": "stdout",
     "output_type": "stream",
     "text": [
      "Total students : 12241, Boys : 120\n"
     ]
    }
   ],
   "source": [
    "print(\"Total students : %3d, Boys : %2d\" % (12241, 120))\n"
   ]
  },
  {
   "cell_type": "code",
   "execution_count": 10,
   "id": "5811a9b0",
   "metadata": {},
   "outputs": [
    {
     "name": "stdout",
     "output_type": "stream",
     "text": [
      " 3.561E+02\n"
     ]
    }
   ],
   "source": [
    "print(\"%10.3E\" % (356.08977))"
   ]
  },
  {
   "cell_type": "code",
   "execution_count": 11,
   "id": "a9d65bba",
   "metadata": {},
   "outputs": [],
   "source": [
    "#  %[flags][width][.precision]type \n"
   ]
  },
  {
   "cell_type": "code",
   "execution_count": 12,
   "id": "0c2819e4",
   "metadata": {},
   "outputs": [
    {
     "name": "stdout",
     "output_type": "stream",
     "text": [
      "I love Geeks for \"Geeks!\"\n",
      "Geeks and Portal\n",
      "Portal and Geeks\n",
      "I love Geeks for \"Geeks!\"\n",
      "Geeks and Portal\n"
     ]
    }
   ],
   "source": [
    "# using format() method\n",
    "print('I love {} for \"{}!\"'.format('Geeks', 'Geeks'))\n",
    " \n",
    "# using format() method and referring\n",
    "# a position of the object\n",
    "print('{0} and {1}'.format('Geeks', 'Portal'))\n",
    " \n",
    "print('{1} and {0}'.format('Geeks', 'Portal')) \n",
    " \n",
    "# the above formatting can also be done by using f-Strings\n",
    "# Although, this features work only with python 3.6 or above.\n",
    " \n",
    "print(f\"I love {'Geeks'} for \\\"{'Geeks'}!\\\"\")\n",
    " \n",
    "# using format() method and referring\n",
    "# a position of the object\n",
    "print(f\"{'Geeks'} and {'Portal'}\")"
   ]
  },
  {
   "cell_type": "code",
   "execution_count": null,
   "id": "d13a21c7",
   "metadata": {},
   "outputs": [],
   "source": []
  }
 ],
 "metadata": {
  "kernelspec": {
   "display_name": "Python 3 (ipykernel)",
   "language": "python",
   "name": "python3"
  },
  "language_info": {
   "codemirror_mode": {
    "name": "ipython",
    "version": 3
   },
   "file_extension": ".py",
   "mimetype": "text/x-python",
   "name": "python",
   "nbconvert_exporter": "python",
   "pygments_lexer": "ipython3",
   "version": "3.9.6"
  }
 },
 "nbformat": 4,
 "nbformat_minor": 5
}
