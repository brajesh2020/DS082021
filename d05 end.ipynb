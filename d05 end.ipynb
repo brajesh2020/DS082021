{
 "cells": [
  {
   "cell_type": "code",
   "execution_count": 2,
   "id": "576951fa",
   "metadata": {},
   "outputs": [
    {
     "name": "stdout",
     "output_type": "stream",
     "text": [
      "a b\n",
      "c d\n"
     ]
    }
   ],
   "source": [
    "print('a','b')\n",
    "print('c','d')"
   ]
  },
  {
   "cell_type": "code",
   "execution_count": 4,
   "id": "4902ec4e",
   "metadata": {},
   "outputs": [
    {
     "name": "stdout",
     "output_type": "stream",
     "text": [
      "a \n",
      " b\n",
      "c \n",
      " d\n"
     ]
    }
   ],
   "source": [
    "print('a \\n','b')\n",
    "print('c \\n','d')"
   ]
  },
  {
   "cell_type": "code",
   "execution_count": 6,
   "id": "8e1a5c63",
   "metadata": {},
   "outputs": [
    {
     "name": "stdout",
     "output_type": "stream",
     "text": [
      "a \n",
      " b\n",
      "c \n",
      " d\n"
     ]
    }
   ],
   "source": [
    "print('a \\n','b',end=\"\\n\")\n",
    "print('c \\n','d')"
   ]
  },
  {
   "cell_type": "code",
   "execution_count": 9,
   "id": "204ce37b",
   "metadata": {},
   "outputs": [
    {
     "name": "stdout",
     "output_type": "stream",
     "text": [
      "a \t b\tc \t d\n"
     ]
    }
   ],
   "source": [
    "print('a \\t','b',end=\"\\t\")\n",
    "print('c \\t','d')"
   ]
  },
  {
   "cell_type": "code",
   "execution_count": 10,
   "id": "86686c0c",
   "metadata": {},
   "outputs": [
    {
     "name": "stdout",
     "output_type": "stream",
     "text": [
      "a \tb\n",
      "c \td\n"
     ]
    }
   ],
   "source": [
    "print('a ','b',sep=\"\\t\")\n",
    "print('c ','d',sep=\"\\t\")"
   ]
  },
  {
   "cell_type": "code",
   "execution_count": 1,
   "id": "13a44fa5",
   "metadata": {},
   "outputs": [
    {
     "name": "stdout",
     "output_type": "stream",
     "text": [
      "Welcome to GeeksforGeeks "
     ]
    }
   ],
   "source": [
    "print(\"Welcome to\" , end = ' ') \n",
    "print(\"GeeksforGeeks\", end = ' ')"
   ]
  },
  {
   "cell_type": "code",
   "execution_count": 3,
   "id": "b3d78315",
   "metadata": {},
   "outputs": [
    {
     "name": "stdout",
     "output_type": "stream",
     "text": [
      "Welcome to\n",
      "GeeksforGeeks1 GeeksforGeeks2 "
     ]
    }
   ],
   "source": [
    "print(\"Welcome to\"  ) \n",
    "print(\"GeeksforGeeks1\", end = ' ')\n",
    "print(\"GeeksforGeeks2\", end = ' ')"
   ]
  },
  {
   "cell_type": "code",
   "execution_count": 4,
   "id": "d38c72b1",
   "metadata": {},
   "outputs": [
    {
     "name": "stdout",
     "output_type": "stream",
     "text": [
      "Python@GeeksforGeeks\n"
     ]
    }
   ],
   "source": [
    "print(\"Python\" , end = '@') \n",
    "print(\"GeeksforGeeks\")"
   ]
  },
  {
   "cell_type": "code",
   "execution_count": null,
   "id": "562f12ca",
   "metadata": {},
   "outputs": [],
   "source": [
    "print(\"one\",\"two\", end = ' ')\n",
    "\n",
    "# '%@%' regex"
   ]
  }
 ],
 "metadata": {
  "kernelspec": {
   "display_name": "Python 3 (ipykernel)",
   "language": "python",
   "name": "python3"
  },
  "language_info": {
   "codemirror_mode": {
    "name": "ipython",
    "version": 3
   },
   "file_extension": ".py",
   "mimetype": "text/x-python",
   "name": "python",
   "nbconvert_exporter": "python",
   "pygments_lexer": "ipython3",
   "version": "3.9.6"
  }
 },
 "nbformat": 4,
 "nbformat_minor": 5
}
