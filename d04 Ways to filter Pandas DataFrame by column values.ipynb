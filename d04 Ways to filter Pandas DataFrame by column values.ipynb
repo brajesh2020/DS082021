{
 "cells": [
  {
   "cell_type": "markdown",
   "id": "6de6c454",
   "metadata": {},
   "source": [
    "https://www.geeksforgeeks.org/ways-to-filter-pandas-dataframe-by-column-values/"
   ]
  },
  {
   "cell_type": "code",
   "execution_count": 1,
   "id": "1e88da78",
   "metadata": {},
   "outputs": [
    {
     "name": "stdout",
     "output_type": "stream",
     "text": [
      "Given Dataframe :\n",
      "         Name  Age    Stream  Percentage\n",
      "0      Ankit   22      Math          90\n",
      "1    Swapnil   20  Commerce          90\n",
      "2  Aishwarya   21   Science          96\n",
      "3   Priyanka   19      Math          75\n",
      "4   Shivangi   18      Math          70\n",
      "5    Shaurya   22   Science          80\n"
     ]
    }
   ],
   "source": [
    "# importing pandas \n",
    "import pandas as pd \n",
    "    \n",
    "# declare a dictionary\n",
    "record = { \n",
    "  \n",
    " 'Name' : ['Ankit', 'Swapnil', 'Aishwarya', \n",
    "          'Priyanka', 'Shivangi', 'Shaurya' ],\n",
    "    \n",
    " 'Age' : [22, 20, 21, 19, 18, 22], \n",
    "    \n",
    " 'Stream' : ['Math', 'Commerce', 'Science', \n",
    "            'Math', 'Math', 'Science'], \n",
    "    \n",
    " 'Percentage' : [90, 90, 96, 75, 70, 80] } \n",
    "    \n",
    "# create a dataframe \n",
    "dataframe = pd.DataFrame(record,\n",
    "                         columns = ['Name', 'Age', \n",
    "                                    'Stream', 'Percentage']) \n",
    "# show the Dataframe\n",
    "print(\"Given Dataframe :\\n\", dataframe)"
   ]
  },
  {
   "cell_type": "code",
   "execution_count": 2,
   "id": "c4ddd8d2",
   "metadata": {},
   "outputs": [
    {
     "name": "stdout",
     "output_type": "stream",
     "text": [
      "\n",
      "Result dataframe :\n",
      "         Name  Age    Stream  Percentage\n",
      "0      Ankit   22      Math          90\n",
      "1    Swapnil   20  Commerce          90\n",
      "2  Aishwarya   21   Science          96\n",
      "3   Priyanka   19      Math          75\n",
      "5    Shaurya   22   Science          80\n"
     ]
    }
   ],
   "source": [
    "# selecting rows based on condition \n",
    "rslt_df = dataframe[dataframe['Percentage'] > 70] \n",
    "    \n",
    "print('\\nResult dataframe :\\n', rslt_df)"
   ]
  },
  {
   "cell_type": "code",
   "execution_count": 3,
   "id": "df3b7bbf",
   "metadata": {},
   "outputs": [
    {
     "data": {
      "text/plain": [
       "['neha', '34', 'blr', '12', '34', 'ab']"
      ]
     },
     "execution_count": 3,
     "metadata": {},
     "output_type": "execute_result"
    }
   ],
   "source": [
    "# task ,\n",
    "['name','age','city','q1','q2','q3' ]\n",
    "['brajesh','12','blr','1','3','5' ]\n",
    "['prajwal','23','blr','2','4','6' ]\n",
    "['neha','34','blr','12','34','ab' ]\n",
    "\n",
    "\n",
    "# unpivot \n",
    "# so that auestion titles come in a single col and values come in another column\n",
    "# name is the primary key for unpivot\n",
    "\n",
    "# after unpivot , split it wherever the values of questions is integer to separate bucket/ dataframe \n",
    "# and rest / others in another dataframe\n",
    "\n",
    "# name\n",
    "# brajesh q1 1\n",
    "# brajesh q2 3\n",
    "# brajesh q2 3\n",
    "# brajesh q2 3\n",
    "# brajesh q2 3"
   ]
  },
  {
   "cell_type": "markdown",
   "id": "356c3e23",
   "metadata": {},
   "source": [
    "https://stackoverflow.com/questions/56243441/check-if-values-in-pandas-dataframe-column-is-integer-and-write-it-to-a-list-if"
   ]
  },
  {
   "cell_type": "markdown",
   "id": "3f828d4c",
   "metadata": {},
   "source": [
    "If \"Field1\" is a column of strings, use str.isdigit (returns True for integers only) and negate:\n",
    "\n",
    "df.loc[~df['Field1'].str.isdigit(), 'Field1'].tolist()\n",
    "\n",
    "['1.15', 'and']\n",
    "\n",
    "Alternatively, if the column contains mixed types, use\n",
    "\n",
    "df.loc[~df['Field1'].astype(str).str.isdigit(), 'Field1'].tolist()\n",
    "\n",
    "[1.15, 'and']"
   ]
  },
  {
   "cell_type": "code",
   "execution_count": null,
   "id": "95a2a5c1",
   "metadata": {},
   "outputs": [],
   "source": []
  }
 ],
 "metadata": {
  "kernelspec": {
   "display_name": "Python 3 (ipykernel)",
   "language": "python",
   "name": "python3"
  },
  "language_info": {
   "codemirror_mode": {
    "name": "ipython",
    "version": 3
   },
   "file_extension": ".py",
   "mimetype": "text/x-python",
   "name": "python",
   "nbconvert_exporter": "python",
   "pygments_lexer": "ipython3",
   "version": "3.9.6"
  }
 },
 "nbformat": 4,
 "nbformat_minor": 5
}
