{
 "cells": [
  {
   "cell_type": "code",
   "execution_count": 1,
   "id": "38ed94fc",
   "metadata": {},
   "outputs": [],
   "source": [
    "# Counters\n",
    "# OrderedDict\n",
    "# Defaultdict\n",
    "# ChainMap\n",
    "# NamedTuple\n",
    "# DeQue\n",
    "# Heap\n",
    "# Collections.UserDict\n",
    "# Collections.UserList\n",
    "# Collections.UserString"
   ]
  },
  {
   "cell_type": "code",
   "execution_count": 2,
   "id": "58813ac7",
   "metadata": {},
   "outputs": [],
   "source": [
    "# counters / container"
   ]
  },
  {
   "cell_type": "code",
   "execution_count": 7,
   "id": "1f00db91",
   "metadata": {},
   "outputs": [
    {
     "name": "stdout",
     "output_type": "stream",
     "text": [
      "Counter({'B': 6, 'A': 3, 'C': 1, 'prajwal': 1, 'nandita': 1})\n",
      "Counter({'B': 5, 'A': 4, 'C': 2})\n",
      "Counter({'B': 5, 'A': 3, 'C': 3})\n"
     ]
    }
   ],
   "source": [
    "\n",
    "# A Python program to show different ways to create\n",
    "# Counter\n",
    "\n",
    "# A Counter is a subclass of dict. Therefore it is an unordered collection where elements and their respective count\n",
    "# are stored as a dictionary. This is equivalent to a bag or multiset of other languages.\n",
    "\n",
    "from collections import Counter\n",
    "  \n",
    "# With sequence of items \n",
    "print(Counter(['B','B','B','A','B','C','A','B','B','A','prajwal','nandita'])) #'B': 6\n",
    "  \n",
    "# with dictionary\n",
    "print(Counter({'A':4, 'B':5, 'C':2})) #'A': 4\n",
    "  \n",
    "# with keyword arguments\n",
    "print(Counter(A=3, B=5, C=3)) #'C': 3"
   ]
  },
  {
   "cell_type": "code",
   "execution_count": 8,
   "id": "25f4440f",
   "metadata": {},
   "outputs": [
    {
     "name": "stdout",
     "output_type": "stream",
     "text": [
      "Counter({1: 4, 2: 3, 3: 1})\n",
      "Counter({1: 5, 2: 4, 3: 1, 4: 1})\n"
     ]
    }
   ],
   "source": [
    "\n",
    "# A Python program to demonstrate update()\n",
    "from collections import Counter\n",
    "coun = Counter()\n",
    "  \n",
    "coun.update([1, 2, 3, 1, 2, 1, 1, 2])\n",
    "print(coun) #1: 4\n",
    "  \n",
    "coun.update([1, 2, 4])\n",
    "print(coun) #1: 5"
   ]
  },
  {
   "cell_type": "code",
   "execution_count": 9,
   "id": "614b85b5",
   "metadata": {},
   "outputs": [
    {
     "name": "stdout",
     "output_type": "stream",
     "text": [
      "Counter({'C': 6, 'B': 0, 'A': -6})\n"
     ]
    }
   ],
   "source": [
    "# Python program to demonstrate that counts in \n",
    "# Counter can be 0 and negative\n",
    "from collections import Counter\n",
    "  \n",
    "c1 = Counter(A=4,  B=3, C=10)\n",
    "c2 = Counter(A=10, B=3, C=4)\n",
    "  \n",
    "c1.subtract(c2)\n",
    "print(c1)"
   ]
  },
  {
   "cell_type": "code",
   "execution_count": 10,
   "id": "1fab6dab",
   "metadata": {},
   "outputs": [
    {
     "name": "stdout",
     "output_type": "stream",
     "text": [
      "Counter({'C': 10, 'B': 0, 'A': -6})\n"
     ]
    }
   ],
   "source": [
    "# Python program to demonstrate that counts in \n",
    "# Counter can be 0 and negative\n",
    "from collections import Counter\n",
    "  \n",
    "c1 = Counter(A=4,  B=3, C=10)\n",
    "c2 = Counter(A=10, B=3 )\n",
    "  \n",
    "c1.subtract(c2)\n",
    "print(c1)"
   ]
  },
  {
   "cell_type": "code",
   "execution_count": 13,
   "id": "29466cd4",
   "metadata": {},
   "outputs": [
    {
     "name": "stdout",
     "output_type": "stream",
     "text": [
      "Counter({'C': 10})\n",
      "Counter({'A': 6, 'D': 4})\n",
      "Counter({'A': 14, 'C': 10, 'B': 6, 'D': 4})\n"
     ]
    }
   ],
   "source": [
    "# Python program to demonstrate that counts in \n",
    "# Counter can be 0 and negative\n",
    "from collections import Counter\n",
    "  \n",
    "c1 = Counter(A=4,  B=3, C=10)\n",
    "c2 = Counter(A=10, B=3,D=4 )\n",
    "  \n",
    "print(c1-c2)  # if the object wise difference is positive , then only show those objects\n",
    "print(c2-c1)  \n",
    "print(c1+c2)  #a:14, b:6,c:10,d:4"
   ]
  },
  {
   "cell_type": "code",
   "execution_count": 14,
   "id": "5831ba7b",
   "metadata": {},
   "outputs": [],
   "source": [
    "# OrderedDict "
   ]
  },
  {
   "cell_type": "code",
   "execution_count": 17,
   "id": "131ad68c",
   "metadata": {},
   "outputs": [
    {
     "name": "stdout",
     "output_type": "stream",
     "text": [
      "This is a Dict:\n",
      "\n",
      "a 1\n",
      "z 2\n",
      "c 13\n",
      "d 4\n",
      "\n",
      "This is an Ordered Dict:\n",
      "\n",
      "a 1\n",
      "z 2\n",
      "c 13\n",
      "d 4\n"
     ]
    }
   ],
   "source": [
    "\n",
    "# A Python program to demonstrate working of OrderedDict\n",
    "from collections import OrderedDict\n",
    " \n",
    "print(\"This is a Dict:\\n\")\n",
    "d = {}\n",
    "d['a'] = 1\n",
    "d['z'] = 2\n",
    "d['c'] = 13\n",
    "d['d'] = 4\n",
    " \n",
    "for key, value in d.items():\n",
    "    print(key, value)\n",
    " \n",
    "print(\"\\nThis is an Ordered Dict:\\n\")\n",
    "od = OrderedDict()\n",
    "od['a'] = 1\n",
    "od['z'] = 2\n",
    "od['c'] = 13\n",
    "od['d'] = 4\n",
    " \n",
    "for key, value in od.items():\n",
    "    print(key, value)"
   ]
  },
  {
   "cell_type": "code",
   "execution_count": 18,
   "id": "92b84b17",
   "metadata": {},
   "outputs": [
    {
     "name": "stdout",
     "output_type": "stream",
     "text": [
      "Before:\n",
      "\n",
      "a 1\n",
      "b 2\n",
      "c 3\n",
      "d 4\n",
      "\n",
      "After:\n",
      "\n",
      "a 1\n",
      "b 2\n",
      "c 5\n",
      "d 4\n"
     ]
    }
   ],
   "source": [
    "\n",
    "# A Python program to demonstrate working of key\n",
    "# value change in OrderedDict\n",
    "from collections import OrderedDict\n",
    " \n",
    "print(\"Before:\\n\")\n",
    "od = OrderedDict()\n",
    "od['a'] = 1\n",
    "od['b'] = 2\n",
    "od['c'] = 3\n",
    "od['d'] = 4\n",
    "for key, value in od.items():\n",
    "    print(key, value)\n",
    " \n",
    "print(\"\\nAfter:\\n\")\n",
    "od['c'] = 5\n",
    "for key, value in od.items():\n",
    "    print(key, value)"
   ]
  },
  {
   "cell_type": "code",
   "execution_count": 21,
   "id": "cd97c510",
   "metadata": {},
   "outputs": [
    {
     "name": "stdout",
     "output_type": "stream",
     "text": [
      "Before:\n",
      "\n",
      "a 1\n",
      "b 2\n",
      "c 3\n",
      "d 4\n",
      "after pop OrderedDict([('a', 1), ('b', 2), ('d', 4)])\n",
      "\n",
      "After:\n",
      "\n",
      "a 1\n",
      "b 2\n",
      "d 4\n",
      "c 5\n"
     ]
    }
   ],
   "source": [
    "\n",
    "# A Python program to demonstrate working of key\n",
    "# value change in OrderedDict\n",
    "from collections import OrderedDict\n",
    " \n",
    "print(\"Before:\\n\")\n",
    "od = OrderedDict()\n",
    "od['a'] = 1\n",
    "od['b'] = 2\n",
    "od['c'] = 3\n",
    "od['d'] = 4\n",
    "for key, value in od.items():\n",
    "    print(key, value)\n",
    "\n",
    "# delete od['a']\n",
    "# od.drop('a') #AttributeError: 'collections.OrderedDict' object has no attribute 'drop'\n",
    "\n",
    "od.pop('c')\n",
    "\n",
    "print('after pop',od)\n",
    "print(\"\\nAfter:\\n\")\n",
    "od['c'] = 5\n",
    "for key, value in od.items():\n",
    "    print(key, value)"
   ]
  },
  {
   "cell_type": "code",
   "execution_count": 23,
   "id": "8428caf8",
   "metadata": {},
   "outputs": [
    {
     "name": "stdout",
     "output_type": "stream",
     "text": [
      "1\n",
      "2\n",
      "Not Present\n"
     ]
    }
   ],
   "source": [
    "# Python program to demonstrate\n",
    "# defaultdict\n",
    " \n",
    " \n",
    "from collections import defaultdict\n",
    " \n",
    " \n",
    "# Function to return a default\n",
    "# values for keys that is not\n",
    "# present\n",
    "def def_value():\n",
    "    return \"Not Present\"\n",
    "     \n",
    "# Defining the dict\n",
    "d = defaultdict(def_value)\n",
    "d[\"a\"] = 1\n",
    "d[\"b\"] = 2\n",
    " \n",
    "print(d[\"a\"])\n",
    "print(d[\"b\"])\n",
    "print(d[\"c\"])\n",
    "\n",
    "# to print c object name together with the comment \"Not Present\" by updating the function\n",
    "# output should be like ?>>> c,Not present"
   ]
  },
  {
   "cell_type": "code",
   "execution_count": 28,
   "id": "9117faaf",
   "metadata": {},
   "outputs": [
    {
     "name": "stdout",
     "output_type": "stream",
     "text": [
      "Not Present\n",
      "Not Present\n"
     ]
    }
   ],
   "source": [
    "# Python program to demonstrate\n",
    "# defaultdict\n",
    " \n",
    "#  __missing__(): This function is used to provide the default value for the dictionary. \n",
    "# This function takes default_factory as an argument and if this argument is None, a KeyError is raised otherwise\n",
    "# it provides a default value for the given key. This method is basically called by the __getitem__() \n",
    "# method of the dict class when the requested key is not found. __getitem__() raises or return the value returned \n",
    "# by the __missing__(). method.\n",
    "\n",
    "from collections import defaultdict\n",
    " \n",
    "     \n",
    "# Defining the dict\n",
    "d = defaultdict(lambda: \"Not Present\")\n",
    "d[\"a\"] = 1\n",
    "d[\"b\"] = 2\n",
    " \n",
    "# Provides the default value\n",
    "# for the key\n",
    "print(d.__missing__('a'))\n",
    "print(d.__missing__('d'))\n",
    "\n",
    "# need to discuss again"
   ]
  },
  {
   "cell_type": "code",
   "execution_count": 29,
   "id": "83dbdfc0",
   "metadata": {},
   "outputs": [],
   "source": [
    "# ChainMap\n",
    "# NamedTuple\n",
    "# DeQue\n",
    "# Heap\n",
    "# Collections.UserDict\n",
    "# Collections.UserList\n",
    "# Collections.UserString"
   ]
  },
  {
   "cell_type": "code",
   "execution_count": 30,
   "id": "3e451345",
   "metadata": {},
   "outputs": [],
   "source": [
    "# numpy\n",
    "# pandas\n",
    "# modules"
   ]
  },
  {
   "cell_type": "code",
   "execution_count": null,
   "id": "c09871ff",
   "metadata": {},
   "outputs": [],
   "source": []
  }
 ],
 "metadata": {
  "kernelspec": {
   "display_name": "Python 3 (ipykernel)",
   "language": "python",
   "name": "python3"
  },
  "language_info": {
   "codemirror_mode": {
    "name": "ipython",
    "version": 3
   },
   "file_extension": ".py",
   "mimetype": "text/x-python",
   "name": "python",
   "nbconvert_exporter": "python",
   "pygments_lexer": "ipython3",
   "version": "3.9.6"
  }
 },
 "nbformat": 4,
 "nbformat_minor": 5
}
