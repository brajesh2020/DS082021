{
 "cells": [
  {
   "cell_type": "markdown",
   "id": "39e2ecd5",
   "metadata": {},
   "source": [
    "Numpy is a general-purpose array-processing package. It provides a high-performance multidimensional array object, and tools for working with these arrays. It is the fundamental package for scientific computing with Python.\n"
   ]
  },
  {
   "cell_type": "code",
   "execution_count": 1,
   "id": "e0dcf8b9",
   "metadata": {},
   "outputs": [],
   "source": [
    "import numpy as np\n"
   ]
  },
  {
   "cell_type": "code",
   "execution_count": 2,
   "id": "38880794",
   "metadata": {},
   "outputs": [
    {
     "name": "stdout",
     "output_type": "stream",
     "text": [
      "Requirement already satisfied: numpy in d:\\python\\lib\\site-packages (1.21.1)\n"
     ]
    }
   ],
   "source": [
    "!pip install numpy"
   ]
  },
  {
   "cell_type": "markdown",
   "id": "e3c815ec",
   "metadata": {},
   "source": [
    "Arrays in Numpy\n"
   ]
  },
  {
   "cell_type": "code",
   "execution_count": 3,
   "id": "653d9bf9",
   "metadata": {},
   "outputs": [
    {
     "name": "stdout",
     "output_type": "stream",
     "text": [
      "Array with Rank 1: \n",
      " [1 2 3]\n",
      "Array with Rank 2: \n",
      " [[1 2 3]\n",
      " [4 5 6]]\n",
      "\n",
      "Array created using passed tuple:\n",
      " [1 3 2]\n"
     ]
    }
   ],
   "source": [
    "# Python program for\n",
    "# Creation of Arrays\n",
    "import numpy as np\n",
    " \n",
    "# Creating a rank 1 Array\n",
    "arr = np.array([1, 2, 3])\n",
    "print(\"Array with Rank 1: \\n\",arr)\n",
    " \n",
    "# Creating a rank 2 Array\n",
    "arr = np.array([[1, 2, 3],\n",
    "                [4, 5, 6]])\n",
    "print(\"Array with Rank 2: \\n\", arr)\n",
    " \n",
    "# Creating an array from tuple\n",
    "arr = np.array((1, 3, 2))\n",
    "print(\"\\nArray created using \"\n",
    "      \"passed tuple:\\n\", arr)"
   ]
  },
  {
   "cell_type": "markdown",
   "id": "6594b5c0",
   "metadata": {},
   "source": [
    "Accessing the array Index\n"
   ]
  },
  {
   "cell_type": "code",
   "execution_count": 4,
   "id": "c1dc81ee",
   "metadata": {},
   "outputs": [
    {
     "name": "stdout",
     "output_type": "stream",
     "text": [
      "Initial Array: \n",
      "[[-1.   2.   0.   4. ]\n",
      " [ 4.  -0.5  6.   0. ]\n",
      " [ 2.6  0.   7.   8. ]\n",
      " [ 3.  -7.   4.   2. ]]\n",
      "Array with first 2 rows and alternate columns(0 and 2):\n",
      " [[-1.  0.]\n",
      " [ 4.  6.]]\n",
      "\n",
      "Elements at indices (1, 3), (1, 2), (0, 1), (3, 0):\n",
      " [0. 6. 2. 3.]\n"
     ]
    }
   ],
   "source": [
    "# Python program to demonstrate\n",
    "# indexing in numpy array\n",
    "import numpy as np\n",
    " \n",
    "# Initial Array\n",
    "arr = np.array([[-1, 2, 0, 4],\n",
    "                [4, -0.5, 6, 0],\n",
    "                [2.6, 0, 7, 8],\n",
    "                [3, -7, 4, 2.0]])\n",
    "print(\"Initial Array: \")\n",
    "print(arr)\n",
    " \n",
    "# Printing a range of Array\n",
    "# with the use of slicing method\n",
    "sliced_arr = arr[:2, ::2]\n",
    "print (\"Array with first 2 rows and\"\n",
    "    \" alternate columns(0 and 2):\\n\", sliced_arr)\n",
    " \n",
    "# Printing elements at\n",
    "# specific Indices\n",
    "Index_arr = arr[[1, 1, 0, 3], \n",
    "                [3, 2, 1, 0]]\n",
    "print (\"\\nElements at indices (1, 3), \"\n",
    "    \"(1, 2), (0, 1), (3, 0):\\n\", Index_arr)"
   ]
  },
  {
   "cell_type": "markdown",
   "id": "f6199a7c",
   "metadata": {},
   "source": [
    "Basic Array Operations\n"
   ]
  },
  {
   "cell_type": "code",
   "execution_count": 6,
   "id": "2c33f441",
   "metadata": {},
   "outputs": [
    {
     "name": "stdout",
     "output_type": "stream",
     "text": [
      "Adding 1 to every element: [[2 3]\n",
      " [4 5]]\n",
      "\n",
      "Subtracting 2 from each element: [[ 2  1]\n",
      " [ 0 -1]]\n",
      "\n",
      "Sum of all array elements:  10\n",
      "\n",
      "Array sum:\n",
      " [[5 5]\n",
      " [5 5]]\n"
     ]
    }
   ],
   "source": [
    "# Python program to demonstrate\n",
    "# basic operations on single array\n",
    "import numpy as np\n",
    " \n",
    "# Defining Array 1\n",
    "a = np.array([[1, 2],\n",
    "              [3, 4]])\n",
    " \n",
    "# Defining Array 2\n",
    "b = np.array([[4, 3],\n",
    "              [2, 1]])\n",
    "               \n",
    "# Adding 1 to every element\n",
    "print (\"Adding 1 to every element:\", a + 1)\n",
    " \n",
    "# Subtracting 2 from each element\n",
    "print (\"\\nSubtracting 2 from each element:\", b - 2)\n",
    " \n",
    "# sum of array elements\n",
    "# Performing Unary operations\n",
    "print (\"\\nSum of all array \"\n",
    "       \"elements: \", a.sum())\n",
    " \n",
    "# Adding two arrays\n",
    "# Performing Binary operations\n",
    "print (\"\\nArray sum:\\n\", a + b)"
   ]
  },
  {
   "cell_type": "code",
   "execution_count": 8,
   "id": "4dace315",
   "metadata": {},
   "outputs": [],
   "source": [
    "# homework , create a calculator using array and input values\n",
    "# remember each of previous 10 transactions using heap and show them on pressing some option"
   ]
  },
  {
   "cell_type": "markdown",
   "id": "05c63e3f",
   "metadata": {},
   "source": [
    "Data Types in Numpy\n"
   ]
  },
  {
   "cell_type": "code",
   "execution_count": 10,
   "id": "ce5b7326",
   "metadata": {},
   "outputs": [
    {
     "name": "stdout",
     "output_type": "stream",
     "text": [
      "Integer Datatype: \n",
      "int32\n",
      "\n",
      "Float Datatype: \n",
      "float64\n",
      "\n",
      "Forcing a Datatype: \n",
      "int64\n",
      "\n",
      "Float Datatype: Forcing a Datatype:int64\n",
      "int64\n"
     ]
    }
   ],
   "source": [
    "# Python Program to create\n",
    "# a data type object\n",
    "import numpy as np\n",
    " \n",
    "# Integer datatype\n",
    "# guessed by Numpy\n",
    "x = np.array([1, 2])  \n",
    "print(\"Integer Datatype: \")\n",
    "print(x.dtype)         \n",
    " \n",
    "# Float datatype\n",
    "# guessed by Numpy\n",
    "x = np.array([1.0, 2.0]) \n",
    "print(\"\\nFloat Datatype: \")\n",
    "print(x.dtype)  \n",
    " \n",
    "# Forced Datatype\n",
    "x = np.array([1, 2], dtype = np.int64)   \n",
    "print(\"\\nForcing a Datatype: \")\n",
    "print(x.dtype)\n",
    "\n",
    "x = np.array([1.0, 2.0], dtype = np.int64) \n",
    "print(\"\\nFloat Datatype: Forcing a Datatype:int64\")\n",
    "print(x.dtype)  "
   ]
  },
  {
   "cell_type": "markdown",
   "id": "fc2a1e03",
   "metadata": {},
   "source": [
    "Math Operations on DataType array\n"
   ]
  },
  {
   "cell_type": "code",
   "execution_count": 11,
   "id": "b28ed0ab",
   "metadata": {},
   "outputs": [
    {
     "name": "stdout",
     "output_type": "stream",
     "text": [
      "Addition of Two Arrays: \n",
      "[[ 7. 13.]\n",
      " [ 4. 14.]]\n",
      "\n",
      "Addition of Array elements: \n",
      "19.0\n",
      "\n",
      "Square root of Array1 elements: \n",
      "[[2.         2.64575131]\n",
      " [1.41421356 2.44948974]]\n",
      "\n",
      "Transpose of Array: \n",
      "[[4. 2.]\n",
      " [7. 6.]]\n"
     ]
    }
   ],
   "source": [
    "# Python Program to create\n",
    "# a data type object\n",
    "import numpy as np\n",
    " \n",
    "# First Array\n",
    "arr1 = np.array([[4, 7], [2, 6]], \n",
    "                 dtype = np.float64)\n",
    "                  \n",
    "# Second Array\n",
    "arr2 = np.array([[3, 6], [2, 8]], \n",
    "                 dtype = np.float64) \n",
    " \n",
    "# Addition of two Arrays\n",
    "Sum = np.add(arr1, arr2)\n",
    "print(\"Addition of Two Arrays: \")\n",
    "print(Sum)\n",
    " \n",
    "# Addition of all Array elements\n",
    "# using predefined sum method\n",
    "Sum1 = np.sum(arr1)\n",
    "print(\"\\nAddition of Array elements: \")\n",
    "print(Sum1)\n",
    " \n",
    "# Square root of Array\n",
    "Sqrt = np.sqrt(arr1)\n",
    "print(\"\\nSquare root of Array1 elements: \")\n",
    "print(Sqrt)\n",
    " \n",
    "# Transpose of Array\n",
    "# using In-built function 'T'\n",
    "Trans_arr = arr1.T\n",
    "print(\"\\nTranspose of Array: \")\n",
    "print(Trans_arr)\n",
    "\n"
   ]
  },
  {
   "cell_type": "markdown",
   "id": "9611c57b",
   "metadata": {},
   "source": [
    "Methods in Numpy\n",
    "all()\n",
    "any()\n",
    "take()\n",
    "put()\n",
    "apply_along_axis()\n",
    "apply_over_axes()\n",
    "argmin()\n",
    "argmax()\n",
    "nanargmin()\n",
    "nanargmax()\n",
    "amax()\n",
    "amin()\n",
    "insert()\n",
    "delete()\n",
    "append()\n",
    "around()\n",
    "flip()\n",
    "fliplr()\n",
    "flipud()\n",
    "triu()\n",
    "tril()\n",
    "tri()\n",
    "empty()\n",
    "empty_like()\n",
    "zeros()\n",
    "zeros_like()\n",
    "ones()\n",
    "ones_like()\n",
    "full_like()\n",
    "diag()\n",
    "diagflat()\n",
    "diag_indices()\n",
    "asmatrix()\n",
    "bmat()\n",
    "eye()\n",
    "roll()\n",
    "identity()\n",
    "arange()\n",
    "place()\n",
    "extract()\n",
    "compress()\n",
    "rot90()\n",
    "tile()\n",
    "reshape()\n",
    "ravel()\n",
    "isinf()\n",
    "isrealobj()\n",
    "isscalar()\n",
    "isneginf()\n",
    "isposinf()\n",
    "iscomplex()\n",
    "isnan()\n",
    "iscomplexobj()\n",
    "isreal()\n",
    "isfinite()\n",
    "isfortran()\n",
    "exp()\n",
    "exp2()\n",
    "fix()\n",
    "hypot()\n",
    "absolute()\n",
    "ceil()\n",
    "floor()\n",
    "degrees()\n",
    "radians()\n",
    "npv()\n",
    "fv()\n",
    "pv()\n",
    "power()\n",
    "float_power()\n",
    "log()\n",
    "log1()\n",
    "log2()\n",
    "log10()\n",
    "dot()\n",
    "vdot()\n",
    "trunc()\n",
    "divide()\n",
    "floor_divide()\n",
    "true_divide()\n",
    "random.rand()\n",
    "random.randn()\n",
    "ndarray.flat()\n",
    "expm1()\n",
    "bincount()\n",
    "rint()\n",
    "equal()\n",
    "not_equal()\n",
    "less()\n",
    "less_equal()\n",
    "greater()\n",
    "greater_equal()\n",
    "prod()\n",
    "square()\n",
    "cbrt()\n",
    "logical_or()\n",
    "logical_and()\n",
    "logical_not()\n",
    "logical_xor()\n",
    "array_equal()\n",
    "array_equiv()\n",
    "sin()\n",
    "cos()\n",
    "tan()\n",
    "sinh()\n",
    "cosh()\n",
    "tanh()\n",
    "arcsin()\n",
    "arccos()\n",
    "arctan()\n",
    "arctan2()"
   ]
  },
  {
   "cell_type": "code",
   "execution_count": 12,
   "id": "3be474c8",
   "metadata": {},
   "outputs": [],
   "source": [
    "# np.dataframe not possible\n",
    "# pandas.DataFrame possible"
   ]
  },
  {
   "cell_type": "code",
   "execution_count": null,
   "id": "4274885e",
   "metadata": {},
   "outputs": [],
   "source": [
    "# Numpy | ndarray\n",
    "# Numpy | Array Creation\n",
    "# Numpy | Data Type Objects\n",
    "# Data type Object (dtype) in NumPy\n",
    "# Numpy | Indexing\n",
    "# Numpy | Basic Slicing and Advanced Indexing\n",
    "# Numpy | Iterating Over Array\n",
    "# Numpy | Binary Operations\n",
    "# Numpy | Linear Algebra\n",
    "# Numpy | Sorting, Searching and Counting"
   ]
  }
 ],
 "metadata": {
  "kernelspec": {
   "display_name": "Python 3 (ipykernel)",
   "language": "python",
   "name": "python3"
  },
  "language_info": {
   "codemirror_mode": {
    "name": "ipython",
    "version": 3
   },
   "file_extension": ".py",
   "mimetype": "text/x-python",
   "name": "python",
   "nbconvert_exporter": "python",
   "pygments_lexer": "ipython3",
   "version": "3.9.6"
  }
 },
 "nbformat": 4,
 "nbformat_minor": 5
}
