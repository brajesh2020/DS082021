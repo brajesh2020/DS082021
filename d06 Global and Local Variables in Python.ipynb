{
 "cells": [
  {
   "cell_type": "code",
   "execution_count": null,
   "id": "e6ddd97f",
   "metadata": {},
   "outputs": [],
   "source": [
    "# global and local variables\n",
    "\n",
    "a=10\n",
    "print(1,a)\n",
    "def fun1(): \n",
    "    print(2,a)\n",
    "    def fun2(): \n",
    "        print(3,a)\n",
    "        def fun3(): \n",
    "            print(4,a)         \n",
    "fun1()"
   ]
  },
  {
   "cell_type": "code",
   "execution_count": 9,
   "id": "9fd8d0ac",
   "metadata": {},
   "outputs": [
    {
     "name": "stdout",
     "output_type": "stream",
     "text": [
      "1 10\n",
      "2 11\n",
      "3 12\n",
      "4 13\n"
     ]
    }
   ],
   "source": [
    "# global and local variables\n",
    "\n",
    "a=10\n",
    "print(1,a)\n",
    "def fun1():\n",
    "#     a1=11\n",
    "    print(2,a)\n",
    "    def fun2():\n",
    "#         a=12\n",
    "        print(3,a)\n",
    "        def fun3():\n",
    "#             a=13\n",
    "            print(4,a)    \n",
    "#         fun3()\n",
    "#     fun2()\n",
    "    \n",
    "fun1()\n"
   ]
  },
  {
   "cell_type": "code",
   "execution_count": 11,
   "id": "9314f113",
   "metadata": {},
   "outputs": [
    {
     "name": "stdout",
     "output_type": "stream",
     "text": [
      "1 10\n",
      "2 11\n"
     ]
    },
    {
     "ename": "NameError",
     "evalue": "name 'fun2' is not defined",
     "output_type": "error",
     "traceback": [
      "\u001b[1;31m---------------------------------------------------------------------------\u001b[0m",
      "\u001b[1;31mNameError\u001b[0m                                 Traceback (most recent call last)",
      "\u001b[1;32m~\\AppData\\Local\\Temp/ipykernel_4872/2004144624.py\u001b[0m in \u001b[0;36m<module>\u001b[1;34m\u001b[0m\n\u001b[0;32m     16\u001b[0m \u001b[1;33m\u001b[0m\u001b[0m\n\u001b[0;32m     17\u001b[0m \u001b[0mfun1\u001b[0m\u001b[1;33m(\u001b[0m\u001b[1;33m)\u001b[0m\u001b[1;33m\u001b[0m\u001b[1;33m\u001b[0m\u001b[0m\n\u001b[1;32m---> 18\u001b[1;33m \u001b[0mfun2\u001b[0m\u001b[1;33m(\u001b[0m\u001b[1;33m)\u001b[0m \u001b[1;31m#gives error why\u001b[0m\u001b[1;33m\u001b[0m\u001b[1;33m\u001b[0m\u001b[0m\n\u001b[0m\u001b[0;32m     19\u001b[0m \u001b[0mfun3\u001b[0m\u001b[1;33m(\u001b[0m\u001b[1;33m)\u001b[0m \u001b[1;31m#gives error why\u001b[0m\u001b[1;33m\u001b[0m\u001b[1;33m\u001b[0m\u001b[0m\n",
      "\u001b[1;31mNameError\u001b[0m: name 'fun2' is not defined"
     ]
    }
   ],
   "source": [
    "# global and local variables\n",
    "\n",
    "a=10\n",
    "print(1,a)\n",
    "def fun1():\n",
    "    a=11 # if we declare it , it goes to all below functions, else the values 10 goes everywhere\n",
    "    print(2,a)\n",
    "    def fun2():\n",
    "        a=12  # if we declare it , it goes to all below functions, else the values 11 goes everywhere\n",
    "        print(3,a)\n",
    "        def fun3():\n",
    "            a=13  # if we declare it , it goes to all below functions, else the values 12 goes everywhere\n",
    "            print(4,a)    \n",
    "#         fun3()\n",
    "#     fun2()\n",
    "    \n",
    "fun1()\n",
    "fun2() #gives error why\n",
    "fun3() #gives error why"
   ]
  },
  {
   "cell_type": "code",
   "execution_count": null,
   "id": "73d1d431",
   "metadata": {},
   "outputs": [],
   "source": []
  }
 ],
 "metadata": {
  "kernelspec": {
   "display_name": "Python 3 (ipykernel)",
   "language": "python",
   "name": "python3"
  },
  "language_info": {
   "codemirror_mode": {
    "name": "ipython",
    "version": 3
   },
   "file_extension": ".py",
   "mimetype": "text/x-python",
   "name": "python",
   "nbconvert_exporter": "python",
   "pygments_lexer": "ipython3",
   "version": "3.9.6"
  }
 },
 "nbformat": 4,
 "nbformat_minor": 5
}
