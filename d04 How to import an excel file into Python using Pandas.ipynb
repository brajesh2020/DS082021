{
 "cells": [
  {
   "cell_type": "markdown",
   "id": "ca43c397",
   "metadata": {},
   "source": [
    "https://www.geeksforgeeks.org/how-to-import-an-excel-file-into-python-using-pandas/"
   ]
  },
  {
   "cell_type": "markdown",
   "id": "726de553",
   "metadata": {},
   "source": [
    "https://www.mca.gov.in/content/mca/global/en/data-and-reports/company-llp-info/incorporated-closed-month.html"
   ]
  },
  {
   "cell_type": "code",
   "execution_count": 6,
   "id": "c7ba8002",
   "metadata": {},
   "outputs": [
    {
     "name": "stdout",
     "output_type": "stream",
     "text": [
      "      S.No                    CIN  \\\n",
      "0        1  U01100AP2016PTC103079   \n",
      "1        2  U01100AP2016PTC103080   \n",
      "2        3  U01100AP2016PTC103110   \n",
      "3        4  U01100BR2016PTC031401   \n",
      "4        5  U01100BR2016PTC031425   \n",
      "...    ...                    ...   \n",
      "3989  3990  U93093DL2016PTC298373   \n",
      "3990  3991  U93093MH2016PTC280403   \n",
      "3991  3992  U93095DL2016OPC298840   \n",
      "3992  3993  U93095DL2016PTC298518   \n",
      "3993  3994  U93098DL2016PTC298786   \n",
      "\n",
      "                                           COMPANY NAME DATE OF REGISTRATION  \\\n",
      "0             UPPADA FISHERIES PRODUCER COMPANYLIMITED            19/04/2016   \n",
      "1                             77 FARMS PRIVATE LIMITED            19/04/2016   \n",
      "2     IRP AGROIRP AGRO INDUSTRIES PRIVATE LIMITEDIRP...           27/04/2016   \n",
      "3           AMIT AGRITECH AND EDUCATION PRIVATELIMITED            23/04/2016   \n",
      "4     KOSHI NAV AKANSHAKOSHI NAV AKANSHA AGRO PRODUC...           27/04/2016   \n",
      "...                                                 ...                  ...   \n",
      "3989              UNIVERSE HOSPITALITY PRIVATE LIMITED            23/04/2016   \n",
      "3990  DHOBI AAYA LAUNDRYDHOBI AAYA LAUNDRY PRIVATE L...           30/04/2016   \n",
      "3991  LILIES CONCEPTLILIES CONCEPT (OPC) PRIVATE LIM...           30/04/2016   \n",
      "3992                      CAREERBAKERS PRIVATE LIMITED            26/04/2016   \n",
      "3993  ARTKONNECTARTKONNECT MANAGEMENT PRIVATE LIMITE...           30/04/2016   \n",
      "\n",
      "     MONTH NAME           STATE              ROC                 CLASS  \\\n",
      "0         April  Andhra Pradesh  ROC - HYDERABAD               Private   \n",
      "1         April  Andhra Pradesh  ROC - HYDERABAD               Private   \n",
      "2         April  Andhra Pradesh  ROC - HYDERABAD               Private   \n",
      "3         April           Bihar      ROC - PATNA               Private   \n",
      "4         April           Bihar      ROC - PATNA               Private   \n",
      "...         ...             ...              ...                   ...   \n",
      "3989      April           Delhi      ROC - DELHI               Private   \n",
      "3990      April     Maharashtra     ROC - MUMBAI               Private   \n",
      "3991      April           Delhi      ROC - DELHI  Private(One Person C   \n",
      "3992      April           Delhi      ROC - DELHI               Private   \n",
      "3993      April           Delhi      ROC - DELHI               Private   \n",
      "\n",
      "     COMPANY STATUS    COMPANY TYPE                   CATEGORY  ACTIVITY CODE  \\\n",
      "0            Active  Non-Government  Company limited by Shares           1100   \n",
      "1            Active  Non-Government  Company limited by Shares           1100   \n",
      "2            Active  Non-Government  Company limited by Shares           1100   \n",
      "3            Active  Non-Government  Company limited by Shares           1100   \n",
      "4            Active  Non-Government  Company limited by Shares           1100   \n",
      "...             ...             ...                        ...            ...   \n",
      "3989         Active  Non-Government  Company limited by Shares          93093   \n",
      "3990         Active  Non-Government  Company limited by Shares          93093   \n",
      "3991         Active  Non-Government  Company limited by Shares          93095   \n",
      "3992         Active  Non-Government  Company limited by Shares          93095   \n",
      "3993         Active  Non-Government  Company limited by Shares          93098   \n",
      "\n",
      "                       ACTIVITY DESCRIPTION  \\\n",
      "0         Agriculture and Allied Activities   \n",
      "1         Agriculture and Allied Activities   \n",
      "2         Agriculture and Allied Activities   \n",
      "3         Agriculture and Allied Activities   \n",
      "4         Agriculture and Allied Activities   \n",
      "...                                     ...   \n",
      "3989  Community, personal & Social Services   \n",
      "3990  Community, personal & Social Services   \n",
      "3991  Community, personal & Social Services   \n",
      "3992  Community, personal & Social Services   \n",
      "3993  Community, personal & Social Services   \n",
      "\n",
      "                              REGISTERED OFFICE ADDRESS  \n",
      "0     UPPADA FISHERIES PRODUCER COMPANY ,LIMITED ,Pe...  \n",
      "1     77 FARMS PRIVATE LIMITED ,SANTHANUALAPADU ,11-...  \n",
      "2     IRP AGRO INDUSTRIES PRIVATE LIMITED ,SAI BABA ...  \n",
      "3     AMIT AGRITECH AND EDUCATION PRIVATE ,LIMITED ,...  \n",
      "4     KOSHI NAV AKANSHA AGRO PRODUCER COMPANY ,LIMIT...  \n",
      "...                                                 ...  \n",
      "3989  UNIVERSE HOSPITALITY PRIVATE LIMITED ,BAZAR SI...  \n",
      "3990  DHOBI AAYA LAUNDRY PRIVATE LIMITED ,KHARGHAR ,...  \n",
      "3991  LILIES CONCEPT (OPC) PRIVATE LIMITED ,NEAR IIT...  \n",
      "3992  CAREERBAKERS PRIVATE LIMITED ,WORLD TRADE CENT...  \n",
      "3993  ARTKONNECT MANAGEMENT PRIVATE LIMITED ,N-24, S...  \n",
      "\n",
      "[3994 rows x 14 columns]\n"
     ]
    }
   ],
   "source": [
    "import pandas as pd\n",
    "  \n",
    "df = pd.read_excel(\"D://companies_registration//data//all//eir_April2016.xlsx\",sheet_name=0,header=0)\n",
    "print(df)"
   ]
  },
  {
   "cell_type": "code",
   "execution_count": 2,
   "id": "94f7cc9c",
   "metadata": {},
   "outputs": [],
   "source": [
    "# 1 to capture all data from all sheets all files into data frame for same kind of data\n"
   ]
  },
  {
   "cell_type": "code",
   "execution_count": null,
   "id": "95519dc1",
   "metadata": {},
   "outputs": [],
   "source": []
  }
 ],
 "metadata": {
  "kernelspec": {
   "display_name": "Python 3 (ipykernel)",
   "language": "python",
   "name": "python3"
  },
  "language_info": {
   "codemirror_mode": {
    "name": "ipython",
    "version": 3
   },
   "file_extension": ".py",
   "mimetype": "text/x-python",
   "name": "python",
   "nbconvert_exporter": "python",
   "pygments_lexer": "ipython3",
   "version": "3.9.6"
  }
 },
 "nbformat": 4,
 "nbformat_minor": 5
}
