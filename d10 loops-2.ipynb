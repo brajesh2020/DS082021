{
 "cells": [
  {
   "cell_type": "code",
   "execution_count": 2,
   "id": "50c812ef",
   "metadata": {},
   "outputs": [],
   "source": [
    "# while  else\n",
    "# for\n",
    "# do while\n",
    "# if else elif\n",
    "# try except finally\n",
    "# break pass continue"
   ]
  },
  {
   "cell_type": "code",
   "execution_count": 5,
   "id": "779e4968",
   "metadata": {},
   "outputs": [
    {
     "name": "stdout",
     "output_type": "stream",
     "text": [
      "Hello before 0\n",
      "Hello after 1\n",
      "Hello before 1\n",
      "Hello after 2\n",
      "Hello before 2\n",
      "Hello after 3\n"
     ]
    }
   ],
   "source": [
    "# while loop\n",
    "count = 0\n",
    "while (count < 3 ):   #\"and count is between 4 and 6\" no overlap with \"count<3\"\n",
    "    print(\"Hello before\",count)\n",
    "    count = count + 1\n",
    "    print(\"Hello after\",count)"
   ]
  },
  {
   "cell_type": "code",
   "execution_count": 7,
   "id": "e8dad36b",
   "metadata": {},
   "outputs": [
    {
     "name": "stdout",
     "output_type": "stream",
     "text": [
      "Hello before 0\n",
      "Hello after 1\n",
      "Hello before 1\n",
      "Hello after 2\n",
      "Hello before 2\n",
      "Hello after 3\n",
      "hello else before 3\n",
      "hello else after 3\n"
     ]
    }
   ],
   "source": [
    "# while loop\n",
    "count = 0\n",
    "while (count < 3 ):   #\"and count is between 4 and 6\" no overlap with \"count<3\"\n",
    "    print(\"Hello before\",count)\n",
    "    count = count + 1\n",
    "    print(\"Hello after\",count)\n",
    "else:\n",
    "    print(\"hello else before\",count)\n",
    "    if count >4:\n",
    "        pass\n",
    "    print(\"hello else after\",count)"
   ]
  },
  {
   "cell_type": "code",
   "execution_count": 10,
   "id": "30c7226d",
   "metadata": {},
   "outputs": [
    {
     "name": "stdout",
     "output_type": "stream",
     "text": [
      "enter a stringa\n"
     ]
    },
    {
     "ename": "ValueError",
     "evalue": "invalid literal for int() with base 10: 'a'",
     "output_type": "error",
     "traceback": [
      "\u001b[1;31m---------------------------------------------------------------------------\u001b[0m",
      "\u001b[1;31mValueError\u001b[0m                                Traceback (most recent call last)",
      "\u001b[1;32m~\\AppData\\Local\\Temp/ipykernel_3364/4022777591.py\u001b[0m in \u001b[0;36m<module>\u001b[1;34m\u001b[0m\n\u001b[0;32m      2\u001b[0m \u001b[1;33m\u001b[0m\u001b[0m\n\u001b[0;32m      3\u001b[0m \u001b[0mn\u001b[0m \u001b[1;33m=\u001b[0m \u001b[0minput\u001b[0m\u001b[1;33m(\u001b[0m\u001b[1;34m\"enter a string\"\u001b[0m\u001b[1;33m)\u001b[0m\u001b[1;33m\u001b[0m\u001b[1;33m\u001b[0m\u001b[0m\n\u001b[1;32m----> 4\u001b[1;33m \u001b[1;32mfor\u001b[0m \u001b[0mi\u001b[0m \u001b[1;32min\u001b[0m \u001b[0mrange\u001b[0m\u001b[1;33m(\u001b[0m\u001b[1;36m0\u001b[0m\u001b[1;33m,\u001b[0m \u001b[0mint\u001b[0m\u001b[1;33m(\u001b[0m\u001b[0mn\u001b[0m\u001b[1;33m)\u001b[0m\u001b[1;33m)\u001b[0m\u001b[1;33m:\u001b[0m\u001b[1;33m\u001b[0m\u001b[1;33m\u001b[0m\u001b[0m\n\u001b[0m\u001b[0;32m      5\u001b[0m     \u001b[0mprint\u001b[0m\u001b[1;33m(\u001b[0m\u001b[0mi\u001b[0m\u001b[1;33m)\u001b[0m\u001b[1;33m\u001b[0m\u001b[1;33m\u001b[0m\u001b[0m\n",
      "\u001b[1;31mValueError\u001b[0m: invalid literal for int() with base 10: 'a'"
     ]
    }
   ],
   "source": [
    "# Iterating over range 0 to n-1\n",
    " \n",
    "n = input(\"enter a string\") # on entering \"a\" ValueError: invalid literal for int() with base 10: 'a'\n",
    "n = input(\"enter a string\") # on entering 5, it works\n",
    "\n",
    "for i in range(0, int(n)):\n",
    "    print(i)"
   ]
  },
  {
   "cell_type": "code",
   "execution_count": 14,
   "id": "72dbdd0a",
   "metadata": {},
   "outputs": [
    {
     "name": "stdout",
     "output_type": "stream",
     "text": [
      "rabbit\n",
      "for\n",
      "cat\n",
      "rabbit\n",
      "for\n",
      "cat\n"
     ]
    }
   ],
   "source": [
    "# Iterating by index\n",
    " \n",
    "list = [\"rabbit\", \"for\", \"cat\"]\n",
    "for new in range(len(list)):  #new first value as 0\n",
    "    print(list[new])\n",
    "    \n",
    "for new in list:  #new first value as \"rabbit\"\n",
    "    print(new)"
   ]
  },
  {
   "cell_type": "code",
   "execution_count": 16,
   "id": "aa577268",
   "metadata": {},
   "outputs": [
    {
     "name": "stdout",
     "output_type": "stream",
     "text": [
      "rabbit r\n",
      "for f\n"
     ]
    }
   ],
   "source": [
    "list = [\"rabbit\", \"for\", \"cat\"]\n",
    "for new in list:  #new first value as \"rabbit\"\n",
    "    if new[0]==\"r\" or new[0]==\"f\":\n",
    "        print(new, new[0])\n",
    "        #find index of this value in this list        \n",
    "        \n",
    "#homework        \n",
    "# print the index position inside the if statement , without making any changes to the for statement        "
   ]
  },
  {
   "cell_type": "code",
   "execution_count": 18,
   "id": "9958102f",
   "metadata": {},
   "outputs": [
    {
     "name": "stdout",
     "output_type": "stream",
     "text": [
      "rabbit r 0\n",
      "rabbit a 1\n",
      "rabbit b 2\n",
      "rabbit b 3\n",
      "rabbit i 4\n",
      "rabbit t 5\n",
      "for f 0\n",
      "for o 1\n",
      "for r 2\n",
      "cat c 0\n",
      "cat a 1\n",
      "cat t 2\n"
     ]
    }
   ],
   "source": [
    "list = [\"rabbit\", \"for\", \"cat\"]\n",
    "for new in list:  #new first value as \"rabbit\"\n",
    "    for j in range(len(new)):  #range(len(\"rabbit\")) range(6)\n",
    "        print(new, new[j],j)"
   ]
  },
  {
   "cell_type": "code",
   "execution_count": 25,
   "id": "9fc33fd2",
   "metadata": {},
   "outputs": [
    {
     "name": "stdout",
     "output_type": "stream",
     "text": [
      "\n",
      "*\n",
      "**\n",
      "***\n",
      "****\n",
      "*****\n",
      "******\n",
      "*******\n",
      "********\n",
      "*********\n"
     ]
    }
   ],
   "source": [
    "#try to print a pyramid\n",
    "for i in range(10):\n",
    "    print('*'   * i)"
   ]
  },
  {
   "cell_type": "code",
   "execution_count": 28,
   "id": "4db9c42a",
   "metadata": {},
   "outputs": [
    {
     "name": "stdout",
     "output_type": "stream",
     "text": [
      "**********\n",
      "*********\n",
      "********\n",
      "*******\n",
      "******\n",
      "*****\n",
      "****\n",
      "***\n",
      "**\n",
      "*\n"
     ]
    }
   ],
   "source": [
    "#try to print a pyramid\n",
    "for i in range(0,10,-1):   # 0 to 10 is always up , and direction / increment / step value i am giving negative\n",
    "    print('*'   * i)\n",
    "    \n",
    "for i in range(10,0,-1):  # direction from start to end should be same as step value (positive or negative)\n",
    "    print('*'   * i)    "
   ]
  },
  {
   "cell_type": "code",
   "execution_count": 38,
   "id": "86e18568",
   "metadata": {},
   "outputs": [
    {
     "name": "stdout",
     "output_type": "stream",
     "text": [
      "a\n",
      "['a', 'b', 'c', 'd', 'e', 'f', 'g', 'h', 'i', 'j', 'k', 'l', 'm', 'n', 'o', 'p', 'q', 'r', 's', 't', 'u', 'v', 'w', 'x', 'y', 'z']\n"
     ]
    }
   ],
   "source": [
    "a='abcdefghijklmnopqrstuvwxyz'\n",
    "print(chr(97))\n",
    "b=[]\n",
    "for i in range(97,123):\n",
    "    b.append(chr(i))\n",
    "    \n",
    "print(b)"
   ]
  },
  {
   "cell_type": "code",
   "execution_count": 39,
   "id": "d2aaf32a",
   "metadata": {},
   "outputs": [
    {
     "name": "stdout",
     "output_type": "stream",
     "text": [
      "0 The\n",
      "1 Big\n",
      "2 Bang\n",
      "3 Theory\n"
     ]
    }
   ],
   "source": [
    "# python code to demonstrate working of enumerate()\n",
    " \n",
    "for key, value in enumerate(['The', 'Big', 'Bang', 'Theory']):\n",
    "    print(key, value)"
   ]
  },
  {
   "cell_type": "code",
   "execution_count": 45,
   "id": "7d01c265",
   "metadata": {},
   "outputs": [
    {
     "name": "stdout",
     "output_type": "stream",
     "text": [
      "0 The\n",
      "1 Big\n"
     ]
    },
    {
     "ename": "NameError",
     "evalue": "name 'Ucase' is not defined",
     "output_type": "error",
     "traceback": [
      "\u001b[1;31m---------------------------------------------------------------------------\u001b[0m",
      "\u001b[1;31mNameError\u001b[0m                                 Traceback (most recent call last)",
      "\u001b[1;32m~\\AppData\\Local\\Temp/ipykernel_3364/2922365850.py\u001b[0m in \u001b[0;36m<module>\u001b[1;34m\u001b[0m\n\u001b[0;32m      2\u001b[0m \u001b[1;33m\u001b[0m\u001b[0m\n\u001b[0;32m      3\u001b[0m \u001b[1;32mfor\u001b[0m \u001b[0mkey\u001b[0m\u001b[1;33m,\u001b[0m \u001b[0mvalue\u001b[0m \u001b[1;32min\u001b[0m \u001b[0menumerate\u001b[0m\u001b[1;33m(\u001b[0m\u001b[1;33m[\u001b[0m\u001b[1;34m'The'\u001b[0m\u001b[1;33m,\u001b[0m \u001b[1;34m'Big'\u001b[0m\u001b[1;33m,\u001b[0m \u001b[1;34m'Bang'\u001b[0m\u001b[1;33m,\u001b[0m \u001b[1;34m'Theory'\u001b[0m\u001b[1;33m,\u001b[0m\u001b[1;34m'Poetry'\u001b[0m\u001b[1;33m,\u001b[0m\u001b[1;34m'blang'\u001b[0m\u001b[1;33m]\u001b[0m\u001b[1;33m)\u001b[0m\u001b[1;33m:\u001b[0m\u001b[1;33m\u001b[0m\u001b[1;33m\u001b[0m\u001b[0m\n\u001b[1;32m----> 4\u001b[1;33m     \u001b[1;32mif\u001b[0m \u001b[0mkey\u001b[0m\u001b[1;33m<=\u001b[0m\u001b[1;36m1\u001b[0m \u001b[1;32mor\u001b[0m \u001b[0mUcase\u001b[0m\u001b[1;33m(\u001b[0m\u001b[0mvalue\u001b[0m\u001b[1;33m[\u001b[0m\u001b[1;36m0\u001b[0m\u001b[1;33m]\u001b[0m\u001b[1;33m)\u001b[0m\u001b[1;33m==\u001b[0m\u001b[1;34m'B'\u001b[0m\u001b[1;33m:\u001b[0m  \u001b[1;31m# b and B makes a difference  , upper(value[0])\u001b[0m\u001b[1;33m\u001b[0m\u001b[1;33m\u001b[0m\u001b[0m\n\u001b[0m\u001b[0;32m      5\u001b[0m         \u001b[0mprint\u001b[0m\u001b[1;33m(\u001b[0m\u001b[0mkey\u001b[0m\u001b[1;33m,\u001b[0m \u001b[0mvalue\u001b[0m\u001b[1;33m)\u001b[0m\u001b[1;33m\u001b[0m\u001b[1;33m\u001b[0m\u001b[0m\n",
      "\u001b[1;31mNameError\u001b[0m: name 'Ucase' is not defined"
     ]
    }
   ],
   "source": [
    "# python code to demonstrate working of enumerate()\n",
    " \n",
    "for key, value in enumerate(['The', 'Big', 'Bang', 'Theory','Poetry','blang']):\n",
    "    if key<=1 or value[0]=='B':  # b and B makes a difference  , upper(value[0]) NameError: name 'Ucase' is not defined\n",
    "        print(key, value)\n",
    "        \n",
    "# NameError: name 'Ucase' is not defined       "
   ]
  },
  {
   "cell_type": "code",
   "execution_count": 52,
   "id": "b51d6e9e",
   "metadata": {},
   "outputs": [
    {
     "name": "stdout",
     "output_type": "stream",
     "text": [
      "What is your name?  I am apple.\n",
      "What is your name? I am apple\n",
      "What is your  name ? I am  apple\n",
      "What is your colour?  I am red.\n",
      "What is your colour? I am red\n",
      "What is your  colour ? I am  red\n",
      "What is your shape?  I am a circle.\n",
      "What is your shape? I am a circle\n",
      "What is your  shape ? I am  a circle\n"
     ]
    }
   ],
   "source": [
    "# python code to demonstrate working of zip()\n",
    " \n",
    "# initializing list\n",
    "questions = ['name', 'colour', 'shape']\n",
    "answers = ['apple', 'red', 'a circle'] \n",
    "# using zip() to combine two containers\n",
    "# and print values\n",
    "for question, answer  in zip(questions, answers):\n",
    "    print('What is your {0}?  I am {1}.'.format(question, answer))\n",
    "    print('What is your ' + question  + '? I am ' + answer)\n",
    "    print('What is your ' , question  , '? I am ' , answer)"
   ]
  },
  {
   "cell_type": "code",
   "execution_count": 54,
   "id": "ca3d30fd",
   "metadata": {},
   "outputs": [
    {
     "name": "stdout",
     "output_type": "stream",
     "text": [
      "What is your name?  I am apple. Cost is 12\n",
      "What is your colour?  I am red. Cost is 3\n",
      "What is your shape?  I am a circle. Cost is 4\n"
     ]
    }
   ],
   "source": [
    "# python code to demonstrate working of zip()\n",
    " \n",
    "# initializing list\n",
    "questions = ['name', 'colour', 'shape']\n",
    "answers = ['apple', 'red', 'a circle']\n",
    "costs=[12,3,4,5]\n",
    "# using zip() to combine two containers\n",
    "# and print values\n",
    "for question, answer,cost in zip(questions, answers,costs):\n",
    "    print('What is your {0}?  I am {1}. Cost is {2}'.format(question, answer,cost))"
   ]
  },
  {
   "cell_type": "code",
   "execution_count": 58,
   "id": "d8000491",
   "metadata": {},
   "outputs": [
    {
     "name": "stdout",
     "output_type": "stream",
     "text": [
      "The key value pair using iteritems is : \n",
      "The key value pair using items is : \n",
      "rabbit for\n",
      "only cat\n"
     ]
    }
   ],
   "source": [
    "# python code to demonstrate working of iteritems(),items()\n",
    " \n",
    "d = { \"rabbit\" : \"for\", \"only\" : \"cat\" }\n",
    " \n",
    "# using iteritems to print the dictionary key-value pair\n",
    "print (\"The key value pair using iteritems is : \")\n",
    "# for i,j in d.iteritems(): #iteritems discontinued\n",
    "#     print (i,j)\n",
    "     \n",
    "# using items to print the dictionary key-value pair\n",
    "print (\"The key value pair using items is : \")\n",
    "for i,j in d.items():\n",
    "    print (i,j)"
   ]
  },
  {
   "cell_type": "code",
   "execution_count": 59,
   "id": "2e27071d",
   "metadata": {},
   "outputs": [
    {
     "ename": "SyntaxError",
     "evalue": "cannot assign to literal (Temp/ipykernel_3364/2624531129.py, line 12)",
     "output_type": "error",
     "traceback": [
      "\u001b[1;36m  File \u001b[1;32m\"C:\\Users\\win10\\AppData\\Local\\Temp/ipykernel_3364/2624531129.py\"\u001b[1;36m, line \u001b[1;32m12\u001b[0m\n\u001b[1;33m    for rabbit1, 2cat in king.items():\u001b[0m\n\u001b[1;37m                 ^\u001b[0m\n\u001b[1;31mSyntaxError\u001b[0m\u001b[1;31m:\u001b[0m cannot assign to literal\n"
     ]
    }
   ],
   "source": [
    "# python code to demonstrate working of items()\n",
    " \n",
    "king = {'Akbar': 'The Great', 'Chandragupta': 'The Maurya',\n",
    "        'Modi' : 'The Changer'}\n",
    " \n",
    "# using items to print the dictionary key-value pair\n",
    "for key, value in king.items():\n",
    "    print(key, value)\n",
    "    \n",
    "    \n",
    "# using items to print the dictionary key-value pair\n",
    "# for rabbit1, 2cat in king.items():  #SyntaxError: cannot assign to literal, \n",
    "# #     variable name cant start with a number\n",
    "#     print(rabbit1, 2cat)"
   ]
  },
  {
   "cell_type": "code",
   "execution_count": 64,
   "id": "a67fc058",
   "metadata": {},
   "outputs": [
    {
     "data": {
      "text/plain": [
       "[1, 2, 3]"
      ]
     },
     "execution_count": 64,
     "metadata": {},
     "output_type": "execute_result"
    }
   ],
   "source": [
    "list1 = [1,2,3,3,3,3,3]\n",
    "\n",
    "# print unique values ascending\n",
    "# print unique value desc\n",
    "# print repeated values as dict ( value: count)\n",
    "\n",
    "# 1> pass to set > back to another list > and then sort \n",
    "# 1> pass to set > and then sort \n",
    "# 1> pass to set > pass to new blank list , and compare each value in this list from the values in the set \n",
    "# if the value is higher than i then place it after i\n",
    "sorted(set(list1))\n",
    "\n",
    "# could we use sorted for desc"
   ]
  },
  {
   "cell_type": "code",
   "execution_count": 67,
   "id": "797eb5f6",
   "metadata": {},
   "outputs": [
    {
     "data": {
      "text/plain": [
       "[<list_reverseiterator at 0x26ee1005550>]"
      ]
     },
     "execution_count": 67,
     "metadata": {},
     "output_type": "execute_result"
    }
   ],
   "source": [
    "reversed(list1)  # how to decode [<list_reverseiterator at 0x26ee1005550>]"
   ]
  },
  {
   "cell_type": "code",
   "execution_count": 68,
   "id": "c99f93e7",
   "metadata": {},
   "outputs": [
    {
     "name": "stdout",
     "output_type": "stream",
     "text": [
      "3\n",
      "3\n",
      "3\n",
      "3\n",
      "3\n",
      "2\n",
      "1\n"
     ]
    }
   ],
   "source": [
    "for i in reversed(list1):\n",
    "    print(i)"
   ]
  },
  {
   "cell_type": "code",
   "execution_count": 69,
   "id": "ae19bd72",
   "metadata": {},
   "outputs": [
    {
     "ename": "TypeError",
     "evalue": "'set' object is not reversible",
     "output_type": "error",
     "traceback": [
      "\u001b[1;31m---------------------------------------------------------------------------\u001b[0m",
      "\u001b[1;31mTypeError\u001b[0m                                 Traceback (most recent call last)",
      "\u001b[1;32m~\\AppData\\Local\\Temp/ipykernel_3364/2302318679.py\u001b[0m in \u001b[0;36m<module>\u001b[1;34m\u001b[0m\n\u001b[1;32m----> 1\u001b[1;33m \u001b[1;32mfor\u001b[0m \u001b[0mi\u001b[0m \u001b[1;32min\u001b[0m \u001b[0mreversed\u001b[0m\u001b[1;33m(\u001b[0m\u001b[0mset\u001b[0m\u001b[1;33m(\u001b[0m\u001b[0mlist1\u001b[0m\u001b[1;33m)\u001b[0m\u001b[1;33m)\u001b[0m\u001b[1;33m:\u001b[0m\u001b[1;33m\u001b[0m\u001b[1;33m\u001b[0m\u001b[0m\n\u001b[0m\u001b[0;32m      2\u001b[0m     \u001b[0mprint\u001b[0m\u001b[1;33m(\u001b[0m\u001b[0mi\u001b[0m\u001b[1;33m)\u001b[0m\u001b[1;33m\u001b[0m\u001b[1;33m\u001b[0m\u001b[0m\n",
      "\u001b[1;31mTypeError\u001b[0m: 'set' object is not reversible"
     ]
    }
   ],
   "source": [
    "for i in reversed(list1):  #TypeError: 'set' object is not reversible\n",
    "    print(i)"
   ]
  },
  {
   "cell_type": "code",
   "execution_count": 70,
   "id": "58542e59",
   "metadata": {},
   "outputs": [
    {
     "ename": "TypeError",
     "evalue": "'list' object is not callable",
     "output_type": "error",
     "traceback": [
      "\u001b[1;31m---------------------------------------------------------------------------\u001b[0m",
      "\u001b[1;31mTypeError\u001b[0m                                 Traceback (most recent call last)",
      "\u001b[1;32m~\\AppData\\Local\\Temp/ipykernel_3364/2175324270.py\u001b[0m in \u001b[0;36m<module>\u001b[1;34m\u001b[0m\n\u001b[1;32m----> 1\u001b[1;33m \u001b[1;32mfor\u001b[0m \u001b[0mi\u001b[0m \u001b[1;32min\u001b[0m \u001b[0mreversed\u001b[0m\u001b[1;33m(\u001b[0m\u001b[0mlist\u001b[0m\u001b[1;33m(\u001b[0m\u001b[0mset\u001b[0m\u001b[1;33m(\u001b[0m\u001b[0mlist1\u001b[0m\u001b[1;33m)\u001b[0m\u001b[1;33m)\u001b[0m\u001b[1;33m)\u001b[0m\u001b[1;33m:\u001b[0m  \u001b[1;31m#TypeError: 'set' object is not reversible\u001b[0m\u001b[1;33m\u001b[0m\u001b[1;33m\u001b[0m\u001b[0m\n\u001b[0m\u001b[0;32m      2\u001b[0m     \u001b[0mprint\u001b[0m\u001b[1;33m(\u001b[0m\u001b[0mi\u001b[0m\u001b[1;33m)\u001b[0m\u001b[1;33m\u001b[0m\u001b[1;33m\u001b[0m\u001b[0m\n",
      "\u001b[1;31mTypeError\u001b[0m: 'list' object is not callable"
     ]
    }
   ],
   "source": [
    "for i in reversed(list(set(list1))):  #TypeError: 'set' object is not reversible\n",
    "    print(i)   #TypeError: 'list' object is not callable"
   ]
  },
  {
   "cell_type": "code",
   "execution_count": 71,
   "id": "28f2e1ee",
   "metadata": {},
   "outputs": [],
   "source": [
    "reversed?  #Docstring:      Return a reverse iterator over the values of the given sequence."
   ]
  },
  {
   "cell_type": "code",
   "execution_count": 72,
   "id": "cac5add8",
   "metadata": {},
   "outputs": [],
   "source": [
    "# chain comparision"
   ]
  },
  {
   "cell_type": "code",
   "execution_count": 74,
   "id": "04bfd7e9",
   "metadata": {},
   "outputs": [
    {
     "name": "stdout",
     "output_type": "stream",
     "text": [
      "1\n"
     ]
    }
   ],
   "source": [
    "a=1\n",
    "b=3\n",
    "c=10\n",
    "if a < b and c> b:  #a < b < c\n",
    "    print(a)\n",
    "    \n",
    "    \n",
    "# a< b > c\n",
    "# a > b <= c\n",
    "# a != b !> c !< d"
   ]
  },
  {
   "cell_type": "code",
   "execution_count": 76,
   "id": "6253343a",
   "metadata": {},
   "outputs": [
    {
     "name": "stdout",
     "output_type": "stream",
     "text": [
      "True\n",
      "False\n",
      "True\n",
      "True\n",
      "True\n"
     ]
    }
   ],
   "source": [
    "#  chaining comparison operators\n",
    "x = 5\n",
    "print(1 < x < 10)\n",
    "print(10 < x < 20 )\n",
    "print(x < 10 < x*10 < 100)\n",
    "print(10 > x <= 9)\n",
    "print(5 == x > 4)"
   ]
  },
  {
   "cell_type": "code",
   "execution_count": 78,
   "id": "fc65ccd4",
   "metadata": {},
   "outputs": [
    {
     "name": "stdout",
     "output_type": "stream",
     "text": [
      "False\n",
      "True\n",
      "False\n"
     ]
    }
   ],
   "source": [
    "# chaining comparison operators\n",
    "a, b, c, d, e, f = 0, 5, 12, 0, 15, 15\n",
    "exp1 = a <= b < c > d is not e is f\n",
    "exp2 = a is d > f is not c\n",
    "print(exp2)\n",
    "exp2 = (a is d) > (a is not d)\n",
    "print(exp2)\n",
    "exp2 = (a) is (d > f) is not (c)\n",
    "# print(exp1)\n",
    "print(exp2)"
   ]
  },
  {
   "cell_type": "code",
   "execution_count": 79,
   "id": "d1c0965c",
   "metadata": {},
   "outputs": [
    {
     "name": "stdout",
     "output_type": "stream",
     "text": [
      "10\n"
     ]
    }
   ],
   "source": [
    "i=10\n",
    "if i==10:\n",
    "    print(i)\n",
    "else:   \n",
    "    print(\"No Break\")"
   ]
  },
  {
   "cell_type": "code",
   "execution_count": 80,
   "id": "d6bfcbd6",
   "metadata": {},
   "outputs": [
    {
     "name": "stdout",
     "output_type": "stream",
     "text": [
      "1\n",
      "2\n",
      "3\n",
      "No Break 3\n"
     ]
    }
   ],
   "source": [
    "for i in range(1, 4):\n",
    "    print(i)\n",
    "else:  # Executed because no break in for\n",
    "    print(\"No Break\",i)"
   ]
  },
  {
   "cell_type": "code",
   "execution_count": 81,
   "id": "6c0315dd",
   "metadata": {},
   "outputs": [
    {
     "name": "stdout",
     "output_type": "stream",
     "text": [
      "1\n"
     ]
    }
   ],
   "source": [
    "for i in range(1, 4):\n",
    "    print(i)\n",
    "    break\n",
    "else: # Not executed as there is a break\n",
    "    print(\"No Break\")"
   ]
  },
  {
   "cell_type": "code",
   "execution_count": 82,
   "id": "1d6289bb",
   "metadata": {},
   "outputs": [
    {
     "name": "stdout",
     "output_type": "stream",
     "text": [
      "1\n",
      "2\n",
      "3\n",
      "No Break\n"
     ]
    }
   ],
   "source": [
    "for i in range(1, 4):\n",
    "    print(i)\n",
    "    pass\n",
    "else: # Not executed as there is a break\n",
    "    print(\"No Break\")"
   ]
  },
  {
   "cell_type": "code",
   "execution_count": 83,
   "id": "60f38b17",
   "metadata": {},
   "outputs": [
    {
     "name": "stdout",
     "output_type": "stream",
     "text": [
      "1\n",
      "2\n",
      "3\n",
      "No Break\n"
     ]
    }
   ],
   "source": [
    "for i in range(1, 4):\n",
    "    print(i)\n",
    "    continue\n",
    "else: # Not executed as there is a break\n",
    "    print(\"No Break\")"
   ]
  },
  {
   "cell_type": "code",
   "execution_count": 84,
   "id": "400f823d",
   "metadata": {},
   "outputs": [],
   "source": [
    "# switch case\n",
    "\n",
    "# one example to be brought in "
   ]
  },
  {
   "cell_type": "code",
   "execution_count": 89,
   "id": "c11a210a",
   "metadata": {},
   "outputs": [
    {
     "name": "stdout",
     "output_type": "stream",
     "text": [
      "<enumerate object at 0x0000026EE0DC6A80>\n"
     ]
    },
    {
     "ename": "ValueError",
     "evalue": "not enough values to unpack (expected 3, got 2)",
     "output_type": "error",
     "traceback": [
      "\u001b[1;31m---------------------------------------------------------------------------\u001b[0m",
      "\u001b[1;31mValueError\u001b[0m                                Traceback (most recent call last)",
      "\u001b[1;32m~\\AppData\\Local\\Temp/ipykernel_3364/1582573423.py\u001b[0m in \u001b[0;36m<module>\u001b[1;34m\u001b[0m\n\u001b[0;32m      3\u001b[0m \u001b[0mcars\u001b[0m \u001b[1;33m=\u001b[0m \u001b[1;33m[\u001b[0m\u001b[1;34m\"Aston\"\u001b[0m \u001b[1;33m,\u001b[0m \u001b[1;34m\"Audi\"\u001b[0m\u001b[1;33m,\u001b[0m \u001b[1;34m\"McLaren \"\u001b[0m\u001b[1;33m]\u001b[0m\u001b[1;33m\u001b[0m\u001b[1;33m\u001b[0m\u001b[0m\n\u001b[0;32m      4\u001b[0m \u001b[0mprint\u001b[0m \u001b[1;33m(\u001b[0m\u001b[0menumerate\u001b[0m\u001b[1;33m(\u001b[0m\u001b[0mcars\u001b[0m\u001b[1;33m)\u001b[0m\u001b[1;33m)\u001b[0m  \u001b[1;31m#object <enumerate object at 0x0000026EE0DC6900>\u001b[0m\u001b[1;33m\u001b[0m\u001b[1;33m\u001b[0m\u001b[0m\n\u001b[1;32m----> 5\u001b[1;33m \u001b[1;32mfor\u001b[0m \u001b[0ma\u001b[0m\u001b[1;33m,\u001b[0m\u001b[0mb\u001b[0m\u001b[1;33m,\u001b[0m\u001b[0mc\u001b[0m \u001b[1;32min\u001b[0m \u001b[0menumerate\u001b[0m\u001b[1;33m(\u001b[0m\u001b[0mcars\u001b[0m\u001b[1;33m)\u001b[0m\u001b[1;33m:\u001b[0m\u001b[1;33m\u001b[0m\u001b[1;33m\u001b[0m\u001b[0m\n\u001b[0m\u001b[0;32m      6\u001b[0m     \u001b[0mprint\u001b[0m\u001b[1;33m(\u001b[0m\u001b[0ma\u001b[0m\u001b[1;33m,\u001b[0m\u001b[0mb\u001b[0m\u001b[1;33m,\u001b[0m\u001b[0mc\u001b[0m\u001b[1;33m)\u001b[0m\u001b[1;33m\u001b[0m\u001b[1;33m\u001b[0m\u001b[0m\n",
      "\u001b[1;31mValueError\u001b[0m: not enough values to unpack (expected 3, got 2)"
     ]
    }
   ],
   "source": [
    "# Printing return value of enumerate() \n",
    "  \n",
    "cars = [\"Aston\" , \"Audi\", \"McLaren \"]\n",
    "print (enumerate(cars))  #object <enumerate object at 0x0000026EE0DC6900>\n",
    "for a,b,c in enumerate(cars):  #ValueError: not enough values to unpack (expected 3, got 2)\n",
    "    print(a,b,c)  # the values on unpackgin are like a dict , key and value so 2 vars only ,\n",
    "#     we dont have scope for 3 vars over here\n",
    "#     hence the error"
   ]
  },
  {
   "cell_type": "code",
   "execution_count": 90,
   "id": "86450102",
   "metadata": {},
   "outputs": [
    {
     "name": "stdout",
     "output_type": "stream",
     "text": [
      "<enumerate object at 0x0000026EE0DC6280>\n",
      "0 Aston\n",
      "1 Audi\n",
      "2 McLaren \n"
     ]
    }
   ],
   "source": [
    "# Printing return value of enumerate() \n",
    "  \n",
    "cars = [\"Aston\" , \"Audi\", \"McLaren \"]\n",
    "print (enumerate(cars))  #object <enumerate object at 0x0000026EE0DC6900>\n",
    "for a,b  in enumerate(cars):  #ValueError: not enough values to unpack (expected 3, got 2)\n",
    "    print(a,b )"
   ]
  },
  {
   "cell_type": "code",
   "execution_count": 95,
   "id": "114ebc73",
   "metadata": {},
   "outputs": [
    {
     "name": "stdout",
     "output_type": "stream",
     "text": [
      "1 Aston\n",
      "2 Audi\n",
      "3 McLaren \n",
      "-----------\n",
      "2 Aston\n",
      "3 Audi\n",
      "4 McLaren \n",
      "-----------\n",
      "(2, 'Aston')\n",
      "(3, 'Audi')\n",
      "(4, 'McLaren ')\n",
      "-----------\n",
      "(0, 'Aston') <class 'tuple'>\n",
      "(1, 'Audi') <class 'tuple'>\n",
      "(2, 'McLaren ') <class 'tuple'>\n"
     ]
    }
   ],
   "source": [
    "# demonstrating the use of start in enumerate\n",
    "  \n",
    "cars = [\"Aston\" , \"Audi\", \"McLaren \"]\n",
    "for x in enumerate(cars, start=1):\n",
    "    print (x[0], x[1])\n",
    "print('-----------')\n",
    "cars = [\"Aston\" , \"Audi\", \"McLaren \"]\n",
    "for x in enumerate(cars, start=2):\n",
    "    print (x[0], x[1])   \n",
    "print('-----------')    \n",
    "cars = [\"Aston\" , \"Audi\", \"McLaren \"]\n",
    "for x in enumerate(cars, start=2):\n",
    "    print (x) \n",
    "    \n",
    "print('-----------')    \n",
    "cars = [\"Aston\" , \"Audi\", \"McLaren \"]\n",
    "for x in enumerate(cars):\n",
    "    print (x, type(x))         "
   ]
  },
  {
   "cell_type": "code",
   "execution_count": 98,
   "id": "e6dc3a43",
   "metadata": {},
   "outputs": [
    {
     "ename": "ValueError",
     "evalue": "not enough values to unpack (expected 3, got 2)",
     "output_type": "error",
     "traceback": [
      "\u001b[1;31m---------------------------------------------------------------------------\u001b[0m",
      "\u001b[1;31mValueError\u001b[0m                                Traceback (most recent call last)",
      "\u001b[1;32m~\\AppData\\Local\\Temp/ipykernel_3364/4038041921.py\u001b[0m in \u001b[0;36m<module>\u001b[1;34m\u001b[0m\n\u001b[0;32m      1\u001b[0m \u001b[1;31m# Unzip lists\u001b[0m\u001b[1;33m\u001b[0m\u001b[1;33m\u001b[0m\u001b[1;33m\u001b[0m\u001b[0m\n\u001b[1;32m----> 2\u001b[1;33m l1,l2,l3 = zip(*[('Aston', 'GPS'), \n\u001b[0m\u001b[0;32m      3\u001b[0m               \u001b[1;33m(\u001b[0m\u001b[1;34m'Audi'\u001b[0m\u001b[1;33m,\u001b[0m \u001b[1;34m'Car Repair'\u001b[0m\u001b[1;33m,\u001b[0m\u001b[1;36m1\u001b[0m\u001b[1;33m)\u001b[0m\u001b[1;33m,\u001b[0m\u001b[1;33m\u001b[0m\u001b[1;33m\u001b[0m\u001b[0m\n\u001b[0;32m      4\u001b[0m               \u001b[1;33m(\u001b[0m\u001b[1;34m'McLaren'\u001b[0m\u001b[1;33m,\u001b[0m \u001b[1;34m'Dolby sound kit'\u001b[0m\u001b[1;33m,\u001b[0m\u001b[1;36m1\u001b[0m\u001b[1;33m)\u001b[0m\u001b[1;33m\u001b[0m\u001b[1;33m\u001b[0m\u001b[0m\n\u001b[0;32m      5\u001b[0m            ])\n",
      "\u001b[1;31mValueError\u001b[0m: not enough values to unpack (expected 3, got 2)"
     ]
    }
   ],
   "source": [
    "# Unzip lists\n",
    "l1,l2,l3 = zip(*[('Aston', 'GPS',1), \n",
    "              ('Audi', 'Car Repair',1), \n",
    "              ('McLaren', 'Dolby sound kit',1) \n",
    "           ])\n",
    "  \n",
    "# Printing unzipped lists      \n",
    "print(l1)\n",
    "print(l2)\n",
    "print(l3)"
   ]
  },
  {
   "cell_type": "code",
   "execution_count": 99,
   "id": "cdb8c040",
   "metadata": {},
   "outputs": [
    {
     "name": "stdout",
     "output_type": "stream",
     "text": [
      "Result: 2 6 12\n",
      "Time taken by map function: 0.000000\n",
      "Result: 2 6 12 \n",
      "Time taken by for loop: 0.000998\n"
     ]
    }
   ],
   "source": [
    "# iterator module\n",
    "# time taken to run a program\n",
    "\n",
    "# homework\n",
    "# create an infinite loop\n",
    "#  with time printed every 100 iterations / 20 seconds\n",
    " \n",
    "import operator\n",
    "import time\n",
    " \n",
    "# Defining lists\n",
    "L1 = [1, 2, 3]\n",
    "L2 = [2, 3, 4]\n",
    " \n",
    "# Starting time before map\n",
    "# function\n",
    "t1 = time.time()\n",
    " \n",
    "# Calculating result\n",
    "a, b, c = map(operator.mul, L1, L2)\n",
    " \n",
    "# Ending time after map\n",
    "# function\n",
    "t2 = time.time()\n",
    " \n",
    "# Time taken by map function\n",
    "print(\"Result:\", a, b, c)\n",
    "print(\"Time taken by map function: %.6f\" %(t2 - t1))\n",
    " \n",
    "# Starting time before naive\n",
    "# method\n",
    "t1 = time.time()\n",
    " \n",
    "# Calculating result using for loop\n",
    "print(\"Result:\", end = \" \")\n",
    "for i in range(3):\n",
    "    print(L1[i] * L2[i], end = \" \")\n",
    "     \n",
    "# Ending time after naive\n",
    "# method\n",
    "t2 = time.time()\n",
    "print(\"\\nTime taken by for loop: %.6f\" %(t2 - t1))"
   ]
  },
  {
   "cell_type": "code",
   "execution_count": 100,
   "id": "d583385e",
   "metadata": {},
   "outputs": [
    {
     "name": "stdout",
     "output_type": "stream",
     "text": [
      "1\n",
      "2\n",
      "3\n"
     ]
    }
   ],
   "source": [
    "#generator , yield , return\n",
    "\n",
    "# A generator function that yields 1 for first time,\n",
    "# 2 second time and 3 third time\n",
    "def simpleGeneratorFun():\n",
    "    # if called first time print a, if second time then b, if third time then c\n",
    "    yield 10            \n",
    "    yield 20            \n",
    "    yield 30            \n",
    "   \n",
    "#  Driver code to check above generator function\n",
    "for value in simpleGeneratorFun(): \n",
    "    print(value)"
   ]
  },
  {
   "cell_type": "code",
   "execution_count": null,
   "id": "217fde9f",
   "metadata": {},
   "outputs": [
    {
     "name": "stdout",
     "output_type": "stream",
     "text": [
      "Arithmetic Operations\n",
      "1. Addition\n",
      "2. Subtraction\n",
      "3. Multiplication\n",
      "0. Exit\n",
      "Enter the arithmetic operation : 3\n",
      "Enter a : 3\n",
      "Enter b : 3\n",
      "The result is : 9\n",
      "Arithmetic Operations\n",
      "1. Addition\n",
      "2. Subtraction\n",
      "3. Multiplication\n",
      "0. Exit\n"
     ]
    }
   ],
   "source": [
    "# use extend this program (preferably using  a class function) for division , reminder, mod \n",
    "\n",
    "def add(a, b):\n",
    "    return a + b\n",
    "\n",
    "def subtract(a, b):\n",
    "    return a - b\n",
    "\n",
    "def multiply(a, b):\n",
    "    return a * b\n",
    "\n",
    "def getArithmeticOperation(operation):\n",
    "    if operation==1:\n",
    "        return add\n",
    "    elif operation==2:\n",
    "        return subtract\n",
    "    elif operation==3:\n",
    "        return multiply\n",
    "\n",
    "while True:\n",
    "    print('Arithmetic Operations')\n",
    "    print('1. Addition')\n",
    "    print('2. Subtraction')\n",
    "    print('3. Multiplication')\n",
    "    print('0. Exit')\n",
    "    operation = int(input('Enter the arithmetic operation : '))\n",
    "    if(operation==0):\n",
    "        break\n",
    "    func = getArithmeticOperation(operation)\n",
    "    a = int(input('Enter a : '))\n",
    "    b = int(input('Enter b : '))\n",
    "    result = func(a, b)\n",
    "    print('The result is :', result)"
   ]
  },
  {
   "cell_type": "code",
   "execution_count": null,
   "id": "3a87a314",
   "metadata": {},
   "outputs": [],
   "source": []
  }
 ],
 "metadata": {
  "kernelspec": {
   "display_name": "Python 3 (ipykernel)",
   "language": "python",
   "name": "python3"
  },
  "language_info": {
   "codemirror_mode": {
    "name": "ipython",
    "version": 3
   },
   "file_extension": ".py",
   "mimetype": "text/x-python",
   "name": "python",
   "nbconvert_exporter": "python",
   "pygments_lexer": "ipython3",
   "version": "3.9.6"
  }
 },
 "nbformat": 4,
 "nbformat_minor": 5
}
