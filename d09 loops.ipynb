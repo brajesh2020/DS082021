{
 "cells": [
  {
   "cell_type": "code",
   "execution_count": 2,
   "id": "e4ba939e",
   "metadata": {},
   "outputs": [],
   "source": [
    "# while  else\n",
    "# for\n",
    "# do while\n",
    "# if else elif\n",
    "# try except finally\n",
    "# break pass continue"
   ]
  },
  {
   "cell_type": "code",
   "execution_count": 5,
   "id": "cdefba0e",
   "metadata": {},
   "outputs": [
    {
     "name": "stdout",
     "output_type": "stream",
     "text": [
      "Hello before 0\n",
      "Hello after 1\n",
      "Hello before 1\n",
      "Hello after 2\n",
      "Hello before 2\n",
      "Hello after 3\n"
     ]
    }
   ],
   "source": [
    "# while loop\n",
    "count = 0\n",
    "while (count < 3 ):   #\"and count is between 4 and 6\" no overlap with \"count<3\"\n",
    "    print(\"Hello before\",count)\n",
    "    count = count + 1\n",
    "    print(\"Hello after\",count)"
   ]
  },
  {
   "cell_type": "code",
   "execution_count": 7,
   "id": "14c95398",
   "metadata": {},
   "outputs": [
    {
     "name": "stdout",
     "output_type": "stream",
     "text": [
      "Hello before 0\n",
      "Hello after 1\n",
      "Hello before 1\n",
      "Hello after 2\n",
      "Hello before 2\n",
      "Hello after 3\n",
      "hello else before 3\n",
      "hello else after 3\n"
     ]
    }
   ],
   "source": [
    "# while loop\n",
    "count = 0\n",
    "while (count < 3 ):   #\"and count is between 4 and 6\" no overlap with \"count<3\"\n",
    "    print(\"Hello before\",count)\n",
    "    count = count + 1\n",
    "    print(\"Hello after\",count)\n",
    "else:\n",
    "    print(\"hello else before\",count)\n",
    "    if count >4:\n",
    "        pass\n",
    "    print(\"hello else after\",count)"
   ]
  },
  {
   "cell_type": "code",
   "execution_count": 10,
   "id": "79d30f25",
   "metadata": {},
   "outputs": [
    {
     "name": "stdout",
     "output_type": "stream",
     "text": [
      "enter a stringa\n"
     ]
    },
    {
     "ename": "ValueError",
     "evalue": "invalid literal for int() with base 10: 'a'",
     "output_type": "error",
     "traceback": [
      "\u001b[1;31m---------------------------------------------------------------------------\u001b[0m",
      "\u001b[1;31mValueError\u001b[0m                                Traceback (most recent call last)",
      "\u001b[1;32m~\\AppData\\Local\\Temp/ipykernel_3364/4022777591.py\u001b[0m in \u001b[0;36m<module>\u001b[1;34m\u001b[0m\n\u001b[0;32m      2\u001b[0m \u001b[1;33m\u001b[0m\u001b[0m\n\u001b[0;32m      3\u001b[0m \u001b[0mn\u001b[0m \u001b[1;33m=\u001b[0m \u001b[0minput\u001b[0m\u001b[1;33m(\u001b[0m\u001b[1;34m\"enter a string\"\u001b[0m\u001b[1;33m)\u001b[0m\u001b[1;33m\u001b[0m\u001b[1;33m\u001b[0m\u001b[0m\n\u001b[1;32m----> 4\u001b[1;33m \u001b[1;32mfor\u001b[0m \u001b[0mi\u001b[0m \u001b[1;32min\u001b[0m \u001b[0mrange\u001b[0m\u001b[1;33m(\u001b[0m\u001b[1;36m0\u001b[0m\u001b[1;33m,\u001b[0m \u001b[0mint\u001b[0m\u001b[1;33m(\u001b[0m\u001b[0mn\u001b[0m\u001b[1;33m)\u001b[0m\u001b[1;33m)\u001b[0m\u001b[1;33m:\u001b[0m\u001b[1;33m\u001b[0m\u001b[1;33m\u001b[0m\u001b[0m\n\u001b[0m\u001b[0;32m      5\u001b[0m     \u001b[0mprint\u001b[0m\u001b[1;33m(\u001b[0m\u001b[0mi\u001b[0m\u001b[1;33m)\u001b[0m\u001b[1;33m\u001b[0m\u001b[1;33m\u001b[0m\u001b[0m\n",
      "\u001b[1;31mValueError\u001b[0m: invalid literal for int() with base 10: 'a'"
     ]
    }
   ],
   "source": [
    "# Iterating over range 0 to n-1\n",
    " \n",
    "n = input(\"enter a string\") # on entering \"a\" ValueError: invalid literal for int() with base 10: 'a'\n",
    "n = input(\"enter a string\") # on entering 5, it works\n",
    "\n",
    "for i in range(0, int(n)):\n",
    "    print(i)"
   ]
  },
  {
   "cell_type": "code",
   "execution_count": 14,
   "id": "6363b8fe",
   "metadata": {},
   "outputs": [
    {
     "name": "stdout",
     "output_type": "stream",
     "text": [
      "rabbit\n",
      "for\n",
      "cat\n",
      "rabbit\n",
      "for\n",
      "cat\n"
     ]
    }
   ],
   "source": [
    "# Iterating by index\n",
    " \n",
    "list = [\"rabbit\", \"for\", \"cat\"]\n",
    "for new in range(len(list)):  #new first value as 0\n",
    "    print(list[new])\n",
    "    \n",
    "for new in list:  #new first value as \"rabbit\"\n",
    "    print(new)"
   ]
  },
  {
   "cell_type": "code",
   "execution_count": 16,
   "id": "1b803ffb",
   "metadata": {},
   "outputs": [
    {
     "name": "stdout",
     "output_type": "stream",
     "text": [
      "rabbit r\n",
      "for f\n"
     ]
    }
   ],
   "source": [
    "list = [\"rabbit\", \"for\", \"cat\"]\n",
    "for new in list:  #new first value as \"rabbit\"\n",
    "    if new[0]==\"r\" or new[0]==\"f\":\n",
    "        print(new, new[0])\n",
    "        \n",
    "#homework        \n",
    "# print the index position inside the if statement , without making any changes to the for statement        "
   ]
  },
  {
   "cell_type": "code",
   "execution_count": 18,
   "id": "29014f36",
   "metadata": {},
   "outputs": [
    {
     "name": "stdout",
     "output_type": "stream",
     "text": [
      "rabbit r 0\n",
      "rabbit a 1\n",
      "rabbit b 2\n",
      "rabbit b 3\n",
      "rabbit i 4\n",
      "rabbit t 5\n",
      "for f 0\n",
      "for o 1\n",
      "for r 2\n",
      "cat c 0\n",
      "cat a 1\n",
      "cat t 2\n"
     ]
    }
   ],
   "source": [
    "list = [\"rabbit\", \"for\", \"cat\"]\n",
    "for new in list:  #new first value as \"rabbit\"\n",
    "    for j in range(len(new)):  #range(len(\"rabbit\")) range(6)\n",
    "        print(new, new[j],j)"
   ]
  },
  {
   "cell_type": "code",
   "execution_count": null,
   "id": "2e3f5311",
   "metadata": {},
   "outputs": [],
   "source": []
  }
 ],
 "metadata": {
  "kernelspec": {
   "display_name": "Python 3 (ipykernel)",
   "language": "python",
   "name": "python3"
  },
  "language_info": {
   "codemirror_mode": {
    "name": "ipython",
    "version": 3
   },
   "file_extension": ".py",
   "mimetype": "text/x-python",
   "name": "python",
   "nbconvert_exporter": "python",
   "pygments_lexer": "ipython3",
   "version": "3.9.6"
  }
 },
 "nbformat": 4,
 "nbformat_minor": 5
}
