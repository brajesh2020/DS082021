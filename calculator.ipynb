{
 "cells": [
  {
   "cell_type": "code",
   "execution_count": null,
   "id": "2c525b26",
   "metadata": {},
   "outputs": [],
   "source": [
    "# operations\n",
    "# + , - , * , / \n",
    "# handle , and . in case of numeric addition,\n",
    "# int , float, str\n",
    "# input values  numbers, letters\n",
    "# output in case of letters > concatenate\n",
    "# output in case of numbers > give output based on operation\n",
    "# in case of non letters/ numbers give error message\n",
    "# in case of divide by 0 , give error message\n",
    "# in case of output format western , give output in thousands, million, billion\n",
    "# in case of output format indian , give in thousands, lakhs , crores\n",
    "# in case of decimal values, one more prompt addition of how many decimal places to keep\n",
    "# operation > + , a, bb > abb\n",
    "# abc * def  > ad , ae, af , bd , be , bf , cd , ce, cf > \n",
    "# operation > + , 2,000,000   , 3,000,000 , westerN > 5\n",
    "# operation > + , 2,000,000   , 3,000,000 , westerN > 5\n",
    "\n",
    "# look and feel \n",
    "# https://www.geeksforgeeks.org/python-tkinter-tutorial/"
   ]
  }
 ],
 "metadata": {
  "kernelspec": {
   "display_name": "Python 3 (ipykernel)",
   "language": "python",
   "name": "python3"
  },
  "language_info": {
   "codemirror_mode": {
    "name": "ipython",
    "version": 3
   },
   "file_extension": ".py",
   "mimetype": "text/x-python",
   "name": "python",
   "nbconvert_exporter": "python",
   "pygments_lexer": "ipython3",
   "version": "3.9.6"
  }
 },
 "nbformat": 4,
 "nbformat_minor": 5
}
