{
 "cells": [
  {
   "cell_type": "code",
   "execution_count": 1,
   "id": "a9be7bb4",
   "metadata": {},
   "outputs": [],
   "source": [
    "# operations\n",
    "# + , - , * , / \n",
    "# handle , and . in case of numeric addition,\n",
    "# int , float, str\n",
    "# input values  numbers, letters\n",
    "# output in case of letters > concatenate\n",
    "# output in case of numbers > give output based on operation\n",
    "# in case of non letters/ numbers give error message\n",
    "# in case of divide by 0 , give error message\n",
    "# in case of output format western , give output in thousands, million, billion\n",
    "# in case of output format indian , give in thousands, lakhs , crores\n",
    "# in case of decimal values, one more prompt addition of how many decimal places to keep\n",
    "# operation > + , a, bb > abb\n",
    "# abc * def  > ad , ae, af , bd , be , bf , cd , ce, cf > \n",
    "# operation > + , 2,000,000   , 3,000,000 , westerN > 5\n",
    "# operation > + , 2,000,000   , 3,000,000 , westerN > 5\n",
    "\n",
    "# look and feel \n",
    "# https://www.geeksforgeeks.org/python-tkinter-tutorial/"
   ]
  },
  {
   "cell_type": "code",
   "execution_count": 2,
   "id": "81d68782",
   "metadata": {},
   "outputs": [
    {
     "ename": "IndentationError",
     "evalue": "expected an indented block (Temp/ipykernel_27300/3803903062.py, line 11)",
     "output_type": "error",
     "traceback": [
      "\u001b[1;36m  File \u001b[1;32m\"C:\\Users\\win10\\AppData\\Local\\Temp/ipykernel_27300/3803903062.py\"\u001b[1;36m, line \u001b[1;32m11\u001b[0m\n\u001b[1;33m    if a=='+':\u001b[0m\n\u001b[1;37m    ^\u001b[0m\n\u001b[1;31mIndentationError\u001b[0m\u001b[1;31m:\u001b[0m expected an indented block\n"
     ]
    }
   ],
   "source": [
    "a=input(\"enter the operator\")\n",
    "b=input(\"enter the first number / word\")\n",
    "c=input(\"enter the second number / word\")\n",
    "   \n",
    "if a=='+':\n",
    "    if int(b) 'is valid ' and int(c) 'is valid':\n",
    "        result=b+c\n",
    "elif a=='-':\n",
    "    if int(b) 'is valid ' and int(c) 'is valid':\n",
    "        result=b-c    \n",
    "elif a=='*':\n",
    "    if int(b) 'is valid ' and int(c) 'is valid':\n",
    "        result=b*c         \n",
    "elif a=='/':  #divide\n",
    "    if int(b) 'is valid ' and int(c) 'is valid' and int(c) <> 0:\n",
    "        result=b/c\n",
    "    if int(b) 'is valid ' and int(c) 'is valid' and int(c) = 0:\n",
    "        print('cant divide by 0')"
   ]
  },
  {
   "cell_type": "code",
   "execution_count": 3,
   "id": "5c31c23e",
   "metadata": {},
   "outputs": [
    {
     "ename": "SyntaxError",
     "evalue": "invalid syntax (Temp/ipykernel_27300/2601974048.py, line 8)",
     "output_type": "error",
     "traceback": [
      "\u001b[1;36m  File \u001b[1;32m\"C:\\Users\\win10\\AppData\\Local\\Temp/ipykernel_27300/2601974048.py\"\u001b[1;36m, line \u001b[1;32m8\u001b[0m\n\u001b[1;33m    if int(b) 'is valid' :\u001b[0m\n\u001b[1;37m              ^\u001b[0m\n\u001b[1;31mSyntaxError\u001b[0m\u001b[1;31m:\u001b[0m invalid syntax\n"
     ]
    }
   ],
   "source": [
    "# handled + - * / mod rem\n",
    "\n",
    "a=input('''enter the operator + - * /\n",
    "        mod(eg 15 /5 mod = 3 ) , rem(eg 15/12 , remainder 3) ''')\n",
    "b=input(\"enter the first number / word\")\n",
    "c=input(\"enter the second number / word\")\n",
    "\n",
    "if int(b) 'is valid' :\n",
    "    b_int = int(b)\n",
    "else:\n",
    "    b_str=b\n",
    "    \n",
    "if int(c) 'is valid' :\n",
    "    c_int = int(c)    \n",
    "else:\n",
    "    c_str=c\n",
    "    \n",
    "if b_int >=0 and c_int>=0:    \n",
    "    if a=='+':    \n",
    "            result=b_int+c_int\n",
    "    elif a=='-':    \n",
    "            result=b_int-c_int   \n",
    "    elif a=='*':    \n",
    "            result=b_int*c_int         \n",
    "    elif a=='/':  #divide  5/5=1\n",
    "        if int(c_int) <> 0:\n",
    "            result=b_int/c_int  \n",
    "        else  int(c_int) = 0:\n",
    "            print('cant divide by 0')\n",
    "    elif a=='rem':  #divide  15/12 , remainder 3\n",
    "        if int(c_int) <> 0:\n",
    "            result=b_int/c_int  #function need to be updated for reminder\n",
    "        else  int(c_int) = 0:\n",
    "            print('cant divide by 0')\n",
    "    elif a=='mod':  #divide   15 /5 mod = 3 \n",
    "        if int(c_int) <> 0:\n",
    "            result=b_int/c_int #function need to be updated for mod\n",
    "        else  int(c_int) = 0:\n",
    "            print('cant divide by 0')            "
   ]
  },
  {
   "cell_type": "code",
   "execution_count": null,
   "id": "e15976cf",
   "metadata": {},
   "outputs": [],
   "source": [
    "if a=='/':  #divide  5/5=1\n",
    "        if int(c_int) <> 0:\n",
    "            result=b_int/c_int  \n",
    "        else  int(c_int) = 0:\n",
    "            print('cant divide by 0')\n",
    "elif a=='rem':  #divide  15/12 , remainder 3\n",
    "        if int(c_int) <> 0:\n",
    "            result=b_int/c_int  #function need to be updated for reminder\n",
    "        else  int(c_int) = 0:\n",
    "            print('cant divide by 0')\n",
    "elif a=='mod':  #divide   15 /5 mod = 3 \n",
    "        if int(c_int) <> 0:\n",
    "            result=b_int/c_int #function need to be updated for mod\n",
    "        else  int(c_int) = 0:\n",
    "            print('cant divide by 0') "
   ]
  },
  {
   "cell_type": "code",
   "execution_count": null,
   "id": "7f3a595d",
   "metadata": {},
   "outputs": [],
   "source": [
    "#we can change the sequence for better readability or shorter code\n",
    "\n",
    "if int(c_int) <> 0:\n",
    "    if a=='/':  #divide  5/5=1\n",
    "        result=b_int/c_int \n",
    "        else  int(c_int) = 0:\n",
    "            print('cant divide by 0')\n",
    "    elif a=='rem':  #divide  15/12 , remainder 3\n",
    "        result=b_int/c_int  #function need to be updated for reminder\n",
    "        else  int(c_int) = 0:\n",
    "            print('cant divide by 0')\n",
    "    elif a=='mod':  #divide   15 /5 mod = 3 \n",
    "        result=b_int/c_int #function need to be updated for mod\n",
    "        else  int(c_int) = 0:\n",
    "            print('cant divide by 0') "
   ]
  },
  {
   "cell_type": "code",
   "execution_count": 4,
   "id": "a1202a74",
   "metadata": {},
   "outputs": [
    {
     "ename": "SyntaxError",
     "evalue": "invalid syntax (Temp/ipykernel_27300/3976265057.py, line 8)",
     "output_type": "error",
     "traceback": [
      "\u001b[1;36m  File \u001b[1;32m\"C:\\Users\\win10\\AppData\\Local\\Temp/ipykernel_27300/3976265057.py\"\u001b[1;36m, line \u001b[1;32m8\u001b[0m\n\u001b[1;33m    if int(b) 'is valid' : #check on the format/ syntax\u001b[0m\n\u001b[1;37m              ^\u001b[0m\n\u001b[1;31mSyntaxError\u001b[0m\u001b[1;31m:\u001b[0m invalid syntax\n"
     ]
    }
   ],
   "source": [
    "# handled float\n",
    "\n",
    "a=input('''enter the operator + - * /\n",
    "        mod(eg 15 /5 mod = 3 ) , rem(eg 15/12 , remainder 3) ''')\n",
    "b=input(\"enter the first number / word\")\n",
    "c=input(\"enter the second number / word\")\n",
    "\n",
    "if int(b) 'is valid' : #check on the format/ syntax\n",
    "    b_int = int(b)\n",
    "elif float(b) 'is valid': #check on the format/ syntax\n",
    "    b_float=float(b) \n",
    "    float_decimal1= input(' how many decimal places you want to show the result')\n",
    "elif int(b) 'is invalid ' and str(b) 'is valid'    but str(b) in 'list of non printable / special characters':\n",
    "    print(b,' contains non printable characters')\n",
    "else\n",
    "    b_str=b\n",
    "    \n",
    "if int(c) 'is valid' :\n",
    "    c_int = int(c)  \n",
    "elif float(c) 'is valid': #check on the format/ syntax\n",
    "    c_float=float(c)   \n",
    "    float_decimal2= input(' how many decimal places you want to show the result')\n",
    "else:\n",
    "    c_str=c\n",
    "    \n",
    "if b_int >=0 and c_int>=0:    \n",
    "    if a=='+':    \n",
    "            result=b_int+c_int\n",
    "    elif a=='-':    \n",
    "            result=b_int-c_int   \n",
    "    elif a=='*':    \n",
    "            result=b_int*c_int         \n",
    "    elif a=='/':  #divide  5/5=1\n",
    "        if int(c_int) <> 0:\n",
    "            result=b_int/c_int  \n",
    "        else  int(c_int) = 0:\n",
    "            print('cant divide by 0')\n",
    "    elif a=='rem':  #divide  15/12 , remainder 3\n",
    "        if int(c_int) <> 0:\n",
    "            result=b_int/c_int  #function need to be updated for reminder\n",
    "        else  int(c_int) = 0:\n",
    "            print('cant divide by 0')\n",
    "    elif a=='mod':  #divide   15 /5 mod = 3 \n",
    "        if int(c_int) <> 0:\n",
    "            result=b_int/c_int #function need to be updated for mod\n",
    "        else  int(c_int) = 0:\n",
    "            print('cant divide by 0')            "
   ]
  },
  {
   "cell_type": "code",
   "execution_count": 5,
   "id": "6b18c090",
   "metadata": {},
   "outputs": [
    {
     "name": "stdout",
     "output_type": "stream",
     "text": [
      "enter the operator + - * /\n",
      "        mod(eg 15 /5 mod = 3 ) , rem(eg 15/12 , remainder 3) 2\n",
      "enter the first number / word3\n",
      "enter the second number / word4\n",
      "34\n"
     ]
    },
    {
     "ename": "NameError",
     "evalue": "name 'number_to_word' is not defined",
     "output_type": "error",
     "traceback": [
      "\u001b[1;31m---------------------------------------------------------------------------\u001b[0m",
      "\u001b[1;31mNameError\u001b[0m                                 Traceback (most recent call last)",
      "\u001b[1;32m~\\AppData\\Local\\Temp/ipykernel_27300/3775384504.py\u001b[0m in \u001b[0;36m<module>\u001b[1;34m\u001b[0m\n\u001b[0;32m      8\u001b[0m \u001b[0mb\u001b[0m\u001b[1;33m=\u001b[0m \u001b[1;36m5000\u001b[0m\u001b[1;33m\u001b[0m\u001b[1;33m\u001b[0m\u001b[0m\n\u001b[0;32m      9\u001b[0m \u001b[0mc\u001b[0m\u001b[1;33m=\u001b[0m\u001b[1;36m97000\u001b[0m\u001b[1;33m\u001b[0m\u001b[1;33m\u001b[0m\u001b[0m\n\u001b[1;32m---> 10\u001b[1;33m \u001b[0mprint\u001b[0m\u001b[1;33m(\u001b[0m \u001b[0mnumber_to_word\u001b[0m\u001b[1;33m(\u001b[0m\u001b[0mb\u001b[0m\u001b[1;33m+\u001b[0m\u001b[0mc\u001b[0m\u001b[1;33m)\u001b[0m\u001b[1;33m)\u001b[0m  \u001b[1;31m# find the correct function for number_to_word\u001b[0m\u001b[1;33m\u001b[0m\u001b[1;33m\u001b[0m\u001b[0m\n\u001b[0m\u001b[0;32m     11\u001b[0m \u001b[1;31m# one lakh 2 thousand  indian format  thousand, lakh, crores\u001b[0m\u001b[1;33m\u001b[0m\u001b[1;33m\u001b[0m\u001b[1;33m\u001b[0m\u001b[0m\n\u001b[0;32m     12\u001b[0m \u001b[1;31m# one hundred two thousand , western format  , thousand, million ...\u001b[0m\u001b[1;33m\u001b[0m\u001b[1;33m\u001b[0m\u001b[1;33m\u001b[0m\u001b[0m\n",
      "\u001b[1;31mNameError\u001b[0m: name 'number_to_word' is not defined"
     ]
    }
   ],
   "source": [
    "a=input('''enter the operator + - * /\n",
    "        mod(eg 15 /5 mod = 3 ) , rem(eg 15/12 , remainder 3) ''')\n",
    "b=input(\"enter the first number / word\")\n",
    "c=input(\"enter the second number / word\")\n",
    "\n",
    "print(b+c)\n",
    "\n",
    "b= 5000\n",
    "c=97000\n",
    "print( number_to_word(b+c))  # find the correct function for number_to_word\n",
    "# one lakh 2 thousand  indian format  thousand, lakh, crores\n",
    "# one hundred two thousand , western format  , thousand, million ...\n",
    "# to write a function which does this , without using existing package directly , copy paste is fine"
   ]
  },
  {
   "cell_type": "code",
   "execution_count": null,
   "id": "30587115",
   "metadata": {},
   "outputs": [],
   "source": [
    "if int(b) is invalid and int(c) is invalid\n",
    "a\n",
    "ab\n",
    "+ > aab\n",
    "* > aa ab > aaab"
   ]
  },
  {
   "cell_type": "code",
   "execution_count": null,
   "id": "db3b92c0",
   "metadata": {},
   "outputs": [],
   "source": [
    "five\n",
    "two\n",
    "+ > 5 , 2 > 7 > seven\n",
    "\n",
    "word_to_number(five) > 5\n",
    "word_to_number(two) > 3\n",
    "\n",
    "# it should work till 99 as input"
   ]
  }
 ],
 "metadata": {
  "kernelspec": {
   "display_name": "Python 3 (ipykernel)",
   "language": "python",
   "name": "python3"
  },
  "language_info": {
   "codemirror_mode": {
    "name": "ipython",
    "version": 3
   },
   "file_extension": ".py",
   "mimetype": "text/x-python",
   "name": "python",
   "nbconvert_exporter": "python",
   "pygments_lexer": "ipython3",
   "version": "3.9.6"
  }
 },
 "nbformat": 4,
 "nbformat_minor": 5
}
