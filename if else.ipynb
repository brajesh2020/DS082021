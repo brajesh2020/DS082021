{
 "cells": [
  {
   "cell_type": "code",
   "execution_count": 1,
   "id": "28bb9c5c",
   "metadata": {},
   "outputs": [
    {
     "ename": "SyntaxError",
     "evalue": "invalid syntax (Temp/ipykernel_26396/2708228064.py, line 1)",
     "output_type": "error",
     "traceback": [
      "\u001b[1;36m  File \u001b[1;32m\"C:\\Users\\win10\\AppData\\Local\\Temp/ipykernel_26396/2708228064.py\"\u001b[1;36m, line \u001b[1;32m1\u001b[0m\n\u001b[1;33m    if 1=1:2 elseif 3=3:4 else:3\u001b[0m\n\u001b[1;37m        ^\u001b[0m\n\u001b[1;31mSyntaxError\u001b[0m\u001b[1;31m:\u001b[0m invalid syntax\n"
     ]
    }
   ],
   "source": [
    "if 1=1:2 elseif 3=3:4 else:3"
   ]
  },
  {
   "cell_type": "code",
   "execution_count": 3,
   "id": "5a004ec8",
   "metadata": {},
   "outputs": [
    {
     "ename": "SyntaxError",
     "evalue": "invalid syntax (Temp/ipykernel_26396/3973076983.py, line 1)",
     "output_type": "error",
     "traceback": [
      "\u001b[1;36m  File \u001b[1;32m\"C:\\Users\\win10\\AppData\\Local\\Temp/ipykernel_26396/3973076983.py\"\u001b[1;36m, line \u001b[1;32m1\u001b[0m\n\u001b[1;33m    print(if True:y=2 )\u001b[0m\n\u001b[1;37m          ^\u001b[0m\n\u001b[1;31mSyntaxError\u001b[0m\u001b[1;31m:\u001b[0m invalid syntax\n"
     ]
    }
   ],
   "source": [
    "print(if True:y=2 )\n",
    "    \n",
    "# y=(if True:2)"
   ]
  },
  {
   "cell_type": "code",
   "execution_count": 4,
   "id": "30d8af3e",
   "metadata": {},
   "outputs": [
    {
     "name": "stdout",
     "output_type": "stream",
     "text": [
      "2\n"
     ]
    }
   ],
   "source": [
    "if True:y=2\n",
    "print(y)"
   ]
  },
  {
   "cell_type": "code",
   "execution_count": 6,
   "id": "b6cbd451",
   "metadata": {},
   "outputs": [
    {
     "ename": "SyntaxError",
     "evalue": "invalid syntax (Temp/ipykernel_26396/1361877451.py, line 1)",
     "output_type": "error",
     "traceback": [
      "\u001b[1;36m  File \u001b[1;32m\"C:\\Users\\win10\\AppData\\Local\\Temp/ipykernel_26396/1361877451.py\"\u001b[1;36m, line \u001b[1;32m1\u001b[0m\n\u001b[1;33m    y=(if True:y=2)\u001b[0m\n\u001b[1;37m       ^\u001b[0m\n\u001b[1;31mSyntaxError\u001b[0m\u001b[1;31m:\u001b[0m invalid syntax\n"
     ]
    }
   ],
   "source": [
    "y=(if True:2)"
   ]
  },
  {
   "cell_type": "code",
   "execution_count": 7,
   "id": "836865e8",
   "metadata": {},
   "outputs": [
    {
     "ename": "SyntaxError",
     "evalue": "invalid syntax (Temp/ipykernel_26396/3977686159.py, line 1)",
     "output_type": "error",
     "traceback": [
      "\u001b[1;36m  File \u001b[1;32m\"C:\\Users\\win10\\AppData\\Local\\Temp/ipykernel_26396/3977686159.py\"\u001b[1;36m, line \u001b[1;32m1\u001b[0m\n\u001b[1;33m    (if True:2)\u001b[0m\n\u001b[1;37m     ^\u001b[0m\n\u001b[1;31mSyntaxError\u001b[0m\u001b[1;31m:\u001b[0m invalid syntax\n"
     ]
    }
   ],
   "source": [
    "(if True:2)"
   ]
  },
  {
   "cell_type": "code",
   "execution_count": 10,
   "id": "879de11f",
   "metadata": {
    "scrolled": true
   },
   "outputs": [
    {
     "name": "stdout",
     "output_type": "stream",
     "text": [
      "before 0\n",
      "2\n",
      "after 1\n",
      "before 1\n",
      "2\n",
      "after 2\n",
      "before 2\n",
      "2\n",
      "after 3\n",
      "before 3\n",
      "2\n",
      "after 4\n",
      "before 4\n",
      "2\n",
      "after 5\n",
      "before 5\n",
      "2\n",
      "after 6\n",
      "before 6\n",
      "2\n",
      "after 7\n",
      "before 7\n",
      "2\n",
      "after 8\n",
      "before 8\n",
      "2\n",
      "after 9\n",
      "before 9\n",
      "2\n",
      "after 10\n",
      "10\n"
     ]
    }
   ],
   "source": [
    "x=0\n",
    "for i in range(10):\n",
    "    if 1==1:\n",
    "        print('before',x);print(2);x=x+1;print('after',x)\n",
    "    elif 2==3:\n",
    "        print(3);x+=1\n",
    "    else :\n",
    "        print(4);x+=1\n",
    "print(x)"
   ]
  },
  {
   "cell_type": "code",
   "execution_count": 11,
   "id": "51683677",
   "metadata": {},
   "outputs": [
    {
     "name": "stdout",
     "output_type": "stream",
     "text": [
      "4\n",
      "before condition1 1\n",
      "2\n",
      "after condition1 2\n",
      "before condition2 2\n",
      "3\n",
      "after condition2 3\n",
      "4\n",
      "4\n",
      "4\n",
      "4\n",
      "4\n",
      "4\n",
      "4\n",
      "10\n"
     ]
    }
   ],
   "source": [
    "x=0\n",
    "for i in range(10):\n",
    "    if i==1:\n",
    "        print('before condition1',x);print(2);x=x+1;print('after condition1',x)\n",
    "    elif i==2:\n",
    "        print('before condition2',x);print(3);x+=1;print('after condition2',x)\n",
    "    else :\n",
    "        print(4);x+=1\n",
    "print(x)"
   ]
  },
  {
   "cell_type": "code",
   "execution_count": 15,
   "id": "3c923671",
   "metadata": {},
   "outputs": [
    {
     "name": "stdout",
     "output_type": "stream",
     "text": [
      "5\n"
     ]
    }
   ],
   "source": [
    "if 3==4:\n",
    "    print(3)\n",
    "elif 4==5:\n",
    "    print(4)\n",
    "elif 5==5:\n",
    "    print(5)\n",
    "else:\n",
    "    print('all else')"
   ]
  },
  {
   "cell_type": "code",
   "execution_count": 16,
   "id": "b29707f2",
   "metadata": {
    "scrolled": false
   },
   "outputs": [
    {
     "name": "stdout",
     "output_type": "stream",
     "text": [
      "0 all else\n",
      "1 all else\n",
      "2 all else\n",
      "3\n",
      "4\n",
      "5\n",
      "6 all else\n",
      "7 all else\n",
      "8 all else\n",
      "9 all else\n"
     ]
    }
   ],
   "source": [
    "for i in range(10):\n",
    "    if 3==i:\n",
    "        print(3)\n",
    "    elif 4==i:\n",
    "        print(4)\n",
    "    elif 5==i:\n",
    "        print(5)\n",
    "    else:\n",
    "        print(i,'all else')"
   ]
  },
  {
   "cell_type": "code",
   "execution_count": null,
   "id": "c57dedbe",
   "metadata": {},
   "outputs": [],
   "source": []
  }
 ],
 "metadata": {
  "kernelspec": {
   "display_name": "Python 3 (ipykernel)",
   "language": "python",
   "name": "python3"
  },
  "language_info": {
   "codemirror_mode": {
    "name": "ipython",
    "version": 3
   },
   "file_extension": ".py",
   "mimetype": "text/x-python",
   "name": "python",
   "nbconvert_exporter": "python",
   "pygments_lexer": "ipython3",
   "version": "3.9.6"
  }
 },
 "nbformat": 4,
 "nbformat_minor": 5
}
