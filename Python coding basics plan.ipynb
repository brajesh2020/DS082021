{
 "cells": [
  {
   "cell_type": "code",
   "execution_count": 1,
   "id": "c21defd3",
   "metadata": {},
   "outputs": [],
   "source": [
    "#Python installation\n",
    "#Python comparision with other languages\n",
    "#python keywords\n",
    "#python Namespaces and Scope \n",
    "#Statement, Indentation and Comment in Python\n",
    "#Structuring Python Programs\n",
    "#How to check if a string is a valid keyword in Python?\n",
    "#How to assign values to variables in Python and other languages\n",
    "#How to print without newline in Python?"
   ]
  },
  {
   "cell_type": "code",
   "execution_count": 2,
   "id": "5ed9d2e4",
   "metadata": {},
   "outputs": [],
   "source": [
    "#Python if else decision making\n",
    "# if statement\n",
    "# if..else statements\n",
    "# nested if statements\n",
    "# if-elif ladder\n",
    "# Short Hand if statement\n",
    "# Short Hand if-else statement \n",
    "\n",
    "# Basic calculator program using Python\n"
   ]
  },
  {
   "cell_type": "code",
   "execution_count": 3,
   "id": "09dc2c2f",
   "metadata": {},
   "outputs": [],
   "source": [
    "# Taking input in Python\n",
    "# Taking input from console in Python\n",
    "# Taking multiple inputs from user in Python\n",
    "# Python Input Methods for Competitive Programming"
   ]
  },
  {
   "cell_type": "code",
   "execution_count": 4,
   "id": "96ee2f11",
   "metadata": {},
   "outputs": [
    {
     "ename": "SyntaxError",
     "evalue": "invalid syntax (Temp/ipykernel_17164/2205912627.py, line 1)",
     "output_type": "error",
     "traceback": [
      "\u001b[1;36m  File \u001b[1;32m\"C:\\Users\\win10\\AppData\\Local\\Temp/ipykernel_17164/2205912627.py\"\u001b[1;36m, line \u001b[1;32m1\u001b[0m\n\u001b[1;33m    https://docs.python.org/3/library/functions.html\u001b[0m\n\u001b[1;37m          ^\u001b[0m\n\u001b[1;31mSyntaxError\u001b[0m\u001b[1;31m:\u001b[0m invalid syntax\n"
     ]
    }
   ],
   "source": [
    "# https://docs.python.org/3/library/functions.html\n",
    "\n",
    "# built in functions in python , one read of each function"
   ]
  },
  {
   "cell_type": "code",
   "execution_count": null,
   "id": "e3400660",
   "metadata": {},
   "outputs": [],
   "source": []
  }
 ],
 "metadata": {
  "kernelspec": {
   "display_name": "Python 3 (ipykernel)",
   "language": "python",
   "name": "python3"
  },
  "language_info": {
   "codemirror_mode": {
    "name": "ipython",
    "version": 3
   },
   "file_extension": ".py",
   "mimetype": "text/x-python",
   "name": "python",
   "nbconvert_exporter": "python",
   "pygments_lexer": "ipython3",
   "version": "3.9.6"
  }
 },
 "nbformat": 4,
 "nbformat_minor": 5
}
