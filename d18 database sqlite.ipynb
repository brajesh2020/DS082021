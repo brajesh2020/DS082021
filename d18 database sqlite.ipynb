{
 "cells": [
  {
   "cell_type": "markdown",
   "id": "85588959",
   "metadata": {},
   "source": [
    "Here, we are going to connect SQLite with Python. Python has a native library for SQLite. Let us explain how it works.\n",
    "\n",
    "To use SQLite, we must import sqlite3.\n",
    "Then create a connection using connect() method and pass the name of the database you want to access if there is a file with that name, it will open that file. Otherwise, Python will create a file with the given name.\n",
    "After this, a cursor object is called to be capable to send commands to the SQL. Cursor is a control structure used to traverse and fetch the records of the database. Cursor has a major role in working with Python. All the commands will be executed using cursor object only.\n",
    "To create a table in the database, create an object and write the SQL command in it with being commented. Example:- sql_comm = ”SQL statement”\n",
    "And executing the command is very easy. Call the cursor method execute and pass the name of the sql command as a parameter in it. Save a number of commands as the sql_comm and execute them. After you perform all your activities, save the changes in the file by committing those changes and then lose the connection."
   ]
  },
  {
   "cell_type": "code",
   "execution_count": 1,
   "id": "784dcc02",
   "metadata": {},
   "outputs": [],
   "source": [
    "# Working With Database\n",
    "# SQL using Python | Set 1\n",
    "# SQL using Python and SQLite | Set 2\n",
    "# SQL using Python | Set 3 (Handling large data)\n",
    "# Inserting variables to database table using Python\n",
    "# MYSQLdb Connection in Python\n",
    "# Database management in PostgreSQL\n",
    "# Oracle Database Connection in Python"
   ]
  },
  {
   "cell_type": "code",
   "execution_count": null,
   "id": "bab599b1",
   "metadata": {},
   "outputs": [],
   "source": [
    "# sqlite \n",
    "\n",
    "# oracle\n",
    "\n",
    "\n",
    "# create\n",
    "# update\n",
    "# delete\n",
    "# insert\n",
    "# drop"
   ]
  }
 ],
 "metadata": {
  "kernelspec": {
   "display_name": "Python 3 (ipykernel)",
   "language": "python",
   "name": "python3"
  },
  "language_info": {
   "codemirror_mode": {
    "name": "ipython",
    "version": 3
   },
   "file_extension": ".py",
   "mimetype": "text/x-python",
   "name": "python",
   "nbconvert_exporter": "python",
   "pygments_lexer": "ipython3",
   "version": "3.9.6"
  }
 },
 "nbformat": 4,
 "nbformat_minor": 5
}
