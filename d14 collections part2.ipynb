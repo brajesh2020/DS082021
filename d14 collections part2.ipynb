{
 "cells": [
  {
   "cell_type": "markdown",
   "id": "1b23c7d0",
   "metadata": {},
   "source": [
    "###namedtuple\n",
    "\n",
    "Python supports a type of container like dictionaries called “namedtuple()” present in module, “collections“. \n",
    "Like dictionaries they contain keys that are hashed to a particular value. But on contrary, \n",
    "it supports both access from key value and iteration, the functionality that dictionaries lack."
   ]
  },
  {
   "cell_type": "code",
   "execution_count": 4,
   "id": "7668e9b9",
   "metadata": {},
   "outputs": [
    {
     "name": "stdout",
     "output_type": "stream",
     "text": [
      "The Student age using index is : Nandini 19 2541997\n",
      "The Student name using keyname is : Nandini 19 2541997 <built-in method count of Student object at 0x00000238747F7720> <built-in method index of Student object at 0x00000238747F7720>\n"
     ]
    }
   ],
   "source": [
    "# Python code to demonstrate namedtuple() \n",
    "      \n",
    "from collections import namedtuple \n",
    "      \n",
    "# Declaring namedtuple()  \n",
    "Student = namedtuple('Student',['name','age','DOB'])  \n",
    "      \n",
    "# Adding values  \n",
    "S = Student('Nandini','19','2541997')  \n",
    "      \n",
    "# Access using index  \n",
    "print (\"The Student age using index is : \",end =\"\")  \n",
    "print (S[0],S[1],S[2])  \n",
    "      \n",
    "# Access using name   \n",
    "print (\"The Student name using keyname is : \",end =\"\")  \n",
    "print (S.name,S.age,S.DOB,S.count,S.index)  #count and index would be allowed thru a particular value / iteration , not directly"
   ]
  },
  {
   "cell_type": "code",
   "execution_count": 5,
   "id": "f6a22e8f",
   "metadata": {},
   "outputs": [
    {
     "name": "stdout",
     "output_type": "stream",
     "text": [
      "The Student age using index is : 19\n",
      "The Student name using keyname is : Nandini\n",
      "The Student DOB using getattr() is : 2541997\n"
     ]
    }
   ],
   "source": [
    "# Access by name, index and getattr()\n",
    "  \n",
    "# importing \"collections\" for namedtuple()\n",
    "import collections\n",
    "  \n",
    "# Declaring namedtuple()\n",
    "Student = collections.namedtuple('Student',['name','age','DOB'])\n",
    "  \n",
    "# Adding values\n",
    "S = Student('Nandini','19','2541997')\n",
    "  \n",
    "# Access using index\n",
    "print (\"The Student age using index is : \",end =\"\")\n",
    "print (S[1])\n",
    "  \n",
    "# Access using name \n",
    "print (\"The Student name using keyname is : \",end =\"\")\n",
    "print (S.name)\n",
    "  \n",
    "# Access using getattr()\n",
    "print (\"The Student DOB using getattr() is : \",end =\"\")\n",
    "print (getattr(S,'DOB'))"
   ]
  },
  {
   "cell_type": "code",
   "execution_count": 6,
   "id": "65e5c3f4",
   "metadata": {},
   "outputs": [
    {
     "name": "stdout",
     "output_type": "stream",
     "text": [
      "The namedtuple instance using iterable is  : \n",
      "Student(name='Manjeet', age='19', DOB='411997')\n",
      "The OrderedDict instance using namedtuple is  : \n",
      "{'name': 'Nandini', 'age': '19', 'DOB': '2541997'}\n",
      "The namedtuple instance from dict is  : \n",
      "Student(name='Nikhil', age=19, DOB='1391997')\n"
     ]
    }
   ],
   "source": [
    "\n",
    "# Python code to demonstrate namedtuple() and\n",
    "# _make(), _asdict() and \"**\" operator\n",
    "  \n",
    "# importing \"collections\" for namedtuple()\n",
    "import collections\n",
    "  \n",
    "# Declaring namedtuple()\n",
    "Student = collections.namedtuple('Student',['name','age','DOB'])\n",
    "  \n",
    "# Adding values\n",
    "S = Student('Nandini','19','2541997')\n",
    "  \n",
    "# initializing iterable \n",
    "li = ['Manjeet', '19', '411997']\n",
    "  \n",
    "# initializing dict\n",
    "di = { 'name' : \"Nikhil\", 'age' : 19 , 'DOB' : '1391997' }\n",
    "  \n",
    "# using _make() to return namedtuple()\n",
    "print (\"The namedtuple instance using iterable is  : \")\n",
    "print (Student._make(li))\n",
    "  \n",
    "# using _asdict() to return an OrderedDict()\n",
    "print (\"The OrderedDict instance using namedtuple is  : \")\n",
    "print (S._asdict())\n",
    "  \n",
    "# using ** operator to return namedtuple from dictionary\n",
    "print (\"The namedtuple instance from dict is  : \")\n",
    "print (Student(**di))\n"
   ]
  },
  {
   "cell_type": "code",
   "execution_count": 7,
   "id": "f76f6dbd",
   "metadata": {},
   "outputs": [
    {
     "name": "stdout",
     "output_type": "stream",
     "text": [
      "All the fields of students are : \n",
      "('name', 'age', 'DOB')\n",
      "The modified namedtuple is : \n",
      "Student(name='Manjeet', age='19', DOB='2541997')\n"
     ]
    }
   ],
   "source": [
    "# Python code to demonstrate namedtuple() and\n",
    "# _fields and _replace()\n",
    "  \n",
    "# importing \"collections\" for namedtuple()\n",
    "import collections\n",
    "  \n",
    "# Declaring namedtuple()\n",
    "Student = collections.namedtuple('Student',['name','age','DOB'])\n",
    "  \n",
    "# Adding values\n",
    "S = Student('Nandini','19','2541997')\n",
    "  \n",
    "# using _fields to display all the keynames of namedtuple()\n",
    "print (\"All the fields of students are : \")\n",
    "print (S._fields)\n",
    "  \n",
    "# using _replace() to change the attribute values of namedtuple\n",
    "print (\"The modified namedtuple is : \")\n",
    "print(S._replace(name = 'Manjeet'))\n",
    "\n",
    "\n",
    "# S._"
   ]
  },
  {
   "cell_type": "markdown",
   "id": "fc9a4a72",
   "metadata": {},
   "source": [
    "heap\n",
    "\n",
    "Heap data structure is mainly used to represent a priority queue. In Python, it is available using “heapq” module. The property of this data structure in Python is that each time the smallest of heap element is popped(min heap). Whenever elements are pushed or popped, heap structure in maintained. The heap[0] element also returns the smallest element each time.\n",
    "\n"
   ]
  },
  {
   "cell_type": "code",
   "execution_count": 11,
   "id": "5e96496b",
   "metadata": {},
   "outputs": [
    {
     "name": "stdout",
     "output_type": "stream",
     "text": [
      "The created heap is : [1, 3, 9, 7, 5]\n",
      "The modified heap after push is : [1, 3, 4, 7, 5, 9]\n",
      "The popped and smallest element is : 1\n",
      "[3, 5, 4, 7, 9]\n",
      "before1 [3, 5, 4, 7, 9]\n",
      "The popped item using heappushpop() is : 2\n",
      "after1 [3, 5, 4, 7, 9]\n",
      "before2 [3, 5, 4, 7, 9]\n",
      "The popped item using heapreplace() is : 3\n",
      "after2 [2, 5, 4, 7, 9]\n",
      "before1 [2, 5, 4, 7, 9]\n",
      "The 3 largest numbers in list are : [9, 7, 5]\n",
      "after1 [2, 5, 4, 7, 9]\n",
      "before2 [2, 5, 4, 7, 9]\n",
      "The 3 smallest numbers in list are : [2, 4, 5]\n",
      "after1 [2, 5, 4, 7, 9]\n"
     ]
    }
   ],
   "source": [
    "# heapify(), heappush() and heappop()\n",
    "  \n",
    "# importing \"heapq\" to implement heap queue\n",
    "import heapq\n",
    "  \n",
    "# initializing list\n",
    "li = [5, 7, 9, 1, 3]\n",
    "  \n",
    "# using heapify to convert list into heap\n",
    "heapq.heapify(li)\n",
    "  \n",
    "# printing created heap\n",
    "print (\"The created heap is : \",end=\"\")\n",
    "print (list(li))\n",
    "  \n",
    "# using heappush() to push elements into heap\n",
    "# pushes 4\n",
    "heapq.heappush(li,4)\n",
    "  \n",
    "# printing modified heap\n",
    "print (\"The modified heap after push is : \",end=\"\")\n",
    "print (list(li))\n",
    "  \n",
    "# using heappop() to pop smallest element\n",
    "print (\"The popped and smallest element is : \",end=\"\")\n",
    "print (heapq.heappop(li))\n",
    "\n",
    "print (list(li))\n",
    "\n",
    "# using heappushpop() to push and pop items simultaneously\n",
    "# pops 2\n",
    "print ('before1',list(li))\n",
    "print (\"The popped item using heappushpop() is : \",end=\"\")\n",
    "print (heapq.heappushpop(li, 2))\n",
    "print ('after1',list(li))\n",
    "# using heapreplace() to push and pop items simultaneously\n",
    "# pops 3\n",
    "print ('before2',list(li))\n",
    "print (\"The popped item using heapreplace() is : \",end=\"\")\n",
    "print (heapq.heapreplace(li, 2))\n",
    "print ('after2',list(li))\n",
    "\n",
    "# using nlargest to print 3 largest numbers\n",
    "# prints 10, 9 and 8\n",
    "print ('before1',list(li))\n",
    "print(\"The 3 largest numbers in list are : \",end=\"\")\n",
    "print(heapq.nlargest(3, li))\n",
    "print ('after1',list(li))\n",
    "\n",
    "# using nsmallest to print 3 smallest numbers\n",
    "# prints 1, 3 and 4\n",
    "print ('before2',list(li))\n",
    "print(\"The 3 smallest numbers in list are : \",end=\"\")\n",
    "print(heapq.nsmallest(3, li))\n",
    "print ('after1',list(li))"
   ]
  },
  {
   "cell_type": "markdown",
   "id": "1532922d",
   "metadata": {},
   "source": [
    "userdict\n",
    "\n",
    "Python supports a dictionary like a container called UserDict present in the collections module. This class acts as a wrapper class around the dictionary objects. This class is useful when one wants to create a dictionary of their own with some modified functionality or with some new functionality. It can be considered as a way of adding new behaviors for the dictionary. This class takes a dictionary instance as an argument and simulates a dictionary that is kept in a regular dictionary. The dictionary is accessible by the data attribute of this class.\n"
   ]
  },
  {
   "cell_type": "code",
   "execution_count": 12,
   "id": "668c89d7",
   "metadata": {},
   "outputs": [
    {
     "name": "stdout",
     "output_type": "stream",
     "text": [
      "{'a': 1, 'b': 2, 'c': 3}\n",
      "{}\n"
     ]
    }
   ],
   "source": [
    "# Python program to demonstrate\n",
    "# userdict\n",
    " \n",
    " \n",
    "from collections import UserDict\n",
    " \n",
    " \n",
    "d = {'a':1,\n",
    "    'b': 2,\n",
    "    'c': 3}\n",
    " \n",
    "# Creating an UserDict\n",
    "userD = UserDict(d)\n",
    "print(userD.data)\n",
    " \n",
    " \n",
    "# Creating an empty UserDict\n",
    "userD = UserDict()\n",
    "print(userD.data)"
   ]
  },
  {
   "cell_type": "markdown",
   "id": "8c595459",
   "metadata": {},
   "source": [
    "Example 2: Let’s create a class inherting from UserDict to implement a customised dictionary.\n"
   ]
  },
  {
   "cell_type": "code",
   "execution_count": 14,
   "id": "5d186b6a",
   "metadata": {},
   "outputs": [
    {
     "name": "stdout",
     "output_type": "stream",
     "text": [
      "Original Dictionary\n",
      "{'a': 1, 'b': 2, 'c': 3}\n"
     ]
    },
    {
     "ename": "RuntimeError",
     "evalue": "Deletion not allowed",
     "output_type": "error",
     "traceback": [
      "\u001b[1;31m---------------------------------------------------------------------------\u001b[0m",
      "\u001b[1;31mRuntimeError\u001b[0m                              Traceback (most recent call last)",
      "\u001b[1;32m~\\AppData\\Local\\Temp/ipykernel_23276/1368066397.py\u001b[0m in \u001b[0;36m<module>\u001b[1;34m\u001b[0m\n\u001b[0;32m     32\u001b[0m \u001b[0mprint\u001b[0m\u001b[1;33m(\u001b[0m\u001b[0md\u001b[0m\u001b[1;33m)\u001b[0m\u001b[1;33m\u001b[0m\u001b[1;33m\u001b[0m\u001b[0m\n\u001b[0;32m     33\u001b[0m \u001b[1;33m\u001b[0m\u001b[0m\n\u001b[1;32m---> 34\u001b[1;33m \u001b[0md\u001b[0m\u001b[1;33m.\u001b[0m\u001b[0mpop\u001b[0m\u001b[1;33m(\u001b[0m\u001b[1;36m1\u001b[0m\u001b[1;33m)\u001b[0m\u001b[1;33m\u001b[0m\u001b[1;33m\u001b[0m\u001b[0m\n\u001b[0m\u001b[0;32m     35\u001b[0m \u001b[1;33m\u001b[0m\u001b[0m\n\u001b[0;32m     36\u001b[0m \u001b[1;31m# as it passes thru mydict, it will prefer the properties mentioned under mydict before referring to the properties under dict\u001b[0m\u001b[1;33m\u001b[0m\u001b[1;33m\u001b[0m\u001b[1;33m\u001b[0m\u001b[0m\n",
      "\u001b[1;32m~\\AppData\\Local\\Temp/ipykernel_23276/1368066397.py\u001b[0m in \u001b[0;36mpop\u001b[1;34m(self, s)\u001b[0m\n\u001b[0;32m     17\u001b[0m     \u001b[1;31m# dictionary\u001b[0m\u001b[1;33m\u001b[0m\u001b[1;33m\u001b[0m\u001b[1;33m\u001b[0m\u001b[0m\n\u001b[0;32m     18\u001b[0m     \u001b[1;32mdef\u001b[0m \u001b[0mpop\u001b[0m\u001b[1;33m(\u001b[0m\u001b[0mself\u001b[0m\u001b[1;33m,\u001b[0m \u001b[0ms\u001b[0m \u001b[1;33m=\u001b[0m \u001b[1;32mNone\u001b[0m\u001b[1;33m)\u001b[0m\u001b[1;33m:\u001b[0m\u001b[1;33m\u001b[0m\u001b[1;33m\u001b[0m\u001b[0m\n\u001b[1;32m---> 19\u001b[1;33m         \u001b[1;32mraise\u001b[0m \u001b[0mRuntimeError\u001b[0m\u001b[1;33m(\u001b[0m\u001b[1;34m\"Deletion not allowed\"\u001b[0m\u001b[1;33m)\u001b[0m\u001b[1;33m\u001b[0m\u001b[1;33m\u001b[0m\u001b[0m\n\u001b[0m\u001b[0;32m     20\u001b[0m \u001b[1;33m\u001b[0m\u001b[0m\n\u001b[0;32m     21\u001b[0m     \u001b[1;31m# Function to stop popitem\u001b[0m\u001b[1;33m\u001b[0m\u001b[1;33m\u001b[0m\u001b[1;33m\u001b[0m\u001b[0m\n",
      "\u001b[1;31mRuntimeError\u001b[0m: Deletion not allowed"
     ]
    }
   ],
   "source": [
    "# userdict\n",
    "  \n",
    " \n",
    "from collections import UserDict\n",
    "  \n",
    " \n",
    "# Creating a Dictionary where\n",
    "# deletion is not allowed\n",
    "class MyDict(UserDict):\n",
    "     \n",
    "    # Function to stop deletion\n",
    "    # from dictionary\n",
    "    def __del__(self):\n",
    "        raise RuntimeError(\"Deletion not allowed\")\n",
    "         \n",
    "    # Function to stop pop from\n",
    "    # dictionary\n",
    "    def pop(self, s = None):\n",
    "        raise RuntimeError(\"Deletion not allowed\")\n",
    "         \n",
    "    # Function to stop popitem\n",
    "    # from Dictionary\n",
    "    def popitem(self, s = None):\n",
    "        raise RuntimeError(\"Deletion not allowed\")\n",
    "     \n",
    "# Driver's code\n",
    "d = MyDict({'a':1,\n",
    "    'b': 2,\n",
    "    'c': 3})\n",
    " \n",
    "print(\"Original Dictionary\")\n",
    "print(d)\n",
    " \n",
    "d.pop(1)\n",
    "\n",
    "# as it passes thru mydict, it will prefer the properties mentioned under mydict before referring to the properties under dict"
   ]
  },
  {
   "cell_type": "markdown",
   "id": "c112dd1c",
   "metadata": {},
   "source": [
    "userlist\n",
    "\n",
    "\n",
    "Python Lists are array-like data structure but unlike it can be homogeneous. A single list may contain DataTypes like Integers, Strings, as well as Objects. List in Python are ordered and have a definite count. The elements in a list are indexed according to a definite sequence and the indexing of a list is done with 0 being the first index. \n"
   ]
  },
  {
   "cell_type": "code",
   "execution_count": 15,
   "id": "3600e71d",
   "metadata": {},
   "outputs": [
    {
     "name": "stdout",
     "output_type": "stream",
     "text": [
      "[1, 2, 3, 4]\n",
      "[]\n"
     ]
    }
   ],
   "source": [
    "# Python program to demonstrate\n",
    "# userlist\n",
    " \n",
    " \n",
    "from collections import UserList\n",
    " \n",
    " \n",
    "L = [1, 2, 3, 4]\n",
    " \n",
    "# Creating a userlist\n",
    "userL = UserList(L)\n",
    "print(userL.data)\n",
    " \n",
    " \n",
    "# Creating empty userlist\n",
    "userL = UserList()\n",
    "print(userL.data)"
   ]
  },
  {
   "cell_type": "code",
   "execution_count": 16,
   "id": "336c46e2",
   "metadata": {},
   "outputs": [
    {
     "name": "stdout",
     "output_type": "stream",
     "text": [
      "Original List\n",
      "After Insertion\n",
      "[1, 2, 3, 4, 5]\n"
     ]
    },
    {
     "ename": "RuntimeError",
     "evalue": "Deletion not allowed",
     "output_type": "error",
     "traceback": [
      "\u001b[1;31m---------------------------------------------------------------------------\u001b[0m",
      "\u001b[1;31mRuntimeError\u001b[0m                              Traceback (most recent call last)",
      "\u001b[1;32m~\\AppData\\Local\\Temp/ipykernel_23276/1454872141.py\u001b[0m in \u001b[0;36m<module>\u001b[1;34m\u001b[0m\n\u001b[0;32m     31\u001b[0m \u001b[1;33m\u001b[0m\u001b[0m\n\u001b[0;32m     32\u001b[0m \u001b[1;31m# Deleting From List\u001b[0m\u001b[1;33m\u001b[0m\u001b[1;33m\u001b[0m\u001b[1;33m\u001b[0m\u001b[0m\n\u001b[1;32m---> 33\u001b[1;33m \u001b[0mL\u001b[0m\u001b[1;33m.\u001b[0m\u001b[0mremove\u001b[0m\u001b[1;33m(\u001b[0m\u001b[1;33m)\u001b[0m\u001b[1;33m\u001b[0m\u001b[1;33m\u001b[0m\u001b[0m\n\u001b[0m",
      "\u001b[1;32m~\\AppData\\Local\\Temp/ipykernel_23276/1454872141.py\u001b[0m in \u001b[0;36mremove\u001b[1;34m(self, s)\u001b[0m\n\u001b[0;32m     13\u001b[0m     \u001b[1;31m# from List\u001b[0m\u001b[1;33m\u001b[0m\u001b[1;33m\u001b[0m\u001b[1;33m\u001b[0m\u001b[0m\n\u001b[0;32m     14\u001b[0m     \u001b[1;32mdef\u001b[0m \u001b[0mremove\u001b[0m\u001b[1;33m(\u001b[0m\u001b[0mself\u001b[0m\u001b[1;33m,\u001b[0m \u001b[0ms\u001b[0m \u001b[1;33m=\u001b[0m \u001b[1;32mNone\u001b[0m\u001b[1;33m)\u001b[0m\u001b[1;33m:\u001b[0m\u001b[1;33m\u001b[0m\u001b[1;33m\u001b[0m\u001b[0m\n\u001b[1;32m---> 15\u001b[1;33m         \u001b[1;32mraise\u001b[0m \u001b[0mRuntimeError\u001b[0m\u001b[1;33m(\u001b[0m\u001b[1;34m\"Deletion not allowed\"\u001b[0m\u001b[1;33m)\u001b[0m\u001b[1;33m\u001b[0m\u001b[1;33m\u001b[0m\u001b[0m\n\u001b[0m\u001b[0;32m     16\u001b[0m \u001b[1;33m\u001b[0m\u001b[0m\n\u001b[0;32m     17\u001b[0m     \u001b[1;31m# Function to stop pop from\u001b[0m\u001b[1;33m\u001b[0m\u001b[1;33m\u001b[0m\u001b[1;33m\u001b[0m\u001b[0m\n",
      "\u001b[1;31mRuntimeError\u001b[0m: Deletion not allowed"
     ]
    }
   ],
   "source": [
    "# Python program to demonstrate\n",
    "# userlist\n",
    "  \n",
    " \n",
    "from collections import UserList\n",
    "  \n",
    " \n",
    "# Creating a List where\n",
    "# deletion is not allowed\n",
    "class MyList(UserList):\n",
    "     \n",
    "    # Function to stop deletion\n",
    "    # from List\n",
    "    def remove(self, s = None):\n",
    "        raise RuntimeError(\"Deletion not allowed\")\n",
    "         \n",
    "    # Function to stop pop from\n",
    "    # List\n",
    "    def pop(self, s = None):\n",
    "        raise RuntimeError(\"Deletion not allowed\")\n",
    "     \n",
    "# Driver's code\n",
    "L = MyList([1, 2, 3, 4])\n",
    " \n",
    "print(\"Original List\")\n",
    " \n",
    "# Inserting to List\"\n",
    "L.append(5)\n",
    "print(\"After Insertion\")\n",
    "print(L)\n",
    " \n",
    "# Deleting From List\n",
    "L.remove()"
   ]
  },
  {
   "cell_type": "markdown",
   "id": "3a84ddf8",
   "metadata": {},
   "source": [
    "userstring\n",
    "\n",
    "Strings are the arrays of bytes representing Unicode characters. However, Python does not support the character data type. A character is a string of length one. \n"
   ]
  },
  {
   "cell_type": "code",
   "execution_count": 17,
   "id": "cd9b7136",
   "metadata": {},
   "outputs": [
    {
     "name": "stdout",
     "output_type": "stream",
     "text": [
      "String with the use of Single Quotes: \n",
      "Welcome to the Rabbit World\n",
      "\n",
      "String with the use of Double Quotes: \n",
      "I'm a Rabbit\n"
     ]
    }
   ],
   "source": [
    "# Python program to demonstrate\n",
    "# string\n",
    " \n",
    "# Creating a String \n",
    "# with single Quotes\n",
    "String1 = 'Welcome to the Rabbit World'\n",
    "print(\"String with the use of Single Quotes: \")\n",
    "print(String1)\n",
    "   \n",
    "# Creating a String\n",
    "# with double Quotes\n",
    "String1 = \"I'm a Rabbit\"\n",
    "print(\"\\nString with the use of Double Quotes: \")\n",
    "print(String1)"
   ]
  },
  {
   "cell_type": "code",
   "execution_count": 18,
   "id": "e15b881f",
   "metadata": {},
   "outputs": [
    {
     "name": "stdout",
     "output_type": "stream",
     "text": [
      "12344\n",
      "\n"
     ]
    }
   ],
   "source": [
    "# Python program to demonstrate\n",
    "# userstring\n",
    " \n",
    " \n",
    "from collections import UserString\n",
    " \n",
    " \n",
    "d = 12344\n",
    " \n",
    "# Creating an UserDict\n",
    "userS = UserString(d)\n",
    "print(userS.data)\n",
    " \n",
    " \n",
    "# Creating an empty UserDict\n",
    "userS = UserString(\"\")\n",
    "print(userS.data)"
   ]
  },
  {
   "cell_type": "code",
   "execution_count": 19,
   "id": "b770b162",
   "metadata": {},
   "outputs": [
    {
     "name": "stdout",
     "output_type": "stream",
     "text": [
      "Original String: Rabbit\n",
      "String After Appending: Rabbits\n",
      "String after Removing: Rabbits\n"
     ]
    }
   ],
   "source": [
    "# Python program to demonstrate\n",
    "# userstring\n",
    "  \n",
    " \n",
    "from collections import UserString\n",
    "  \n",
    " \n",
    "# Creating a Mutable String\n",
    "class Mystring(UserString):\n",
    "     \n",
    "    # Function to append to\n",
    "    # string\n",
    "    def append(self, s):\n",
    "        self.data += s\n",
    "         \n",
    "    # Function to remove from\n",
    "    # string\n",
    "    def remove(self, s):\n",
    "        self.data = self.data.replace(s, \"\")\n",
    "     \n",
    "# Driver's code\n",
    "s1 = Mystring(\"Rabbit\")\n",
    "print(\"Original String:\", s1.data)\n",
    " \n",
    "# Appending to string\n",
    "s1.append(\"s\")\n",
    "print(\"String After Appending:\", s1.data)\n",
    " \n",
    "# Removing from string\n",
    "s1.remove(\"e\")\n",
    "print(\"String after Removing:\", s1.data)\n",
    "\n",
    "#homework , add similar functionality without using class"
   ]
  },
  {
   "cell_type": "code",
   "execution_count": null,
   "id": "d6dcd6d2",
   "metadata": {},
   "outputs": [],
   "source": []
  }
 ],
 "metadata": {
  "kernelspec": {
   "display_name": "Python 3 (ipykernel)",
   "language": "python",
   "name": "python3"
  },
  "language_info": {
   "codemirror_mode": {
    "name": "ipython",
    "version": 3
   },
   "file_extension": ".py",
   "mimetype": "text/x-python",
   "name": "python",
   "nbconvert_exporter": "python",
   "pygments_lexer": "ipython3",
   "version": "3.9.6"
  }
 },
 "nbformat": 4,
 "nbformat_minor": 5
}
