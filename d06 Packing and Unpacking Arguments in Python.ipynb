{
 "cells": [
  {
   "cell_type": "code",
   "execution_count": 14,
   "id": "c4b1ed9b",
   "metadata": {},
   "outputs": [
    {
     "name": "stdout",
     "output_type": "stream",
     "text": [
      "10 (1, 2, 3, 4) {1: 11, 2: 'b', 3: 10, 4: [2, 3]} [1, 2, 3, 4] [1, 2, 3, 4]\n",
      "20 (1, 2, 3, 4) {1: 11, 2: 'b', 3: 10, 4: [2, 3]} [1, 2, 3, 4] [1, 2, 3, 4] (1, 2, 3, 4) {1: 11, 2: 'b', 3: 10, 4: [2, 3]} [1, 2, 3, 4] [1, 2, 3, 4]\n",
      "30 [1, 2, 3, 4] (1, 2, 3, 4)\n"
     ]
    }
   ],
   "source": [
    "# A Python program to demonstrate need\n",
    "# of packing and unpacking\n",
    " \n",
    "# A sample function that takes 4 arguments\n",
    "# and prints them.\n",
    "def fun(a, b, c, d):\n",
    "    print(10,a, b, c, d)\n",
    "    print(20,a, b, c, d,a, b, c, d)\n",
    "    print(30,d,a)\n",
    "     \n",
    "# Driver Code\n",
    "# a=11\n",
    "my_list = [1, 2, 3, 4]\n",
    "my_list1 = tuple([1, 2, 3, 4])\n",
    "my_list2 = {1:a, 2:'b', 3:10, 4:[2,3]}\n",
    "\n",
    "# print(my_list,my_list,my_list,my_list)\n",
    "# This doesn't work\n",
    "# fun(my_list1) # as it requires 4 objects\n",
    "# fun(*my_list1)\n",
    "\n",
    "fun(my_list1,my_list2,my_list,my_list) # 4 objects could be 4 lists"
   ]
  },
  {
   "cell_type": "code",
   "execution_count": 17,
   "id": "0d14c12d",
   "metadata": {},
   "outputs": [
    {
     "ename": "TypeError",
     "evalue": "func() takes 4 positional arguments but 5 were given",
     "output_type": "error",
     "traceback": [
      "\u001b[1;31m---------------------------------------------------------------------------\u001b[0m",
      "\u001b[1;31mTypeError\u001b[0m                                 Traceback (most recent call last)",
      "\u001b[1;32m~\\AppData\\Local\\Temp/ipykernel_1184/2639687286.py\u001b[0m in \u001b[0;36m<module>\u001b[1;34m\u001b[0m\n\u001b[0;32m      7\u001b[0m \u001b[1;33m\u001b[0m\u001b[0m\n\u001b[0;32m      8\u001b[0m \u001b[1;31m# calling function with unpacking args\u001b[0m\u001b[1;33m\u001b[0m\u001b[1;33m\u001b[0m\u001b[1;33m\u001b[0m\u001b[0m\n\u001b[1;32m----> 9\u001b[1;33m \u001b[0mfunc\u001b[0m\u001b[1;33m(\u001b[0m\u001b[1;33m*\u001b[0m\u001b[0margs\u001b[0m\u001b[1;33m)\u001b[0m\u001b[1;33m\u001b[0m\u001b[1;33m\u001b[0m\u001b[0m\n\u001b[0m",
      "\u001b[1;31mTypeError\u001b[0m: func() takes 4 positional arguments but 5 were given"
     ]
    }
   ],
   "source": [
    "args = [0, 1, 4, 9,1]\n",
    " \n",
    " \n",
    "def func(a, b, c,d):\n",
    "    return a + b + c+d\n",
    " \n",
    " \n",
    "# calling function with unpacking args\n",
    "func(*args) \n",
    "#if bnumber of arguments are mismatching , it will not take any of them \n",
    "# as not abvle to decide which one to exclude"
   ]
  },
  {
   "cell_type": "code",
   "execution_count": 18,
   "id": "cc2b6f03",
   "metadata": {},
   "outputs": [
    {
     "name": "stdout",
     "output_type": "stream",
     "text": [
      "range(3, 9)\n"
     ]
    }
   ],
   "source": [
    "print (range(3,9))"
   ]
  },
  {
   "cell_type": "code",
   "execution_count": 19,
   "id": "b7017e71",
   "metadata": {},
   "outputs": [
    {
     "data": {
      "text/plain": [
       "range(3, 9)"
      ]
     },
     "execution_count": 19,
     "metadata": {},
     "output_type": "execute_result"
    }
   ],
   "source": [
    "range(3, 9)"
   ]
  },
  {
   "cell_type": "code",
   "execution_count": 22,
   "id": "03c2c315",
   "metadata": {},
   "outputs": [
    {
     "ename": "SyntaxError",
     "evalue": "invalid syntax (Temp/ipykernel_1184/186188921.py, line 1)",
     "output_type": "error",
     "traceback": [
      "\u001b[1;36m  File \u001b[1;32m\"C:\\Users\\win10\\AppData\\Local\\Temp/ipykernel_1184/186188921.py\"\u001b[1;36m, line \u001b[1;32m1\u001b[0m\n\u001b[1;33m    print(range(3 : 9))\u001b[0m\n\u001b[1;37m                  ^\u001b[0m\n\u001b[1;31mSyntaxError\u001b[0m\u001b[1;31m:\u001b[0m invalid syntax\n"
     ]
    }
   ],
   "source": [
    "print(range(3 : 9))"
   ]
  },
  {
   "cell_type": "code",
   "execution_count": 23,
   "id": "b35adb68",
   "metadata": {},
   "outputs": [
    {
     "name": "stdout",
     "output_type": "stream",
     "text": [
      "3\n",
      "4\n",
      "5\n",
      "6\n",
      "7\n",
      "8\n"
     ]
    }
   ],
   "source": [
    "for i in range(3,9):\n",
    "    print(i)"
   ]
  },
  {
   "cell_type": "code",
   "execution_count": 24,
   "id": "322c12f8",
   "metadata": {},
   "outputs": [
    {
     "name": "stdout",
     "output_type": "stream",
     "text": [
      "[3, 4, 5, 6, 7, 8]\n"
     ]
    }
   ],
   "source": [
    "print(list(range(3,9)))"
   ]
  },
  {
   "cell_type": "code",
   "execution_count": 25,
   "id": "dfdf0b8b",
   "metadata": {},
   "outputs": [],
   "source": [
    "a1=range(3,9)"
   ]
  },
  {
   "cell_type": "code",
   "execution_count": 26,
   "id": "8c8c6989",
   "metadata": {},
   "outputs": [
    {
     "name": "stdout",
     "output_type": "stream",
     "text": [
      "range(3, 9)\n"
     ]
    }
   ],
   "source": [
    "print(a1\n",
    "    )"
   ]
  },
  {
   "cell_type": "code",
   "execution_count": 27,
   "id": "de6d5015",
   "metadata": {},
   "outputs": [
    {
     "name": "stdout",
     "output_type": "stream",
     "text": [
      "[3, 4, 5, 6, 7, 8]\n"
     ]
    }
   ],
   "source": [
    "print(list(a1))"
   ]
  },
  {
   "cell_type": "code",
   "execution_count": 29,
   "id": "dd193908",
   "metadata": {},
   "outputs": [
    {
     "name": "stdout",
     "output_type": "stream",
     "text": [
      "(3, 4, 5, 6, 7, 8)\n"
     ]
    }
   ],
   "source": [
    "print(tuple(a1))"
   ]
  },
  {
   "cell_type": "code",
   "execution_count": 30,
   "id": "938a9ff8",
   "metadata": {},
   "outputs": [
    {
     "name": "stdout",
     "output_type": "stream",
     "text": [
      "{3, 4, 5, 6, 7, 8}\n"
     ]
    }
   ],
   "source": [
    "print(set(a1))"
   ]
  },
  {
   "cell_type": "code",
   "execution_count": 31,
   "id": "602e3c88",
   "metadata": {},
   "outputs": [
    {
     "ename": "TypeError",
     "evalue": "cannot convert dictionary update sequence element #0 to a sequence",
     "output_type": "error",
     "traceback": [
      "\u001b[1;31m---------------------------------------------------------------------------\u001b[0m",
      "\u001b[1;31mTypeError\u001b[0m                                 Traceback (most recent call last)",
      "\u001b[1;32m~\\AppData\\Local\\Temp/ipykernel_1184/3021263814.py\u001b[0m in \u001b[0;36m<module>\u001b[1;34m\u001b[0m\n\u001b[1;32m----> 1\u001b[1;33m \u001b[0mprint\u001b[0m\u001b[1;33m(\u001b[0m\u001b[0mdict\u001b[0m\u001b[1;33m(\u001b[0m\u001b[0ma1\u001b[0m\u001b[1;33m)\u001b[0m\u001b[1;33m)\u001b[0m\u001b[1;33m\u001b[0m\u001b[1;33m\u001b[0m\u001b[0m\n\u001b[0m",
      "\u001b[1;31mTypeError\u001b[0m: cannot convert dictionary update sequence element #0 to a sequence"
     ]
    }
   ],
   "source": [
    "print(dict(a1))"
   ]
  },
  {
   "cell_type": "code",
   "execution_count": 33,
   "id": "dee813fb",
   "metadata": {},
   "outputs": [
    {
     "ename": "NameError",
     "evalue": "name 'Array' is not defined",
     "output_type": "error",
     "traceback": [
      "\u001b[1;31m---------------------------------------------------------------------------\u001b[0m",
      "\u001b[1;31mNameError\u001b[0m                                 Traceback (most recent call last)",
      "\u001b[1;32m~\\AppData\\Local\\Temp/ipykernel_1184/2470831345.py\u001b[0m in \u001b[0;36m<module>\u001b[1;34m\u001b[0m\n\u001b[1;32m----> 1\u001b[1;33m \u001b[0mprint\u001b[0m\u001b[1;33m(\u001b[0m\u001b[0mArray\u001b[0m\u001b[1;33m(\u001b[0m\u001b[0ma1\u001b[0m\u001b[1;33m)\u001b[0m\u001b[1;33m)\u001b[0m\u001b[1;33m\u001b[0m\u001b[1;33m\u001b[0m\u001b[0m\n\u001b[0m",
      "\u001b[1;31mNameError\u001b[0m: name 'Array' is not defined"
     ]
    }
   ],
   "source": [
    "print(Array(a1))"
   ]
  },
  {
   "cell_type": "code",
   "execution_count": 34,
   "id": "1b580fee",
   "metadata": {},
   "outputs": [
    {
     "ename": "NameError",
     "evalue": "name 'collection' is not defined",
     "output_type": "error",
     "traceback": [
      "\u001b[1;31m---------------------------------------------------------------------------\u001b[0m",
      "\u001b[1;31mNameError\u001b[0m                                 Traceback (most recent call last)",
      "\u001b[1;32m~\\AppData\\Local\\Temp/ipykernel_1184/3594141201.py\u001b[0m in \u001b[0;36m<module>\u001b[1;34m\u001b[0m\n\u001b[1;32m----> 1\u001b[1;33m \u001b[0mprint\u001b[0m\u001b[1;33m(\u001b[0m\u001b[0mcollection\u001b[0m\u001b[1;33m(\u001b[0m\u001b[0ma1\u001b[0m\u001b[1;33m)\u001b[0m\u001b[1;33m)\u001b[0m\u001b[1;33m\u001b[0m\u001b[1;33m\u001b[0m\u001b[0m\n\u001b[0m",
      "\u001b[1;31mNameError\u001b[0m: name 'collection' is not defined"
     ]
    }
   ],
   "source": [
    "print(collection(a1))"
   ]
  },
  {
   "cell_type": "code",
   "execution_count": 35,
   "id": "9bef5d68",
   "metadata": {},
   "outputs": [
    {
     "ename": "NameError",
     "evalue": "name 'Collection' is not defined",
     "output_type": "error",
     "traceback": [
      "\u001b[1;31m---------------------------------------------------------------------------\u001b[0m",
      "\u001b[1;31mNameError\u001b[0m                                 Traceback (most recent call last)",
      "\u001b[1;32m~\\AppData\\Local\\Temp/ipykernel_1184/3088039674.py\u001b[0m in \u001b[0;36m<module>\u001b[1;34m\u001b[0m\n\u001b[1;32m----> 1\u001b[1;33m \u001b[0mprint\u001b[0m\u001b[1;33m(\u001b[0m\u001b[0mCollection\u001b[0m\u001b[1;33m(\u001b[0m\u001b[0ma1\u001b[0m\u001b[1;33m)\u001b[0m\u001b[1;33m)\u001b[0m\u001b[1;33m\u001b[0m\u001b[1;33m\u001b[0m\u001b[0m\n\u001b[0m",
      "\u001b[1;31mNameError\u001b[0m: name 'Collection' is not defined"
     ]
    }
   ],
   "source": [
    "print(Collection(a1))"
   ]
  },
  {
   "cell_type": "code",
   "execution_count": 44,
   "id": "0f84d6b3",
   "metadata": {},
   "outputs": [
    {
     "name": "stdout",
     "output_type": "stream",
     "text": [
      "a set[1, 2, 3]\n",
      "set[1, 2, 3]\n",
      "b 6\n",
      "a set[10, 20]\n",
      "set[10, 20]\n",
      "c 30\n"
     ]
    }
   ],
   "source": [
    "def mySum(*args):\n",
    "#     print('a',args[0])\n",
    "#     print('a',args)\n",
    "#     print('a',list[args])\n",
    "    print('a',set[args])\n",
    "    b=set[args] \n",
    "    print (b) \n",
    "    return sum(args)\n",
    "    print (b) # this does not print as return exits the function\n",
    " \n",
    "# Driver code\n",
    "print('b',mySum(1, 2, 3))\n",
    "print('c',mySum(10, 20))\n",
    "# print (b) #this does not print as b is local to the function"
   ]
  },
  {
   "cell_type": "code",
   "execution_count": 45,
   "id": "12adef6e",
   "metadata": {},
   "outputs": [
    {
     "name": "stdout",
     "output_type": "stream",
     "text": [
      "2 4 10\n"
     ]
    },
    {
     "ename": "TypeError",
     "evalue": "'int' object is not subscriptable",
     "output_type": "error",
     "traceback": [
      "\u001b[1;31m---------------------------------------------------------------------------\u001b[0m",
      "\u001b[1;31mTypeError\u001b[0m                                 Traceback (most recent call last)",
      "\u001b[1;32m~\\AppData\\Local\\Temp/ipykernel_1184/3878625525.py\u001b[0m in \u001b[0;36m<module>\u001b[1;34m\u001b[0m\n\u001b[0;32m      7\u001b[0m \u001b[1;31m# A call with unpacking of dictionary\u001b[0m\u001b[1;33m\u001b[0m\u001b[1;33m\u001b[0m\u001b[1;33m\u001b[0m\u001b[0m\n\u001b[0;32m      8\u001b[0m \u001b[0md\u001b[0m \u001b[1;33m=\u001b[0m \u001b[1;33m{\u001b[0m\u001b[1;34m'a'\u001b[0m\u001b[1;33m:\u001b[0m\u001b[1;36m2\u001b[0m\u001b[1;33m,\u001b[0m \u001b[1;34m'b'\u001b[0m\u001b[1;33m:\u001b[0m\u001b[1;36m4\u001b[0m\u001b[1;33m,\u001b[0m \u001b[1;34m'c'\u001b[0m\u001b[1;33m:\u001b[0m\u001b[1;36m10\u001b[0m\u001b[1;33m}\u001b[0m\u001b[1;33m\u001b[0m\u001b[1;33m\u001b[0m\u001b[0m\n\u001b[1;32m----> 9\u001b[1;33m \u001b[0mfun\u001b[0m\u001b[1;33m(\u001b[0m\u001b[1;33m**\u001b[0m\u001b[0md\u001b[0m\u001b[1;33m)\u001b[0m\u001b[1;33m\u001b[0m\u001b[1;33m\u001b[0m\u001b[0m\n\u001b[0m",
      "\u001b[1;32m~\\AppData\\Local\\Temp/ipykernel_1184/3878625525.py\u001b[0m in \u001b[0;36mfun\u001b[1;34m(a, b, c)\u001b[0m\n\u001b[0;32m      3\u001b[0m \u001b[1;32mdef\u001b[0m \u001b[0mfun\u001b[0m\u001b[1;33m(\u001b[0m\u001b[0ma\u001b[0m\u001b[1;33m,\u001b[0m \u001b[0mb\u001b[0m\u001b[1;33m,\u001b[0m \u001b[0mc\u001b[0m\u001b[1;33m)\u001b[0m\u001b[1;33m:\u001b[0m\u001b[1;33m\u001b[0m\u001b[1;33m\u001b[0m\u001b[0m\n\u001b[0;32m      4\u001b[0m     \u001b[0mprint\u001b[0m\u001b[1;33m(\u001b[0m\u001b[0ma\u001b[0m\u001b[1;33m,\u001b[0m \u001b[0mb\u001b[0m\u001b[1;33m,\u001b[0m \u001b[0mc\u001b[0m\u001b[1;33m)\u001b[0m\u001b[1;33m\u001b[0m\u001b[1;33m\u001b[0m\u001b[0m\n\u001b[1;32m----> 5\u001b[1;33m     \u001b[0mprint\u001b[0m\u001b[1;33m(\u001b[0m\u001b[0ma\u001b[0m\u001b[1;33m[\u001b[0m\u001b[0ma\u001b[0m\u001b[1;33m]\u001b[0m\u001b[1;33m+\u001b[0m\u001b[0mb\u001b[0m\u001b[1;33m[\u001b[0m\u001b[0mb\u001b[0m\u001b[1;33m]\u001b[0m\u001b[1;33m)\u001b[0m\u001b[1;33m\u001b[0m\u001b[1;33m\u001b[0m\u001b[0m\n\u001b[0m\u001b[0;32m      6\u001b[0m \u001b[1;33m\u001b[0m\u001b[0m\n\u001b[0;32m      7\u001b[0m \u001b[1;31m# A call with unpacking of dictionary\u001b[0m\u001b[1;33m\u001b[0m\u001b[1;33m\u001b[0m\u001b[1;33m\u001b[0m\u001b[0m\n",
      "\u001b[1;31mTypeError\u001b[0m: 'int' object is not subscriptable"
     ]
    }
   ],
   "source": [
    "# A sample program to demonstrate unpacking of\n",
    "# dictionary items using **\n",
    "def fun(a, b, c):\n",
    "    print(a, b, c) #it has passed the values  of the dict only and not the keys\n",
    "#     print(4[4])  # is invalid \n",
    "#     print(a[a]+b[b]) # same reason as above, this is also invalid\n",
    " \n",
    "# A call with unpacking of dictionary\n",
    "d = {'a':2, 'b':4, 'c':10}\n",
    "fun(**d)"
   ]
  },
  {
   "cell_type": "code",
   "execution_count": null,
   "id": "3d28fa45",
   "metadata": {},
   "outputs": [],
   "source": [
    "# A Python program to demonstrate packing of\n",
    "# dictionary items using **\n",
    "def fun(**kwargs):\n",
    " \n",
    "    # kwargs is a dict\n",
    "    print(type(kwargs))\n",
    " \n",
    "    # Printing dictionary items\n",
    "    for key in kwargs:\n",
    "        print(\"%s = %s\" % (key, kwargs[key]))\n",
    " \n",
    "# Driver code\n",
    "fun(name=\"geeks\", ID=\"101\", language=\"Python\")"
   ]
  }
 ],
 "metadata": {
  "kernelspec": {
   "display_name": "Python 3 (ipykernel)",
   "language": "python",
   "name": "python3"
  },
  "language_info": {
   "codemirror_mode": {
    "name": "ipython",
    "version": 3
   },
   "file_extension": ".py",
   "mimetype": "text/x-python",
   "name": "python",
   "nbconvert_exporter": "python",
   "pygments_lexer": "ipython3",
   "version": "3.9.6"
  }
 },
 "nbformat": 4,
 "nbformat_minor": 5
}
