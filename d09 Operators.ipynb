{
 "cells": [
  {
   "cell_type": "code",
   "execution_count": 1,
   "id": "a4ca9a06",
   "metadata": {},
   "outputs": [
    {
     "name": "stdout",
     "output_type": "stream",
     "text": [
      "False\n",
      "True\n",
      "True\n"
     ]
    }
   ],
   "source": [
    "# any\n",
    "# all\n",
    "# Since all are false, false is returned\n",
    "print (any([False, False, False, False]))\n",
    "  \n",
    "# Here the method will short-circuit at the\n",
    "# second item (True) and will return True.\n",
    "print (any([False, True, False, False]))\n",
    "  \n",
    "# Here the method will short-circuit at the\n",
    "# first (True) and will return True.\n",
    "print (any([True, False, False, False]))"
   ]
  },
  {
   "cell_type": "code",
   "execution_count": 2,
   "id": "e934319d",
   "metadata": {},
   "outputs": [
    {
     "name": "stdout",
     "output_type": "stream",
     "text": [
      "True\n",
      "False\n",
      "False\n"
     ]
    }
   ],
   "source": [
    "# Here all the iterables are True so all\n",
    "# will return True and the same will be printed\n",
    "print (all([True, True, True, True]))\n",
    "  \n",
    "# Here the method will short-circuit at the \n",
    "# first item (False) and will return False.\n",
    "print (all([False, True, True, False]))\n",
    "  \n",
    "# This statement will return False, as no\n",
    "# True is found in the iterables\n",
    "print (all([False, False, False]))"
   ]
  },
  {
   "cell_type": "code",
   "execution_count": 3,
   "id": "95e27a87",
   "metadata": {},
   "outputs": [],
   "source": [
    "# and [a and b] > if a=True , b= False > it will return False\n",
    "# or  [a or b] > if a=True , b= False > it will return True if any one is true\n",
    "# not  a  > if a is true then false"
   ]
  },
  {
   "cell_type": "code",
   "execution_count": 5,
   "id": "13423505",
   "metadata": {},
   "outputs": [
    {
     "name": "stdout",
     "output_type": "stream",
     "text": [
      "list1[i] 4\n",
      "list1[i]%5 4\n",
      "list1[i]%5==0 False\n",
      "list1[i] 8\n",
      "list1[i]%5 3\n",
      "list1[i]%5==0 False\n",
      "list1[i] 12\n",
      "list1[i]%5 2\n",
      "list1[i]%5==0 False\n",
      "list1[i] 16\n",
      "list1[i]%5 1\n",
      "list1[i]%5==0 False\n",
      "list1[i] 20\n",
      "list1[i]%5 0\n",
      "list1[i]%5==0 True\n",
      "list1[i] 24\n",
      "list1[i]%5 4\n",
      "list1[i]%5==0 False\n",
      "list1[i] 28\n",
      "list1[i]%5 3\n",
      "list1[i]%5==0 False\n",
      "list1[i] 32\n",
      "list1[i]%5 2\n",
      "list1[i]%5==0 False\n",
      "list1[i] 36\n",
      "list1[i]%5 1\n",
      "list1[i]%5==0 False\n",
      "list1[i] 40\n",
      "list1[i]%5 0\n",
      "list1[i]%5==0 True\n",
      "See whether at least one number is divisible by 5 in list 1=>\n",
      "True\n"
     ]
    }
   ],
   "source": [
    "# This code explains how can we \n",
    "# use 'any' function on list \n",
    "list1 = []\n",
    "list2 = []\n",
    "  \n",
    "# Index ranges from 1 to 10 to multiply\n",
    "for i in range(1,11):\n",
    "    list1.append(4*i) \n",
    "  \n",
    "# Index to access the list2 is from 0 to 9\n",
    "for i in range(0,10):\n",
    "    print('list1[i]',list1[i])\n",
    "    print('list1[i]%5',list1[i]%5)\n",
    "    print('list1[i]%5==0',list1[i]%5==0)\n",
    "    list2.append(list1[i]%5==0)\n",
    "  \n",
    "print('See whether at least one number is divisible by 5 in list 1=>')\n",
    "print(any(list2))"
   ]
  },
  {
   "attachments": {
    "image.png": {
     "image/png": "[encoded data removed]"
    }
   },
   "cell_type": "markdown",
   "id": "f395910f",
   "metadata": {},
   "source": [
    "![image.png](attachment:image.png)\n"
   ]
  },
  {
   "cell_type": "code",
   "execution_count": 6,
   "id": "3ae60695",
   "metadata": {},
   "outputs": [
    {
     "name": "stdout",
     "output_type": "stream",
     "text": [
      "The addition of numbers is :7\n",
      "The difference of numbers is :1\n",
      "The product of numbers is :12\n"
     ]
    }
   ],
   "source": [
    "# Python code to demonstrate working of \n",
    "# add(), sub(), mul()\n",
    "  \n",
    "# importing operator module \n",
    "import operator\n",
    "  \n",
    "# Initializing variables\n",
    "a = 4\n",
    "  \n",
    "b = 3\n",
    "  \n",
    "# using add() to add two numbers\n",
    "print (\"The addition of numbers is :\",end=\"\");\n",
    "print (operator.add(a, b))\n",
    "  \n",
    "# using sub() to subtract two numbers\n",
    "print (\"The difference of numbers is :\",end=\"\");\n",
    "print (operator.sub(a, b))\n",
    "  \n",
    "# using mul() to multiply two numbers\n",
    "print (\"The product of numbers is :\",end=\"\");\n",
    "print (operator.mul(a, b))\n",
    "\n",
    "# find atleast 10 plus functions from the package operator \n",
    "# and use it for one example"
   ]
  },
  {
   "cell_type": "code",
   "execution_count": 7,
   "id": "e48cabf5",
   "metadata": {},
   "outputs": [
    {
     "name": "stdout",
     "output_type": "stream",
     "text": [
      "The true division of numbers is : 2.5\n",
      "The floor division of numbers is : 2\n",
      "The exponentiation of numbers is : 25\n",
      "The modulus of numbers is : 1\n"
     ]
    }
   ],
   "source": [
    "# truediv(), floordiv(), pow(), mod()\n",
    "  \n",
    "# importing operator module \n",
    "import operator\n",
    "  \n",
    "# Initializing variables\n",
    "a = 5\n",
    "  \n",
    "b = 2\n",
    "  \n",
    "# using truediv() to divide two numbers\n",
    "print (\"The true division of numbers is : \",end=\"\");\n",
    "print (operator.truediv(a,b))\n",
    "  \n",
    "# using floordiv() to divide two numbers\n",
    "print (\"The floor division of numbers is : \",end=\"\");\n",
    "print (operator.floordiv(a,b))\n",
    "  \n",
    "# using pow() to exponentiate two numbers\n",
    "print (\"The exponentiation of numbers is : \",end=\"\");\n",
    "print (operator.pow(a,b))\n",
    "  \n",
    "# using mod() to take modulus of two numbers\n",
    "print (\"The modulus of numbers is : \",end=\"\");\n",
    "print (operator.mod(a,b))"
   ]
  },
  {
   "cell_type": "code",
   "execution_count": 8,
   "id": "a14d1ef7",
   "metadata": {},
   "outputs": [
    {
     "name": "stdout",
     "output_type": "stream",
     "text": [
      "3 is not less than 3\n",
      "3 is less than or equal to 3\n",
      "3 is equal to 3\n"
     ]
    }
   ],
   "source": [
    "# lt(), le() and eq()\n",
    "  \n",
    "# importing operator module \n",
    "import operator\n",
    "  \n",
    "# Initializing variables\n",
    "a = 3\n",
    "  \n",
    "b = 3\n",
    "  \n",
    "# using lt() to check if a is less than b\n",
    "if(operator.lt(a,b)):\n",
    "       print (\"3 is less than 3\")\n",
    "else : print (\"3 is not less than 3\")\n",
    "  \n",
    "# using le() to check if a is less than or equal to b\n",
    "if(operator.le(a,b)):\n",
    "       print (\"3 is less than or equal to 3\")\n",
    "else : print (\"3 is not less than or equal to 3\")\n",
    "  \n",
    "# using eq() to check if a is equal to b\n",
    "if (operator.eq(a,b)):\n",
    "       print (\"3 is equal to 3\")\n",
    "else : print (\"3 is not equal to 3\")"
   ]
  },
  {
   "cell_type": "code",
   "execution_count": 9,
   "id": "af8d7297",
   "metadata": {},
   "outputs": [
    {
     "name": "stdout",
     "output_type": "stream",
     "text": [
      "4 is greater than 3\n",
      "4 is greater than or equal to 3\n",
      "4 is not equal to 3\n"
     ]
    }
   ],
   "source": [
    "# gt(), ge() and ne()\n",
    "  \n",
    "# importing operator module \n",
    "import operator\n",
    "  \n",
    "# Initializing variables\n",
    "a = 4\n",
    "  \n",
    "b = 3\n",
    "  \n",
    "# using gt() to check if a is greater than b\n",
    "if (operator.gt(a,b)):\n",
    "       print (\"4 is greater than 3\")\n",
    "else : print (\"4 is not greater than 3\")\n",
    "  \n",
    "# using ge() to check if a is greater than or equal to b\n",
    "if (operator.ge(a,b)):\n",
    "       print (\"4 is greater than or equal to 3\")\n",
    "else : print (\"4 is not greater than or equal to 3\")\n",
    "  \n",
    "# using ne() to check if a is not equal to b\n",
    "if (operator.ne(a,b)):\n",
    "       print (\"4 is not equal to 3\")\n",
    "else : print (\"4 is equal to 3\")"
   ]
  },
  {
   "cell_type": "code",
   "execution_count": 10,
   "id": "d3baf765",
   "metadata": {},
   "outputs": [],
   "source": [
    "# -=\t__ISUB__(SELF, OTHER)\n",
    "# +=\t__IADD__(SELF, OTHER)\n",
    "# *=\t__IMUL__(SELF, OTHER)\n",
    "# /=\t__IDIV__(SELF, OTHER)\n",
    "# //=\t__IFLOORDIV__(SELF, OTHER)\n",
    "# %=\t__IMOD__(SELF, OTHER)\n",
    "# **=\t__IPOW__(SELF, OTHER)\n",
    "# >>=\t__IRSHIFT__(SELF, OTHER)\n",
    "# <<=\t__ILSHIFT__(SELF, OTHER)\n",
    "# &=\t__IAND__(SELF, OTHER)\n",
    "# |=\t__IOR__(SELF, OTHER)\n",
    "# ^=\t__IXOR__(SELF, OTHER)\n",
    "\n",
    "# –\t__NEG__(SELF, OTHER)\n",
    "# +\t__POS__(SELF, OTHER)\n",
    "# ~\t__INVERT__(SELF, OTHER)\n",
    "\n",
    "# functions to explore and find if they are valid\n",
    "\n",
    "# -=\t__ISUB__(SELF, OTHER)\n",
    "# is there a function like isub(a) ??"
   ]
  },
  {
   "cell_type": "code",
   "execution_count": 12,
   "id": "19197ca5",
   "metadata": {},
   "outputs": [
    {
     "name": "stdout",
     "output_type": "stream",
     "text": [
      "The value after adding and assigning : 5\n",
      "The string after concatenation is : newforold\n"
     ]
    }
   ],
   "source": [
    "# iadd() and iconcat()\n",
    "  \n",
    "# importing operator to handle operator operations\n",
    "import operator\n",
    "  \n",
    "# using iadd() to add and assign value\n",
    "x = operator.iadd(2, 3);\n",
    "  \n",
    "# printing the modified value\n",
    "print (\"The value after adding and assigning : \", end=\"\")\n",
    "print (x)\n",
    "  \n",
    "# initializing values\n",
    "y = \"new\"\n",
    "  \n",
    "z = \"forold\"\n",
    "  \n",
    "# using iconcat() to concat the sequences\n",
    "y = operator.iconcat(y, z)\n",
    "  \n",
    "# using iconcat() to concat sequences \n",
    "print (\"The string after concatenation is : \", end=\"\")\n",
    "print (y)"
   ]
  },
  {
   "cell_type": "code",
   "execution_count": 13,
   "id": "a8549c80",
   "metadata": {},
   "outputs": [
    {
     "name": "stdout",
     "output_type": "stream",
     "text": [
      "The value after subtracting and assigning : -1\n",
      "The value after multiplying and assigning : 6\n"
     ]
    }
   ],
   "source": [
    "# Python code to demonstrate the working of \n",
    "# isub() and imul()\n",
    "  \n",
    "# importing operator to handle operator operations\n",
    "import operator\n",
    "  \n",
    "# using isub() to subtract and assign value\n",
    "x = operator.isub(2, 3);\n",
    "  \n",
    "# printing the modified value\n",
    "print (\"The value after subtracting and assigning : \", end=\"\")\n",
    "print (x)\n",
    "  \n",
    "# using imul() to multiply and assign value\n",
    "x = operator.imul(2, 3);\n",
    "  \n",
    "# printing the modified value\n",
    "print (\"The value after multiplying and assigning : \", end=\"\")\n",
    "print (x)"
   ]
  },
  {
   "cell_type": "code",
   "execution_count": 14,
   "id": "f0ccb78d",
   "metadata": {},
   "outputs": [
    {
     "name": "stdout",
     "output_type": "stream",
     "text": [
      "The value after dividing and assigning : 2.0\n",
      "The value after modulus and assigning : 4\n"
     ]
    }
   ],
   "source": [
    "# itruediv() and imod()\n",
    "  \n",
    "# importing operator to handle operator operations\n",
    "import operator\n",
    "  \n",
    "# using itruediv() to divide and assign value\n",
    "x = operator.itruediv(10, 5);\n",
    "  \n",
    "# printing the modified value\n",
    "print (\"The value after dividing and assigning : \", end=\"\")\n",
    "print (x)\n",
    "  \n",
    "# using imod() to modulus and assign value\n",
    "x = operator.imod(10, 6);\n",
    "  \n",
    "# printing the modified value\n",
    "print (\"The value after modulus and assigning : \", end=\"\")\n",
    "print (x)"
   ]
  },
  {
   "cell_type": "code",
   "execution_count": 15,
   "id": "29c46b94",
   "metadata": {},
   "outputs": [],
   "source": [
    "# in   , a in b \n",
    "# not in  , a not in b\n",
    "# is  , a is b\n",
    "# is not  , a is not b"
   ]
  },
  {
   "cell_type": "code",
   "execution_count": 17,
   "id": "6af2b8ff",
   "metadata": {},
   "outputs": [
    {
     "ename": "TypeError",
     "evalue": "argument of type 'int' is not iterable",
     "output_type": "error",
     "traceback": [
      "\u001b[1;31m---------------------------------------------------------------------------\u001b[0m",
      "\u001b[1;31mTypeError\u001b[0m                                 Traceback (most recent call last)",
      "\u001b[1;32m~\\AppData\\Local\\Temp/ipykernel_16540/752921911.py\u001b[0m in \u001b[0;36m<module>\u001b[1;34m\u001b[0m\n\u001b[0;32m      3\u001b[0m \u001b[1;32mfor\u001b[0m \u001b[0mi\u001b[0m \u001b[1;32min\u001b[0m \u001b[0ma\u001b[0m\u001b[1;33m:\u001b[0m\u001b[1;33m\u001b[0m\u001b[1;33m\u001b[0m\u001b[0m\n\u001b[0;32m      4\u001b[0m     \u001b[1;32mfor\u001b[0m \u001b[0mj\u001b[0m \u001b[1;32min\u001b[0m \u001b[0mb\u001b[0m\u001b[1;33m:\u001b[0m\u001b[1;33m\u001b[0m\u001b[1;33m\u001b[0m\u001b[0m\n\u001b[1;32m----> 5\u001b[1;33m         \u001b[1;32mif\u001b[0m \u001b[0ma\u001b[0m\u001b[1;33m[\u001b[0m\u001b[0mi\u001b[0m\u001b[1;33m]\u001b[0m \u001b[1;32min\u001b[0m \u001b[0mb\u001b[0m\u001b[1;33m[\u001b[0m\u001b[0mi\u001b[0m\u001b[1;33m]\u001b[0m\u001b[1;33m:\u001b[0m\u001b[1;33m\u001b[0m\u001b[1;33m\u001b[0m\u001b[0m\n\u001b[0m\u001b[0;32m      6\u001b[0m             \u001b[0ma_in_b\u001b[0m\u001b[1;33m.\u001b[0m\u001b[0mappend\u001b[0m\u001b[1;33m(\u001b[0m\u001b[0ma\u001b[0m\u001b[1;33m[\u001b[0m\u001b[0mi\u001b[0m\u001b[1;33m]\u001b[0m\u001b[1;33m)\u001b[0m\u001b[1;33m\u001b[0m\u001b[1;33m\u001b[0m\u001b[0m\n\u001b[0;32m      7\u001b[0m         \u001b[1;32melse\u001b[0m\u001b[1;33m:\u001b[0m\u001b[1;33m\u001b[0m\u001b[1;33m\u001b[0m\u001b[0m\n",
      "\u001b[1;31mTypeError\u001b[0m: argument of type 'int' is not iterable"
     ]
    }
   ],
   "source": [
    "a=[1,2,3]\n",
    "b=[3,4,5]\n",
    "for i in a:\n",
    "    for j in b:\n",
    "        if a[i] in b[i]:\n",
    "            a_in_b.append(a[i])\n",
    "        else:\n",
    "            a_not_in_b.append(a[i])\n",
    "        if a[i] is b[i]:\n",
    "            a_is_b.append(a[i])\n",
    "        else:\n",
    "            a_is_not_b.append(a[i])\n",
    "            \n",
    "#homework            \n",
    "# all values which are common in a and b   , a_b_common\n",
    "# all values in a but not in b    ,in_a_not_in_b\n",
    "# all values in b but not in a\n",
    "# complete list of all values from a and b"
   ]
  },
  {
   "cell_type": "code",
   "execution_count": null,
   "id": "4555eb5e",
   "metadata": {},
   "outputs": [],
   "source": []
  }
 ],
 "metadata": {
  "kernelspec": {
   "display_name": "Python 3 (ipykernel)",
   "language": "python",
   "name": "python3"
  },
  "language_info": {
   "codemirror_mode": {
    "name": "ipython",
    "version": 3
   },
   "file_extension": ".py",
   "mimetype": "text/x-python",
   "name": "python",
   "nbconvert_exporter": "python",
   "pygments_lexer": "ipython3",
   "version": "3.9.6"
  }
 },
 "nbformat": 4,
 "nbformat_minor": 5
}
