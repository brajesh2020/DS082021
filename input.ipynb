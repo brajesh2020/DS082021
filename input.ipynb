{
 "cells": [
  {
   "cell_type": "code",
   "execution_count": 1,
   "id": "11ff8743",
   "metadata": {},
   "outputs": [
    {
     "name": "stdout",
     "output_type": "stream",
     "text": [
      "Enter your value: 20\n",
      "20\n"
     ]
    }
   ],
   "source": [
    "# Python program showing \n",
    "# a use of input()\n",
    "  \n",
    "val = input(\"Enter your value: \")\n",
    "print(val)"
   ]
  },
  {
   "cell_type": "code",
   "execution_count": null,
   "id": "28a2ba0a",
   "metadata": {},
   "outputs": [],
   "source": [
    "\n",
    "# Program to check input \n",
    "# type in Python\n",
    "  \n",
    "num = input (\"Enter number :\")\n",
    "print(num)\n",
    "name1 = input(\"Enter name : \")\n",
    "print(name1)\n",
    "  \n",
    "# Printing type of input value\n",
    "print (\"type of number\", type(num))\n",
    "print (\"type of name\", type(name1))\n",
    "\n",
    "print(num+ name1)\n",
    "# num =4\n",
    "print(num+ num) # if we dont convert to int, the result will be '44'\n",
    "# if we conver to int then the result will be 8"
   ]
  }
 ],
 "metadata": {
  "kernelspec": {
   "display_name": "Python 3 (ipykernel)",
   "language": "python",
   "name": "python3"
  },
  "language_info": {
   "codemirror_mode": {
    "name": "ipython",
    "version": 3
   },
   "file_extension": ".py",
   "mimetype": "text/x-python",
   "name": "python",
   "nbconvert_exporter": "python",
   "pygments_lexer": "ipython3",
   "version": "3.9.6"
  }
 },
 "nbformat": 4,
 "nbformat_minor": 5
}
