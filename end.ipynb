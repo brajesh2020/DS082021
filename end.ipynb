{
 "cells": [
  {
   "cell_type": "code",
   "execution_count": 1,
   "id": "13a44fa5",
   "metadata": {},
   "outputs": [
    {
     "name": "stdout",
     "output_type": "stream",
     "text": [
      "Welcome to GeeksforGeeks "
     ]
    }
   ],
   "source": [
    "print(\"Welcome to\" , end = ' ') \n",
    "print(\"GeeksforGeeks\", end = ' ')"
   ]
  },
  {
   "cell_type": "code",
   "execution_count": 3,
   "id": "b3d78315",
   "metadata": {},
   "outputs": [
    {
     "name": "stdout",
     "output_type": "stream",
     "text": [
      "Welcome to\n",
      "GeeksforGeeks1 GeeksforGeeks2 "
     ]
    }
   ],
   "source": [
    "print(\"Welcome to\"  ) \n",
    "print(\"GeeksforGeeks1\", end = ' ')\n",
    "print(\"GeeksforGeeks2\", end = ' ')"
   ]
  },
  {
   "cell_type": "code",
   "execution_count": 4,
   "id": "d38c72b1",
   "metadata": {},
   "outputs": [
    {
     "name": "stdout",
     "output_type": "stream",
     "text": [
      "Python@GeeksforGeeks\n"
     ]
    }
   ],
   "source": [
    "print(\"Python\" , end = '@') \n",
    "print(\"GeeksforGeeks\")"
   ]
  },
  {
   "cell_type": "code",
   "execution_count": null,
   "id": "562f12ca",
   "metadata": {},
   "outputs": [],
   "source": [
    "print(\"one\",\"two\", end = ' ')\n",
    "\n",
    "# '%@%' regex"
   ]
  }
 ],
 "metadata": {
  "kernelspec": {
   "display_name": "Python 3 (ipykernel)",
   "language": "python",
   "name": "python3"
  },
  "language_info": {
   "codemirror_mode": {
    "name": "ipython",
    "version": 3
   },
   "file_extension": ".py",
   "mimetype": "text/x-python",
   "name": "python",
   "nbconvert_exporter": "python",
   "pygments_lexer": "ipython3",
   "version": "3.9.6"
  }
 },
 "nbformat": 4,
 "nbformat_minor": 5
}
