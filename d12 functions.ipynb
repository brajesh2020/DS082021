{
 "cells": [
  {
   "cell_type": "code",
   "execution_count": 1,
   "id": "ff13a11a",
   "metadata": {},
   "outputs": [],
   "source": [
    "# First Class functions in Python\n",
    "# Precision Handling\n",
    "# *args and **kwargs\n",
    "# Python closures\n",
    "# Function Decorators\n",
    "# Decorators in Python\n",
    "# Decorators with parameters in Python\n",
    "# Memoization using decorators in Python\n",
    "# Help function in Python\n",
    "# Python | __import__() function\n",
    "# Python | range() does not return an iterator\n",
    "# Coroutine in Python\n",
    "# Python bit functions on int (bit_length, to_bytes and from_bytes)"
   ]
  },
  {
   "cell_type": "code",
   "execution_count": 3,
   "id": "7c39e4c8",
   "metadata": {},
   "outputs": [],
   "source": [
    "# # first class function \n",
    "\n",
    "# A function is an instance of the Object type.\n",
    "# You can store the function in a variable.\n",
    "# You can pass the function as a parameter to another function.\n",
    "# You can return the function from a function.\n",
    "# You can store them in data structures such as hash tables, lists, …"
   ]
  },
  {
   "cell_type": "code",
   "execution_count": 5,
   "id": "1c72e554",
   "metadata": {},
   "outputs": [
    {
     "name": "stdout",
     "output_type": "stream",
     "text": [
      "HELLO\n",
      "HELLO\n"
     ]
    }
   ],
   "source": [
    "# Python program to illustrate functions\n",
    "# can be treated as objects\n",
    "def shout(text):\n",
    "    return text.upper()\n",
    "  \n",
    "print (shout('Hello'))\n",
    "  \n",
    "yell = shout #yell once assigned to shout , has all the properties and behaviour of shout\n",
    "  \n",
    "print (yell('Hello'))"
   ]
  },
  {
   "cell_type": "code",
   "execution_count": 7,
   "id": "7791a617",
   "metadata": {},
   "outputs": [
    {
     "name": "stdout",
     "output_type": "stream",
     "text": [
      "<function shout at 0x000001E613792EE0> HI, I AM CREATED BY A FUNCTION\n",
      "                    PASSED AS AN ARGUMENT.\n",
      "<function whisper at 0x000001E613792DC0> hi, i am created by a function\n",
      "                    passed as an argument.\n"
     ]
    }
   ],
   "source": [
    "# Python program to illustrate functions\n",
    "# can be passed as arguments to other functions\n",
    "def shout(text):\n",
    "    return text.upper()\n",
    "  \n",
    "def whisper(text):\n",
    "    return text.lower()\n",
    "    \n",
    "  \n",
    "def greet(func1):\n",
    "    # storing the function in a variable\n",
    "    greeting = func1(\"\"\"Hi, I am created by a function\n",
    "                    passed as an argument.\"\"\")\n",
    "    print (func1,greeting) \n",
    "  \n",
    "\n",
    "greet(shout)\n",
    "greet(whisper)"
   ]
  },
  {
   "cell_type": "code",
   "execution_count": 17,
   "id": "b8960e8e",
   "metadata": {},
   "outputs": [
    {
     "name": "stdout",
     "output_type": "stream",
     "text": [
      "10\n",
      "10 34\n",
      "44\n",
      "10 15\n",
      "25\n"
     ]
    }
   ],
   "source": [
    "# Python program to illustrate functions\n",
    "# Functions can return another function\n",
    "  \n",
    "def create_adder(x):\n",
    "    print(x)\n",
    "    \n",
    "    def adder(y):\n",
    "        print(x,y)\n",
    "        return x+y\n",
    "    print(adder(34))\n",
    "    return adder\n",
    "\n",
    "add_15 = create_adder(10)\n",
    "\n",
    "print (add_15(15))\n",
    "\n"
   ]
  },
  {
   "cell_type": "code",
   "execution_count": 18,
   "id": "869fdcf6",
   "metadata": {},
   "outputs": [
    {
     "name": "stdout",
     "output_type": "stream",
     "text": [
      "The integral value of number is : 3\n",
      "The smallest integer greater than number is : 4\n",
      "The greatest integer smaller than number is : 3\n"
     ]
    }
   ],
   "source": [
    "# precision \n",
    "\n",
    "# Python code to demonstrate ceil(), trunc()\n",
    "# and floor()\n",
    " \n",
    "# importing \"math\" for precision function\n",
    "import math\n",
    " \n",
    "# initializing value\n",
    "a = 3.4536\n",
    " \n",
    "# using trunc() to print integer after truncating\n",
    "print(\"The integral value of number is : \", end=\"\")\n",
    "print(math.trunc(a))\n",
    " \n",
    "# using ceil() to print number after ceiling\n",
    "print(\"The smallest integer greater than number is : \", end=\"\")\n",
    "print(math.ceil(a))\n",
    " \n",
    "# using floor() to print number after flooring\n",
    "print(\"The greatest integer smaller than number is : \", end=\"\")\n",
    "print(math.floor(a))"
   ]
  },
  {
   "cell_type": "code",
   "execution_count": 20,
   "id": "2359b8b8",
   "metadata": {},
   "outputs": [
    {
     "name": "stdout",
     "output_type": "stream",
     "text": [
      "The value of number till 2 decimal place(using %) is : 3.46\n",
      "The value of number till 2 decimal place(using format()) is : 3.46\n",
      "The value of number till 2 decimal place(using round()) is : 3.46\n"
     ]
    }
   ],
   "source": [
    "# Python code to demonstrate precision\n",
    "# and round()\n",
    " \n",
    "# initializing value\n",
    "a = 3.4566\n",
    " \n",
    "# using \"%\" to print value till 2 decimal places\n",
    "print (\"The value of number till 2 decimal place(using %) is : \",end=\"\")\n",
    "print ('%.2f'%a)\n",
    " \n",
    "# using format() to print value till 2 decimal places\n",
    "print (\"The value of number till 2 decimal place(using format()) is : \",end=\"\")\n",
    "print (\"{0:.2f}\".format(a))\n",
    " \n",
    "# using round() to print value till 2 decimal places\n",
    "print (\"The value of number till 2 decimal place(using round()) is : \",end=\"\")\n",
    "print (round(a,2))"
   ]
  },
  {
   "cell_type": "code",
   "execution_count": 21,
   "id": "21d56364",
   "metadata": {},
   "outputs": [],
   "source": [
    "# Nested functions"
   ]
  },
  {
   "cell_type": "code",
   "execution_count": 30,
   "id": "9730745a",
   "metadata": {},
   "outputs": [
    {
     "name": "stdout",
     "output_type": "stream",
     "text": [
      "Hey!\n"
     ]
    }
   ],
   "source": [
    "# Python program to illustrate\n",
    "# nested functions\n",
    "def outerFunction(text1):\n",
    "    text2 = text1\n",
    " \n",
    "    def innerFunction(text2):\n",
    "        print(text1)\n",
    " \n",
    "    innerFunction(text2)\n",
    " \n",
    "if __name__ == '__main__':\n",
    "    outerFunction('Hey!')"
   ]
  },
  {
   "cell_type": "code",
   "execution_count": 35,
   "id": "26002c75",
   "metadata": {},
   "outputs": [
    {
     "name": "stdout",
     "output_type": "stream",
     "text": [
      "Hey!\n"
     ]
    }
   ],
   "source": [
    "# Python program to illustrate\n",
    "# closures\n",
    "def outerFunction(text):\n",
    "    text = text\n",
    " \n",
    "    def innerFunction():\n",
    "        print(text)\n",
    " \n",
    "    # Note we are returning function\n",
    "    # WITHOUT parenthesis\n",
    "    return innerFunction \n",
    "#     return innerFunction()\n",
    "if __name__ == '__main__':\n",
    "    myFunction = outerFunction('Hey!')\n",
    "    myFunction()"
   ]
  },
  {
   "cell_type": "code",
   "execution_count": 41,
   "id": "823549d6",
   "metadata": {},
   "outputs": [
    {
     "name": "stdout",
     "output_type": "stream",
     "text": [
      "Welcome to rabbitCat  a\n"
     ]
    }
   ],
   "source": [
    "\n",
    "# A Python program to demonstrate that a function\n",
    "# can be defined inside another function and a\n",
    "# function can be passed as parameter.\n",
    "  \n",
    "# Adds a welcome message to the string\n",
    "def messageWithWelcome(str):\n",
    "  \n",
    "    # Nested function\n",
    "    def addWelcome():\n",
    "        return \"Welcome to \"\n",
    "  \n",
    "    # Return concatenation of addWelcome()\n",
    "    # and str.\n",
    "#     print(addWelcome() + str)\n",
    "    return  addWelcome() + str\n",
    "# @messageWithWelcome  \n",
    "# To get site name to which welcome is added\n",
    "def site(site_name):\n",
    "    return site_name+'  a'\n",
    "  \n",
    "print (messageWithWelcome(site(\"rabbitCat\")))"
   ]
  },
  {
   "cell_type": "code",
   "execution_count": 45,
   "id": "300d98b6",
   "metadata": {},
   "outputs": [
    {
     "name": "stdout",
     "output_type": "stream",
     "text": [
      "Welcome to RabbitCat  a\n"
     ]
    }
   ],
   "source": [
    "# Adds a welcome message to the string\n",
    "# returned by fun(). Takes fun() as\n",
    "# parameter and returns welcome().\n",
    "def decorate_message(fun):\n",
    "  \n",
    "    # Nested function\n",
    "    def addWelcome(site_name):\n",
    "        return \"Welcome to \" + fun(site_name)\n",
    "  \n",
    "    # Decorator returns a function\n",
    "    return addWelcome\n",
    "  \n",
    "@decorate_message\n",
    "def site(site_name):\n",
    "    return site_name + '  a';\n",
    "  \n",
    "# Driver code\n",
    "  \n",
    "# This call is equivalent to call to\n",
    "# decorate_message() with function\n",
    "# site(\"RabbitCat\") as parameter\n",
    "print (site(\"RabbitCat\"))"
   ]
  },
  {
   "cell_type": "code",
   "execution_count": 53,
   "id": "ee056e63",
   "metadata": {},
   "outputs": [
    {
     "name": "stdout",
     "output_type": "stream",
     "text": [
      "5\n",
      "10\n"
     ]
    }
   ],
   "source": [
    "# A Python example to demonstrate that\n",
    "# decorators can be useful attach data\n",
    "  \n",
    "# A decorator function to attach\n",
    "# data to func\n",
    "def attach_data(func):\n",
    "       func.data = 10\n",
    "#        print(func.data)\n",
    "       return func\n",
    "  \n",
    "@attach_data\n",
    "def add (x, y):\n",
    "       return x + y\n",
    "  \n",
    "# Driver code\n",
    "  \n",
    "# This call is equivalent to attach_data()\n",
    "# with add() as parameter\n",
    "print(add(2, 3))\n",
    "  \n",
    "print(add.data)"
   ]
  },
  {
   "cell_type": "code",
   "execution_count": 56,
   "id": "6adb7d53",
   "metadata": {},
   "outputs": [],
   "source": [
    "# Memoization using decorators in Python, recursion, loop run of a function"
   ]
  },
  {
   "cell_type": "code",
   "execution_count": 59,
   "id": "8f58f48c",
   "metadata": {},
   "outputs": [
    {
     "name": "stdout",
     "output_type": "stream",
     "text": [
      "5\n",
      "4\n",
      "3\n",
      "2\n",
      "1\n",
      "120\n"
     ]
    }
   ],
   "source": [
    "# Simple recursive program to find factorial\n",
    "def facto(num):\n",
    "    if num == 1:\n",
    "        print(num)\n",
    "        return 1\n",
    "    else:\n",
    "        print(num)\n",
    "        return num * facto(num-1)\n",
    "          \n",
    "  \n",
    "print(facto(5))"
   ]
  },
  {
   "cell_type": "code",
   "execution_count": 60,
   "id": "617bea41",
   "metadata": {},
   "outputs": [
    {
     "name": "stdout",
     "output_type": "stream",
     "text": [
      "120\n"
     ]
    }
   ],
   "source": [
    "# Factorial program with memoization using\n",
    "# decorators.\n",
    "  \n",
    "# A decorator function for function 'f' passed\n",
    "# as parameter\n",
    "def memoize_factorial(f):\n",
    "    memory = {}\n",
    "  \n",
    "    # This inner function has access to memory\n",
    "    # and 'f'\n",
    "    def inner(num):\n",
    "        if num not in memory:         \n",
    "            memory[num] = f(num)\n",
    "        return memory[num]\n",
    "  \n",
    "    return inner\n",
    "      \n",
    "@memoize_factorial\n",
    "def facto(num):\n",
    "    if num == 1:\n",
    "        return 1\n",
    "    else:\n",
    "        return num * facto(num-1)\n",
    "  \n",
    "print(facto(5))"
   ]
  },
  {
   "cell_type": "code",
   "execution_count": 61,
   "id": "7738593a",
   "metadata": {},
   "outputs": [],
   "source": [
    "# help function"
   ]
  },
  {
   "cell_type": "code",
   "execution_count": 65,
   "id": "64562127",
   "metadata": {},
   "outputs": [
    {
     "name": "stdout",
     "output_type": "stream",
     "text": [
      "Help on class Helper in module __main__:\n",
      "\n",
      "class Helper(builtins.object)\n",
      " |  Methods defined here:\n",
      " |  \n",
      " |  __init__(self)\n",
      " |      The helper class is initialized\n",
      " |  \n",
      " |  print_help(self)\n",
      " |      Returns the help description\n",
      " |  \n",
      " |  ----------------------------------------------------------------------\n",
      " |  Data descriptors defined here:\n",
      " |  \n",
      " |  __dict__\n",
      " |      dictionary for instance variables (if defined)\n",
      " |  \n",
      " |  __weakref__\n",
      " |      list of weak references to the object (if defined)\n",
      "\n",
      "Help on function print_help in module __main__:\n",
      "\n",
      "print_help(self)\n",
      "    Returns the help description\n",
      "\n"
     ]
    }
   ],
   "source": [
    "class Helper:\n",
    "    def __init__(self):\n",
    "        '''The helper class is initialized'''\n",
    "  \n",
    "    def print_help(self):\n",
    "        '''Returns the help description'''\n",
    "        print('helper description')\n",
    "  \n",
    "help(Helper)\n",
    "help(Helper.print_help)"
   ]
  },
  {
   "cell_type": "code",
   "execution_count": 66,
   "id": "6ea0da5c",
   "metadata": {},
   "outputs": [],
   "source": [
    "# import\n",
    "import numpy as np"
   ]
  },
  {
   "cell_type": "code",
   "execution_count": 67,
   "id": "4b7b31ee",
   "metadata": {},
   "outputs": [
    {
     "name": "stdout",
     "output_type": "stream",
     "text": [
      "<class 'numpy.ndarray'>\n"
     ]
    }
   ],
   "source": [
    "# importing numpy module\n",
    "# it is equivalent to \"import numpy\"\n",
    "np = __import__('numpy', globals(), locals(), [], 0)\n",
    "  \n",
    "# array from numpy\n",
    "a = np.array([1, 2, 3])\n",
    "  \n",
    "# prints the type\n",
    "print(type(a))"
   ]
  },
  {
   "cell_type": "code",
   "execution_count": 72,
   "id": "a9dc8565",
   "metadata": {},
   "outputs": [
    {
     "name": "stderr",
     "output_type": "stream",
     "text": [
      "C:\\Users\\win10\\AppData\\Local\\Temp/ipykernel_20968/3848998178.py:2: DeprecationWarning: `np.complex` is a deprecated alias for the builtin `complex`. To silence this warning, use `complex` by itself. Doing this will not modify any behavior and is safe. If you specifically wanted the numpy scalar type, use `np.complex128` here.\n",
      "Deprecated in NumPy 1.20; for more details and guidance: https://numpy.org/devdocs/release/1.20.0-notes.html#deprecations\n",
      "  np = __import__('numpy', globals(), locals(), ['complex', 'array'], 0) #'complex', declaration have been depreciated\n"
     ]
    }
   ],
   "source": [
    "# from numpy import complex as comp, array as arr\n",
    "np = __import__('numpy', globals(), locals(), ['complex', 'array'], 0) #'complex', declaration have been depreciated\n",
    "  \n",
    "# comp = np.complex #`np.complex` is a deprecated alias for the builtin `complex`\n",
    "comp=complex\n",
    "arr = np.array"
   ]
  },
  {
   "cell_type": "code",
   "execution_count": 73,
   "id": "51f922e0",
   "metadata": {},
   "outputs": [],
   "source": [
    "# range without an iterator"
   ]
  },
  {
   "cell_type": "code",
   "execution_count": 77,
   "id": "a2c83e4b",
   "metadata": {},
   "outputs": [
    {
     "name": "stdout",
     "output_type": "stream",
     "text": [
      "range(0, 6)\n",
      "[range(0, 6)]\n",
      "[0, 1, 2, 3, 4, 5]\n"
     ]
    }
   ],
   "source": [
    "# Python program to understand range\n",
    "# this creates a list of 0 to 5\n",
    "# integers\n",
    "  \n",
    "# demo = range(6)\n",
    "  \n",
    "# # print the demo\n",
    "# print(demo)\n",
    "  \n",
    "# # it will generate error\n",
    "# print(next(demo))\n",
    "\n",
    "print(range(6)) #range(0, 6)\n",
    "print([range(6)]) #[range(0, 6)]\n",
    "print(list(range(6)))  #[0, 1, 2, 3, 4, 5]"
   ]
  },
  {
   "cell_type": "code",
   "execution_count": 78,
   "id": "9333aa6e",
   "metadata": {},
   "outputs": [
    {
     "name": "stdout",
     "output_type": "stream",
     "text": [
      "range(1, 31, 2)\n",
      "1\n",
      "2\n",
      "11\n"
     ]
    },
    {
     "ename": "ValueError",
     "evalue": "30 is not in range",
     "output_type": "error",
     "traceback": [
      "\u001b[1;31m---------------------------------------------------------------------------\u001b[0m",
      "\u001b[1;31mValueError\u001b[0m                                Traceback (most recent call last)",
      "\u001b[1;32m~\\AppData\\Local\\Temp/ipykernel_20968/3185546201.py\u001b[0m in \u001b[0;36m<module>\u001b[1;34m\u001b[0m\n\u001b[0;32m     17\u001b[0m \u001b[1;33m\u001b[0m\u001b[0m\n\u001b[0;32m     18\u001b[0m \u001b[1;31m# since 30 is not present it will give error\u001b[0m\u001b[1;33m\u001b[0m\u001b[1;33m\u001b[0m\u001b[1;33m\u001b[0m\u001b[0m\n\u001b[1;32m---> 19\u001b[1;33m \u001b[0mprint\u001b[0m\u001b[1;33m(\u001b[0m\u001b[0mdemo\u001b[0m\u001b[1;33m.\u001b[0m\u001b[0mindex\u001b[0m\u001b[1;33m(\u001b[0m\u001b[1;36m30\u001b[0m\u001b[1;33m)\u001b[0m\u001b[1;33m)\u001b[0m\u001b[1;33m\u001b[0m\u001b[1;33m\u001b[0m\u001b[0m\n\u001b[0m",
      "\u001b[1;31mValueError\u001b[0m: 30 is not in range"
     ]
    }
   ],
   "source": [
    "# Python program to understand range\n",
    "# range has variables like start, end , step, index\n",
    "# creates a demo range\n",
    "demo = range(1, 31, 2)\n",
    "  \n",
    "# print the range\n",
    "print(demo)\n",
    "  \n",
    "# print the start of range\n",
    "print(demo.start)\n",
    "  \n",
    "# print step of range\n",
    "print(demo.step)\n",
    "  \n",
    "# print the index of element 23\n",
    "print(demo.index(23))\n",
    "  \n",
    "# since 30 is not present it will give error\n",
    "print(demo.index(30))"
   ]
  },
  {
   "cell_type": "code",
   "execution_count": 79,
   "id": "8f780b04",
   "metadata": {},
   "outputs": [],
   "source": [
    "# Python bit functions on int "
   ]
  },
  {
   "cell_type": "code",
   "execution_count": 80,
   "id": "d880152d",
   "metadata": {},
   "outputs": [
    {
     "name": "stdout",
     "output_type": "stream",
     "text": [
      "3\n"
     ]
    }
   ],
   "source": [
    "num = 7 #0111\n",
    "# print(num.binary())\n",
    "# print(binary(num))\n",
    "print(num.bit_length())"
   ]
  },
  {
   "cell_type": "code",
   "execution_count": 82,
   "id": "62a10f07",
   "metadata": {},
   "outputs": [
    {
     "name": "stdout",
     "output_type": "stream",
     "text": [
      "4\n"
     ]
    }
   ],
   "source": [
    "num = 9 #1001  #highest position of value 1 becomes \n",
    "# print(num.binary())\n",
    "# print(binary(num))\n",
    "print(num.bit_length())"
   ]
  },
  {
   "cell_type": "code",
   "execution_count": 83,
   "id": "c2e94b0a",
   "metadata": {},
   "outputs": [
    {
     "name": "stdout",
     "output_type": "stream",
     "text": [
      "5\n"
     ]
    }
   ],
   "source": [
    "num = 18 #10010  #highest position of value 1 becomes \n",
    "# print(num.binary())\n",
    "# print(binary(num))\n",
    "print(num.bit_length())"
   ]
  },
  {
   "cell_type": "code",
   "execution_count": 84,
   "id": "1f001b25",
   "metadata": {},
   "outputs": [
    {
     "name": "stdout",
     "output_type": "stream",
     "text": [
      "b'\\x04\\x00'\n"
     ]
    }
   ],
   "source": [
    "# Returns byte representation of 1024 in a\n",
    "# big endian machine.\n",
    "print((1024).to_bytes(2, byteorder ='big'))"
   ]
  },
  {
   "cell_type": "code",
   "execution_count": 85,
   "id": "89cb6fcb",
   "metadata": {},
   "outputs": [
    {
     "name": "stdout",
     "output_type": "stream",
     "text": [
      "1024\n"
     ]
    }
   ],
   "source": [
    "# Returns integer value of '\\x00\\x10' in big endian machine.\n",
    "print(int.from_bytes(b'\\x04\\x00', byteorder ='big'))"
   ]
  },
  {
   "cell_type": "code",
   "execution_count": null,
   "id": "1e2972a8",
   "metadata": {},
   "outputs": [],
   "source": [
    "# Exception Handling\n",
    "# Exception handling\n",
    "# User defined Exception\n",
    "# Built-in Exception\n",
    "# clean up action\n",
    "# Nzec error\n",
    "# try and except in Python"
   ]
  }
 ],
 "metadata": {
  "kernelspec": {
   "display_name": "Python 3 (ipykernel)",
   "language": "python",
   "name": "python3"
  },
  "language_info": {
   "codemirror_mode": {
    "name": "ipython",
    "version": 3
   },
   "file_extension": ".py",
   "mimetype": "text/x-python",
   "name": "python",
   "nbconvert_exporter": "python",
   "pygments_lexer": "ipython3",
   "version": "3.9.6"
  }
 },
 "nbformat": 4,
 "nbformat_minor": 5
}
