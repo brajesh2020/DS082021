{
 "cells": [
  {
   "cell_type": "code",
   "execution_count": 1,
   "id": "4647a4ac",
   "metadata": {},
   "outputs": [
    {
     "name": "stdout",
     "output_type": "stream",
     "text": [
      "13\n",
      "5\n",
      "36\n",
      "2.25\n",
      "2\n",
      "1\n",
      "6561\n"
     ]
    }
   ],
   "source": [
    "# Examples of Arithmetic Operator\n",
    "a = 9\n",
    "b = 4\n",
    " \n",
    "# Addition of numbers\n",
    "add = a + b\n",
    "# sum(a,b)\n",
    "# Subtraction of numbers\n",
    "sub = a - b\n",
    "# diff(a,b) \n",
    "# Multiplication of number\n",
    "mul = a * b\n",
    " \n",
    "# Division(float) of number\n",
    "div1 = a / b\n",
    "# 13/5  = 2 reminder 3 \n",
    "# Division(floor) of number\n",
    "div2 = a // b\n",
    "# 13/5  = 2 reminder 3 \n",
    "# Modulo of both number\n",
    "mod = a % b\n",
    "# mod(a,b) \n",
    "# Power\n",
    "p = a ** b\n",
    "# pow(a,b) \n",
    "# print results\n",
    "print(add)\n",
    "print(sub)\n",
    "print(mul)\n",
    "print(div1)\n",
    "print(div2)\n",
    "print(mod)\n",
    "print(p)"
   ]
  },
  {
   "cell_type": "code",
   "execution_count": 3,
   "id": "52172f05",
   "metadata": {},
   "outputs": [
    {
     "name": "stdout",
     "output_type": "stream",
     "text": [
      "enter first number3\n",
      "enter second number4\n",
      "enter operator + - * / // % p \n",
      "-\n"
     ]
    }
   ],
   "source": [
    "#calculator\n",
    "a=input(\"enter first number\")\n",
    "b=input(\"enter second number\")\n",
    "c=input(\"enter operator + - * / // % p \\n\")\n",
    "if c=='+':\n",
    "    pass\n",
    "elif c=='-':\n",
    "    pass\n",
    "elif c=='*':\n",
    "    pass\n",
    "elif c=='/':\n",
    "    pass\n",
    "elif c=='//':\n",
    "    pass\n",
    "elif c=='%':\n",
    "    pass\n",
    "elif c=='p':\n",
    "    pass\n",
    "else:\n",
    "    print('operator not known',c)\n",
    "\n",
    "    \n"
   ]
  },
  {
   "cell_type": "code",
   "execution_count": 4,
   "id": "9eaa08c7",
   "metadata": {},
   "outputs": [
    {
     "name": "stdout",
     "output_type": "stream",
     "text": [
      "False\n",
      "True\n",
      "False\n",
      "True\n",
      "False\n",
      "True\n"
     ]
    }
   ],
   "source": [
    "# Examples of Relational Operators\n",
    "a = 13\n",
    "b = 33\n",
    " \n",
    "# a > b is False\n",
    "print(a > b)\n",
    " \n",
    "# a < b is True\n",
    "print(a < b)\n",
    " \n",
    "# a == b is False\n",
    "print(a == b)\n",
    " \n",
    "# a != b is True\n",
    "print(a != b)\n",
    " \n",
    "# a >= b is False\n",
    "print(a >= b)\n",
    " \n",
    "# a <= b is True\n",
    "print(a <= b)\n",
    "\n",
    "# take a and b as input\n",
    "if 'case when  age of a is more than age of b':\n",
    "    pass\n",
    "elif 'when  age of a is same as age of b':\n",
    "    pass\n",
    "elif 'when  age of a is less than age of b':\n",
    "    pass\n",
    "elif 'when  age of a is less than equal to age of b':\n",
    "    pass\n",
    "elif 'when  age of a is more than equal to age of b':\n",
    "    pass\n",
    "elif 'when  age of a is not same as age of b':\n",
    "    pass\n",
    "else:\n",
    "    pass\n",
    "\n",
    "# input functions a,b,c\n",
    "# and below conditions in similar if statement\n",
    "# a is greater than max of b,c\n",
    "# a is less than equal to min of b,c\n",
    "# a is not equal to average of b,c"
   ]
  },
  {
   "cell_type": "code",
   "execution_count": 5,
   "id": "89da0abb",
   "metadata": {},
   "outputs": [
    {
     "name": "stdout",
     "output_type": "stream",
     "text": [
      "10 4 0\n",
      "10 4 14\n",
      "10 4 -11\n",
      "10 4 14\n",
      "10 4 2\n",
      "10 4 40\n"
     ]
    }
   ],
   "source": [
    "\n",
    "# Examples of Bitwise operators\n",
    "a = 10\n",
    "b = 4\n",
    " \n",
    "# Print bitwise AND operation\n",
    "print(a,b,a & b)\n",
    " \n",
    "# Print bitwise OR operation\n",
    "print(a,b,a | b)\n",
    " \n",
    "# Print bitwise NOT operation\n",
    "print(a,b,~a)\n",
    " \n",
    "# print bitwise XOR operation\n",
    "print(a,b,a ^ b)\n",
    " \n",
    "# print bitwise right shift operation\n",
    "print(a,b,a >> 2)\n",
    " \n",
    "# print bitwise left shift operation\n",
    "print(a,b,a << 2)\n",
    "\n",
    "\n",
    "# 2  '00000010'\n",
    "\n",
    "# 3  '00000011'"
   ]
  },
  {
   "cell_type": "code",
   "execution_count": 8,
   "id": "dccc811c",
   "metadata": {},
   "outputs": [
    {
     "ename": "TypeError",
     "evalue": "unsupported operand type(s) for &: 'float' and 'int'",
     "output_type": "error",
     "traceback": [
      "\u001b[1;31m---------------------------------------------------------------------------\u001b[0m",
      "\u001b[1;31mTypeError\u001b[0m                                 Traceback (most recent call last)",
      "\u001b[1;32m~\\AppData\\Local\\Temp/ipykernel_21840/1496407824.py\u001b[0m in \u001b[0;36m<module>\u001b[1;34m\u001b[0m\n\u001b[0;32m      7\u001b[0m \u001b[0ma\u001b[0m\u001b[1;33m/\u001b[0m\u001b[0mb\u001b[0m\u001b[1;33m\u001b[0m\u001b[1;33m\u001b[0m\u001b[0m\n\u001b[0;32m      8\u001b[0m \u001b[0ma\u001b[0m\u001b[1;33m/=\u001b[0m\u001b[0mb\u001b[0m\u001b[1;33m\u001b[0m\u001b[1;33m\u001b[0m\u001b[0m\n\u001b[1;32m----> 9\u001b[1;33m \u001b[0ma\u001b[0m\u001b[1;33m&\u001b[0m\u001b[0mb\u001b[0m\u001b[1;33m\u001b[0m\u001b[1;33m\u001b[0m\u001b[0m\n\u001b[0m\u001b[0;32m     10\u001b[0m \u001b[0ma\u001b[0m\u001b[1;33m&=\u001b[0m\u001b[0mb\u001b[0m\u001b[1;33m\u001b[0m\u001b[1;33m\u001b[0m\u001b[0m\n\u001b[0;32m     11\u001b[0m \u001b[0ma\u001b[0m\u001b[1;33m|\u001b[0m\u001b[0mb\u001b[0m\u001b[1;33m\u001b[0m\u001b[1;33m\u001b[0m\u001b[0m\n",
      "\u001b[1;31mTypeError\u001b[0m: unsupported operand type(s) for &: 'float' and 'int'"
     ]
    }
   ],
   "source": [
    "a+b\n",
    "a+=b\n",
    "a-b\n",
    "a-=b\n",
    "a*b\n",
    "a*=b\n",
    "a/b\n",
    "a/=b\n",
    "a&b\n",
    "a&=b\n",
    "a|b\n",
    "a|=b\n",
    "a//b\n",
    "a//=b\n",
    "# a\\b\n",
    "# a\\=b\n",
    "# a\\\\b\n",
    "# a\\\\=b\n",
    "a**b\n",
    "a**=b\n"
   ]
  },
  {
   "cell_type": "code",
   "execution_count": 9,
   "id": "8cacbf4c",
   "metadata": {},
   "outputs": [
    {
     "data": {
      "text/plain": [
       "True"
      ]
     },
     "execution_count": 9,
     "metadata": {},
     "output_type": "execute_result"
    }
   ],
   "source": [
    "a is b\n",
    "a is not b"
   ]
  },
  {
   "cell_type": "code",
   "execution_count": 11,
   "id": "f26b0fd6",
   "metadata": {},
   "outputs": [],
   "source": [
    "# a in b \n",
    "# a not in b\n",
    "#TypeError: argument of type 'int' is not iterable"
   ]
  },
  {
   "cell_type": "code",
   "execution_count": 12,
   "id": "e6e5af3d",
   "metadata": {},
   "outputs": [],
   "source": [
    "# BODMAS\n",
    "\n",
    "# a+b-a*b/a//a%b\n",
    "\n",
    "# what will be the precendence of // and % and all other operators wrt BODMAS(  bracket, + , - , * , /)  ??"
   ]
  },
  {
   "cell_type": "code",
   "execution_count": 13,
   "id": "c4a077d6",
   "metadata": {},
   "outputs": [
    {
     "name": "stdout",
     "output_type": "stream",
     "text": [
      "100.0\n",
      "6\n",
      "0\n",
      "512\n"
     ]
    }
   ],
   "source": [
    "# Examples of Operator Associativity\n",
    " \n",
    "# Left-right associativity\n",
    "# 100 / 10 * 10 is calculated as\n",
    "# (100 / 10) * 10 and not\n",
    "# as 100 / (10 * 10)\n",
    "print(100 / 10 * 10)\n",
    " \n",
    "# Left-right associativity\n",
    "# 5 - 2 + 3 is calculated as\n",
    "# (5 - 2) + 3 and not\n",
    "# as 5 - (2 + 3)\n",
    "print(5 - 2 + 3)\n",
    " \n",
    "# left-right associativity\n",
    "print(5 - (2 + 3))\n",
    " \n",
    "# right-left associativity\n",
    "# 2 ** 3 ** 2 is calculated as\n",
    "# 2 ** (3 ** 2) and not\n",
    "# as (2 ** 3) ** 2\n",
    "print(2 ** 3 ** 2) "
   ]
  },
  {
   "cell_type": "code",
   "execution_count": 14,
   "id": "647163f2",
   "metadata": {},
   "outputs": [
    {
     "ename": "TypeError",
     "evalue": "bad operand type for unary ~: 'str'",
     "output_type": "error",
     "traceback": [
      "\u001b[1;31m---------------------------------------------------------------------------\u001b[0m",
      "\u001b[1;31mTypeError\u001b[0m                                 Traceback (most recent call last)",
      "\u001b[1;32m~\\AppData\\Local\\Temp/ipykernel_21840/1009933328.py\u001b[0m in \u001b[0;36m<module>\u001b[1;34m\u001b[0m\n\u001b[0;32m      4\u001b[0m \u001b[1;33m\u001b[0m\u001b[0m\n\u001b[0;32m      5\u001b[0m \u001b[0ma\u001b[0m \u001b[1;33m=\u001b[0m \u001b[1;33m~\u001b[0m\u001b[0mb\u001b[0m\u001b[1;33m\u001b[0m\u001b[1;33m\u001b[0m\u001b[0m\n\u001b[1;32m----> 6\u001b[1;33m \u001b[0mb\u001b[0m \u001b[1;33m=\u001b[0m \u001b[1;33m~\u001b[0m\u001b[0mc\u001b[0m\u001b[1;33m\u001b[0m\u001b[1;33m\u001b[0m\u001b[0m\n\u001b[0m",
      "\u001b[1;31mTypeError\u001b[0m: bad operand type for unary ~: 'str'"
     ]
    }
   ],
   "source": [
    "a = not b\n",
    "b = not c\n",
    "# A Python program that uses Bitwise Not or ~ on boolean\n",
    "\n",
    "# a = ~b #TypeError: bad operand type for unary ~: 'str'\n",
    "# b = ~c"
   ]
  },
  {
   "cell_type": "code",
   "execution_count": 15,
   "id": "b54a7f44",
   "metadata": {},
   "outputs": [
    {
     "ename": "TypeError",
     "evalue": "'>' not supported between instances of 'bool' and 'str'",
     "output_type": "error",
     "traceback": [
      "\u001b[1;31m---------------------------------------------------------------------------\u001b[0m",
      "\u001b[1;31mTypeError\u001b[0m                                 Traceback (most recent call last)",
      "\u001b[1;32m~\\AppData\\Local\\Temp/ipykernel_21840/2051243275.py\u001b[0m in \u001b[0;36m<module>\u001b[1;34m\u001b[0m\n\u001b[0;32m      1\u001b[0m \u001b[1;31m# a = if b>c : b : c\u001b[0m\u001b[1;33m\u001b[0m\u001b[1;33m\u001b[0m\u001b[1;33m\u001b[0m\u001b[0m\n\u001b[1;32m----> 2\u001b[1;33m \u001b[0ma\u001b[0m\u001b[1;33m=\u001b[0m \u001b[0mb\u001b[0m \u001b[1;32mif\u001b[0m \u001b[0mb\u001b[0m\u001b[1;33m>\u001b[0m\u001b[0mc\u001b[0m \u001b[1;32melse\u001b[0m \u001b[0mc\u001b[0m\u001b[1;33m\u001b[0m\u001b[1;33m\u001b[0m\u001b[0m\n\u001b[0m",
      "\u001b[1;31mTypeError\u001b[0m: '>' not supported between instances of 'bool' and 'str'"
     ]
    }
   ],
   "source": [
    "# a = if b>c : b : c\n",
    "a= b if b>c else c     #TypeError: '>' not supported between instances of 'bool' and 'str'    "
   ]
  },
  {
   "cell_type": "code",
   "execution_count": 16,
   "id": "5fea3fbe",
   "metadata": {},
   "outputs": [
    {
     "name": "stdout",
     "output_type": "stream",
     "text": [
      "10\n",
      "10\n",
      "10\n"
     ]
    }
   ],
   "source": [
    "\n",
    "# Python program to demonstrate ternary operator\n",
    "a, b = 10, 20\n",
    " \n",
    "# Use \"tuple\" for selecting an item\n",
    "# (if_test_false,if_test_true)[test]\n",
    "# if [a<b] is true it return 1, so element with 1 index will print\n",
    "# else if [a<b] is false it return 0, so element with 0 index will print\n",
    "print( (b, a) [a < b] )\n",
    " \n",
    "# Use \"Dictionary\" for selecting an item\n",
    "# if [a < b] is true then value of True key will print\n",
    "# elif [a<b] is false then value of False key will print\n",
    "print({True: a, False: b} [a < b])\n",
    " \n",
    "# \"lamda\" is more efficient than above two methods\n",
    "# because in lambda  we are assure that\n",
    "# only one expression will be evaluated unlike in\n",
    "# tuple and Dictionary\n",
    "print((lambda: b, lambda: a)[a < b]())"
   ]
  },
  {
   "cell_type": "code",
   "execution_count": 23,
   "id": "8b947570",
   "metadata": {},
   "outputs": [
    {
     "name": "stdout",
     "output_type": "stream",
     "text": [
      "20\n"
     ]
    }
   ],
   "source": [
    "# Program to demonstrate conditional operator\n",
    "a, b = 100, 20\n",
    " \n",
    "# If a is less than b, then a is assigned\n",
    "# else b is assigned (Note : it doesn't\n",
    "# work if a is 0.\n",
    "min = a < b and a or b\n",
    " \n",
    "print(min)\n",
    "\n",
    "100 or 20 (whichever is lesser) and (100 or 20)"
   ]
  },
  {
   "cell_type": "code",
   "execution_count": 25,
   "id": "a27fa346",
   "metadata": {},
   "outputs": [
    {
     "data": {
      "text/plain": [
       "-3.0"
      ]
     },
     "execution_count": 25,
     "metadata": {},
     "output_type": "execute_result"
    }
   ],
   "source": [
    "# Division\n",
    "5/2\n",
    "5/2.0\n",
    "-5/2\n",
    "-5.0/2\n",
    "\n",
    "\n",
    "5//2\n",
    "-5//2\n",
    "5.0//2\n",
    "-5//2.0"
   ]
  },
  {
   "cell_type": "code",
   "execution_count": 27,
   "id": "39366f5b",
   "metadata": {},
   "outputs": [],
   "source": [
    "# Operator Overload\n",
    "# '+' sign is so declared that it behaves as a '-' sign"
   ]
  },
  {
   "cell_type": "code",
   "execution_count": 30,
   "id": "6457db52",
   "metadata": {},
   "outputs": [
    {
     "name": "stdout",
     "output_type": "stream",
     "text": [
      "3\n",
      "RabbitCake\n"
     ]
    }
   ],
   "source": [
    "# Python Program illustrate how\n",
    "# to overload an binary + operator\n",
    " \n",
    "class A:\n",
    "    def __init__(self, a):\n",
    "        self.a = a\n",
    " \n",
    "    # adding two objects\n",
    "    def __add__(self, o):\n",
    "        return self.a + o.a\n",
    "    \n",
    "    # multiplying 2 objects even if they are strings ?? homework\n",
    "#     aef , bcd > ab , ac, ad , eb,ec,ed , fb,fc,fd> abacadebecedfbfcfd\n",
    "#     [a]e[f] , [b]c[d] > [ab] , ac, ad , eb,ec,ed , fb,fc,[fd]> [ab]acadebecedfbfc[fd]\n",
    "    \n",
    "ob1 = A(1)\n",
    "ob2 = A(2)\n",
    "ob3 = A(\"Rabbit\")\n",
    "ob4 = A(\"Cake\")\n",
    " \n",
    "print(ob1 + ob2)\n",
    "print(ob3 + ob4)"
   ]
  },
  {
   "cell_type": "code",
   "execution_count": 31,
   "id": "16a8f064",
   "metadata": {},
   "outputs": [
    {
     "name": "stdout",
     "output_type": "stream",
     "text": [
      "(3, 5)\n"
     ]
    }
   ],
   "source": [
    "# Python Program to perform addition\n",
    "# of two complex numbers using binary\n",
    "# + operator overloading.\n",
    " \n",
    "class complex:\n",
    "    def __init__(self, a1, b):\n",
    "        self.a1 = a1\n",
    "        self.b = b\n",
    " \n",
    "     # adding two objects\n",
    "    def __add__(self, other1):\n",
    "        return self.a1 + other1.a1, self.b + other1.b\n",
    " \n",
    "Ob1 = complex(1, 2)\n",
    "Ob2 = complex(2, 3)\n",
    "Ob3 = Ob1 + Ob2\n",
    "print(Ob3)"
   ]
  },
  {
   "cell_type": "code",
   "execution_count": null,
   "id": "23e49ad3",
   "metadata": {},
   "outputs": [],
   "source": [
    "# +\t__add__(self, other)\n",
    "# –\t__sub__(self, other)\n",
    "# *\t__mul__(self, other)\n",
    "# /\t__truediv__(self, other)\n",
    "# //\t__floordiv__(self, other)\n",
    "# %\t__mod__(self, other)\n",
    "# **\t__pow__(self, other)\n",
    "# >>\t__rshift__(self, other)\n",
    "# <<\t__lshift__(self, other)\n",
    "# &\t__and__(self, other)\n",
    "# |\t__or__(self, other)\n",
    "# ^\t__xor__(self, other)\n",
    "\n",
    "# <\t__LT__(SELF, OTHER)\n",
    "# >\t__GT__(SELF, OTHER)\n",
    "# <=\t__LE__(SELF, OTHER)\n",
    "# >=\t__GE__(SELF, OTHER)\n",
    "# ==\t__EQ__(SELF, OTHER)\n",
    "# !=\t__NE__(SELF, OTHER)\n",
    "\n",
    "# -=\t__ISUB__(SELF, OTHER)\n",
    "# +=\t__IADD__(SELF, OTHER)\n",
    "# *=\t__IMUL__(SELF, OTHER)\n",
    "# /=\t__IDIV__(SELF, OTHER)\n",
    "# //=\t__IFLOORDIV__(SELF, OTHER)\n",
    "# %=\t__IMOD__(SELF, OTHER)\n",
    "# **=\t__IPOW__(SELF, OTHER)\n",
    "# >>=\t__IRSHIFT__(SELF, OTHER)\n",
    "# <<=\t__ILSHIFT__(SELF, OTHER)\n",
    "# &=\t__IAND__(SELF, OTHER)\n",
    "# |=\t__IOR__(SELF, OTHER)\n",
    "# ^=\t__IXOR__(SELF, OTHER)\n",
    "\n",
    "# –\t__NEG__(SELF, OTHER)\n",
    "# +\t__POS__(SELF, OTHER)\n",
    "# ~\t__INVERT__(SELF, OTHER)\n",
    "# homework to apply any 5 of these in a class under operator overload and test the same for numbers and strings separately"
   ]
  }
 ],
 "metadata": {
  "kernelspec": {
   "display_name": "Python 3 (ipykernel)",
   "language": "python",
   "name": "python3"
  },
  "language_info": {
   "codemirror_mode": {
    "name": "ipython",
    "version": 3
   },
   "file_extension": ".py",
   "mimetype": "text/x-python",
   "name": "python",
   "nbconvert_exporter": "python",
   "pygments_lexer": "ipython3",
   "version": "3.9.6"
  }
 },
 "nbformat": 4,
 "nbformat_minor": 5
}
