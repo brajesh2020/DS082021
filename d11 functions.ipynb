{
 "cells": [
  {
   "cell_type": "code",
   "execution_count": 2,
   "id": "9d4a6e84",
   "metadata": {},
   "outputs": [
    {
     "name": "stdout",
     "output_type": "stream",
     "text": [
      "Welcome to Hello\n"
     ]
    }
   ],
   "source": [
    "def fun():\n",
    "  print(\"Welcome to Hello\")\n",
    "\n",
    "fun()"
   ]
  },
  {
   "cell_type": "code",
   "execution_count": 4,
   "id": "1db23d48",
   "metadata": {},
   "outputs": [
    {
     "name": "stdout",
     "output_type": "stream",
     "text": [
      "2  is even\n",
      "3  is odd\n",
      "Enter a number to check for odd or even5\n",
      "5  is odd\n",
      "Enter a number to check for odd or even4\n",
      "4  is even\n",
      "Enter a number to check for odd or even3\n",
      "3  is odd\n",
      "Enter a number to check for odd or even4\n",
      "4  is even\n",
      "Enter a number to check for odd or even5\n",
      "5  is odd\n",
      "Enter a number to check for odd or even6\n",
      "6  is even\n",
      "Enter a number to check for odd or even67\n",
      "67  is odd\n",
      "Enter a number to check for odd or even7\n",
      "7  is odd\n"
     ]
    },
    {
     "ename": "KeyboardInterrupt",
     "evalue": "Interrupted by user",
     "output_type": "error",
     "traceback": [
      "\u001b[1;31m---------------------------------------------------------------------------\u001b[0m",
      "\u001b[1;31mKeyboardInterrupt\u001b[0m                         Traceback (most recent call last)",
      "\u001b[1;32m~\\AppData\\Local\\Temp/ipykernel_6404/829163192.py\u001b[0m in \u001b[0;36m<module>\u001b[1;34m\u001b[0m\n\u001b[0;32m     10\u001b[0m \u001b[0mevenOdd\u001b[0m\u001b[1;33m(\u001b[0m\u001b[1;36m3\u001b[0m\u001b[1;33m)\u001b[0m\u001b[1;33m\u001b[0m\u001b[1;33m\u001b[0m\u001b[0m\n\u001b[0;32m     11\u001b[0m \u001b[1;32mwhile\u001b[0m \u001b[1;36m1\u001b[0m\u001b[1;33m==\u001b[0m\u001b[1;36m1\u001b[0m\u001b[1;33m:\u001b[0m\u001b[1;33m\u001b[0m\u001b[1;33m\u001b[0m\u001b[0m\n\u001b[1;32m---> 12\u001b[1;33m     \u001b[0mevenOdd\u001b[0m\u001b[1;33m(\u001b[0m\u001b[0mint\u001b[0m\u001b[1;33m(\u001b[0m\u001b[0minput\u001b[0m\u001b[1;33m(\u001b[0m\u001b[1;34m\"Enter a number to check for odd or even\"\u001b[0m\u001b[1;33m)\u001b[0m\u001b[1;33m)\u001b[0m\u001b[1;33m)\u001b[0m\u001b[1;33m\u001b[0m\u001b[1;33m\u001b[0m\u001b[0m\n\u001b[0m",
      "\u001b[1;32md:\\python\\lib\\site-packages\\ipykernel\\kernelbase.py\u001b[0m in \u001b[0;36mraw_input\u001b[1;34m(self, prompt)\u001b[0m\n\u001b[0;32m    979\u001b[0m                 \u001b[1;34m\"raw_input was called, but this frontend does not support input requests.\"\u001b[0m\u001b[1;33m\u001b[0m\u001b[1;33m\u001b[0m\u001b[0m\n\u001b[0;32m    980\u001b[0m             )\n\u001b[1;32m--> 981\u001b[1;33m         return self._input_request(\n\u001b[0m\u001b[0;32m    982\u001b[0m             \u001b[0mstr\u001b[0m\u001b[1;33m(\u001b[0m\u001b[0mprompt\u001b[0m\u001b[1;33m)\u001b[0m\u001b[1;33m,\u001b[0m\u001b[1;33m\u001b[0m\u001b[1;33m\u001b[0m\u001b[0m\n\u001b[0;32m    983\u001b[0m             \u001b[0mself\u001b[0m\u001b[1;33m.\u001b[0m\u001b[0m_parent_ident\u001b[0m\u001b[1;33m[\u001b[0m\u001b[1;34m\"shell\"\u001b[0m\u001b[1;33m]\u001b[0m\u001b[1;33m,\u001b[0m\u001b[1;33m\u001b[0m\u001b[1;33m\u001b[0m\u001b[0m\n",
      "\u001b[1;32md:\\python\\lib\\site-packages\\ipykernel\\kernelbase.py\u001b[0m in \u001b[0;36m_input_request\u001b[1;34m(self, prompt, ident, parent, password)\u001b[0m\n\u001b[0;32m   1024\u001b[0m             \u001b[1;32mexcept\u001b[0m \u001b[0mKeyboardInterrupt\u001b[0m\u001b[1;33m:\u001b[0m\u001b[1;33m\u001b[0m\u001b[1;33m\u001b[0m\u001b[0m\n\u001b[0;32m   1025\u001b[0m                 \u001b[1;31m# re-raise KeyboardInterrupt, to truncate traceback\u001b[0m\u001b[1;33m\u001b[0m\u001b[1;33m\u001b[0m\u001b[1;33m\u001b[0m\u001b[0m\n\u001b[1;32m-> 1026\u001b[1;33m                 \u001b[1;32mraise\u001b[0m \u001b[0mKeyboardInterrupt\u001b[0m\u001b[1;33m(\u001b[0m\u001b[1;34m\"Interrupted by user\"\u001b[0m\u001b[1;33m)\u001b[0m \u001b[1;32mfrom\u001b[0m \u001b[1;32mNone\u001b[0m\u001b[1;33m\u001b[0m\u001b[1;33m\u001b[0m\u001b[0m\n\u001b[0m\u001b[0;32m   1027\u001b[0m             \u001b[1;32mexcept\u001b[0m \u001b[0mException\u001b[0m\u001b[1;33m:\u001b[0m\u001b[1;33m\u001b[0m\u001b[1;33m\u001b[0m\u001b[0m\n\u001b[0;32m   1028\u001b[0m                 \u001b[0mself\u001b[0m\u001b[1;33m.\u001b[0m\u001b[0mlog\u001b[0m\u001b[1;33m.\u001b[0m\u001b[0mwarning\u001b[0m\u001b[1;33m(\u001b[0m\u001b[1;34m\"Invalid Message:\"\u001b[0m\u001b[1;33m,\u001b[0m \u001b[0mexc_info\u001b[0m\u001b[1;33m=\u001b[0m\u001b[1;32mTrue\u001b[0m\u001b[1;33m)\u001b[0m\u001b[1;33m\u001b[0m\u001b[1;33m\u001b[0m\u001b[0m\n",
      "\u001b[1;31mKeyboardInterrupt\u001b[0m: Interrupted by user"
     ]
    }
   ],
   "source": [
    "def evenOdd(x):\n",
    "    if (x % 2 == 0):\n",
    "        print(x,\" is even\")\n",
    "    else:\n",
    "        print(x, \" is odd\")\n",
    " \n",
    " \n",
    "# Driver code to call the function\n",
    "# evenOdd(2)\n",
    "# evenOdd(3)\n",
    "while 1==1:\n",
    "    evenOdd(int(input(\"Enter a number to check for odd or even \")))"
   ]
  },
  {
   "cell_type": "code",
   "execution_count": null,
   "id": "6778dc99",
   "metadata": {},
   "outputs": [],
   "source": [
    "def evenOdd(x):\n",
    "    if (x % 2 == 0):\n",
    "        print(x,\" is even\")\n",
    "    else:\n",
    "        print(x, \" is odd\")\n",
    "\n",
    "while x>=0:\n",
    "    x=int(input(\"Enter a number to check for odd or even \"))\n",
    "    evenOdd(x)"
   ]
  },
  {
   "cell_type": "code",
   "execution_count": null,
   "id": "69fd36b6",
   "metadata": {},
   "outputs": [],
   "source": [
    "def evenOdd(x):\n",
    "    if (x % 2 == 0):\n",
    "        print(x,\" is even\")\n",
    "    else:\n",
    "        print(x, \" is odd\")\n",
    "# to run the loop for 10 times exactly\n",
    "y=0\n",
    "while y<=10:\n",
    "    y+=1\n",
    "    x=int(input(\"Enter a number to check for odd or even \"))\n",
    "    evenOdd(x)"
   ]
  },
  {
   "cell_type": "code",
   "execution_count": 12,
   "id": "ad22312b",
   "metadata": {},
   "outputs": [
    {
     "ename": "TypeError",
     "evalue": "myFun() got multiple values for argument 'x'",
     "output_type": "error",
     "traceback": [
      "\u001b[1;31m---------------------------------------------------------------------------\u001b[0m",
      "\u001b[1;31mTypeError\u001b[0m                                 Traceback (most recent call last)",
      "\u001b[1;32m~\\AppData\\Local\\Temp/ipykernel_6404/1227474686.py\u001b[0m in \u001b[0;36m<module>\u001b[1;34m\u001b[0m\n\u001b[0;32m     18\u001b[0m \u001b[1;31m# y:  50 64\u001b[0m\u001b[1;33m\u001b[0m\u001b[1;33m\u001b[0m\u001b[1;33m\u001b[0m\u001b[0m\n\u001b[0;32m     19\u001b[0m \u001b[1;31m# z:  -2 64\u001b[0m\u001b[1;33m\u001b[0m\u001b[1;33m\u001b[0m\u001b[1;33m\u001b[0m\u001b[0m\n\u001b[1;32m---> 20\u001b[1;33m \u001b[0mmyFun\u001b[0m\u001b[1;33m(\u001b[0m\u001b[1;36m10\u001b[0m\u001b[1;33m,\u001b[0m\u001b[0mx\u001b[0m\u001b[1;33m=\u001b[0m\u001b[1;36m12\u001b[0m\u001b[1;33m)\u001b[0m\u001b[1;33m\u001b[0m\u001b[1;33m\u001b[0m\u001b[0m\n\u001b[0m",
      "\u001b[1;31mTypeError\u001b[0m: myFun() got multiple values for argument 'x'"
     ]
    }
   ],
   "source": [
    "# default arguments\n",
    " \n",
    " \n",
    "def myFun(x, y=50,z=-2):\n",
    "    print(\"x: \", x,x+y-z)\n",
    "    print(\"y: \", y,x+y-z)\n",
    "    print(\"z: \", z,x+y-z)\n",
    " \n",
    " \n",
    "# Driver code (We call myFun() with only\n",
    "# argument)\n",
    "# myFun(z=10,x=12)\n",
    "# x:  12 52\n",
    "# y:  50 52\n",
    "# z:  10 52\n",
    "# myFun(x=12)\n",
    "# x:  12 64\n",
    "# y:  50 64\n",
    "# z:  -2 64\n",
    "# myFun(10,x=12) #TypeError: myFun() got multiple values for argument 'x'"
   ]
  },
  {
   "cell_type": "code",
   "execution_count": 11,
   "id": "a23e5f5e",
   "metadata": {},
   "outputs": [
    {
     "name": "stdout",
     "output_type": "stream",
     "text": [
      "Rabbit Practice\n",
      "Rabbit Practice\n"
     ]
    }
   ],
   "source": [
    "# Python program to demonstrate Keyword Arguments\n",
    "def student(firstname, lastname):\n",
    "    print(firstname, lastname)\n",
    " \n",
    " \n",
    "# Keyword arguments\n",
    "student(firstname='Rabbit', lastname='Practice')\n",
    "student(lastname='Practice', firstname='Rabbit')"
   ]
  },
  {
   "cell_type": "code",
   "execution_count": 13,
   "id": "60b74e30",
   "metadata": {},
   "outputs": [
    {
     "name": "stdout",
     "output_type": "stream",
     "text": [
      "Hello\n",
      "Welcome\n",
      "to\n",
      "Rabbit\n"
     ]
    }
   ],
   "source": [
    "# *args for variable number of arguments\n",
    " \n",
    " \n",
    "def myFun(*argv):\n",
    "    for arg in argv:\n",
    "        print(arg)\n",
    " \n",
    " \n",
    "myFun('Hello', 'Welcome', 'to', 'Rabbit')"
   ]
  },
  {
   "cell_type": "code",
   "execution_count": 16,
   "id": "ad7118fc",
   "metadata": {},
   "outputs": [
    {
     "name": "stdout",
     "output_type": "stream",
     "text": [
      "before 0 1\n",
      "after 1 1\n",
      "before 1 3\n",
      "after 4 3\n",
      "4\n"
     ]
    }
   ],
   "source": [
    "# *args for variable number of arguments\n",
    " \n",
    " \n",
    "def myFun(*argv):\n",
    "    x=0\n",
    "    for arg in argv:\n",
    "        print('before',x,arg)\n",
    "        x+=arg\n",
    "        print('after',x,arg)\n",
    "    print(x)\n",
    "myFun(1,3)"
   ]
  },
  {
   "cell_type": "code",
   "execution_count": 19,
   "id": "fa2bf542",
   "metadata": {},
   "outputs": [
    {
     "name": "stdout",
     "output_type": "stream",
     "text": [
      "first == Rabbit\n",
      "first  ==  Rabbit\n",
      "mid == for\n",
      "mid  ==  for\n",
      "last == Cat\n",
      "last  ==  Cat\n"
     ]
    }
   ],
   "source": [
    "# *kargs for variable number of keyword arguments\n",
    " \n",
    " \n",
    "def myFun(**kwargs):\n",
    "    for key, value in kwargs.items():\n",
    "        print(\"%s == %s\" % (key, value))\n",
    "        print(key,\" == \" ,value)\n",
    " \n",
    " \n",
    "# Driver code\n",
    "myFun(first='Rabbit', mid='for', last='Cat')"
   ]
  },
  {
   "cell_type": "code",
   "execution_count": 20,
   "id": "e25ef254",
   "metadata": {},
   "outputs": [
    {
     "name": "stdout",
     "output_type": "stream",
     "text": [
      "4\n",
      "16\n"
     ]
    }
   ],
   "source": [
    "def square_value(num):\n",
    "    \"\"\"This function returns the square\n",
    "    value of the entered number\"\"\"\n",
    "    return num**2\n",
    "    return(pow(num,2))\n",
    " \n",
    "print(square_value(2))\n",
    "print(square_value(-4))"
   ]
  },
  {
   "cell_type": "code",
   "execution_count": 24,
   "id": "1fb0f613",
   "metadata": {},
   "outputs": [
    {
     "name": "stdout",
     "output_type": "stream",
     "text": [
      "beofre [10, 11]\n",
      "before [10, 11]\n",
      "after1 [20, 11]\n",
      "after [20, 11]\n",
      "[20, 11]\n"
     ]
    }
   ],
   "source": [
    "\n",
    "# Here x is a new reference to same list lst\n",
    "def myFun(x):\n",
    "    print('before',x)\n",
    "    x[0] = 20\n",
    "    print('after1',x)\n",
    " \n",
    " \n",
    "# Driver Code (Note that lst is modified\n",
    "# after function call.\n",
    "lst = [10, 11]\n",
    "print('beofre',lst)\n",
    "myFun(lst)\n",
    "print('after',lst)\n",
    "print(lst)"
   ]
  },
  {
   "cell_type": "code",
   "execution_count": 25,
   "id": "7cc129c6",
   "metadata": {},
   "outputs": [
    {
     "name": "stdout",
     "output_type": "stream",
     "text": [
      "beofre [10, 11]\n",
      "before [10, 11]\n",
      "after1 [20, 30, 40]\n",
      "after [10, 11]\n",
      "[10, 11]\n"
     ]
    }
   ],
   "source": [
    "\n",
    "# Here x is a new reference to same list lst\n",
    "def myFun(x):\n",
    "    print('before',x)\n",
    "    # After below line link of x with previous\n",
    "    # object gets broken. A new object is assigned\n",
    "    # to x.\n",
    "    x = [20, 30, 40]\n",
    "    # x no longer represents lst of the list which was called by the function\n",
    "    #so making changes to x does not change lst once we are out of the function\n",
    "    print('after1',x)\n",
    " \n",
    " \n",
    "# Driver Code (Note that lst is modified\n",
    "# after function call.\n",
    "lst = [10, 11]\n",
    "print('beofre',lst)\n",
    "myFun(lst)\n",
    "print('after',lst)\n",
    "print(lst)"
   ]
  },
  {
   "cell_type": "code",
   "execution_count": 30,
   "id": "42a0c3b0",
   "metadata": {},
   "outputs": [
    {
     "name": "stdout",
     "output_type": "stream",
     "text": [
      "2 3\n",
      "3 2\n",
      "2 3\n"
     ]
    }
   ],
   "source": [
    "#swapping of values\n",
    "def swap(x, y):\n",
    "    x,y=y,x\n",
    "    print(x,y)\n",
    "    return(x,y)\n",
    "#     temp = x\n",
    "#     x = y\n",
    "#     y = temp\n",
    "     \n",
    " # Driver code\n",
    "x = 2\n",
    "y = 3\n",
    "print(x,y)\n",
    "swap(x, y)\n",
    "print(x,y)\n",
    "# print(y)"
   ]
  },
  {
   "cell_type": "code",
   "execution_count": 33,
   "id": "6db9d1ad",
   "metadata": {},
   "outputs": [
    {
     "ename": "IndentationError",
     "evalue": "expected an indented block (Temp/ipykernel_6404/2064790282.py, line 4)",
     "output_type": "error",
     "traceback": [
      "\u001b[1;36m  File \u001b[1;32m\"C:\\Users\\win10\\AppData\\Local\\Temp/ipykernel_6404/2064790282.py\"\u001b[1;36m, line \u001b[1;32m4\u001b[0m\n\u001b[1;33m    abc()\u001b[0m\n\u001b[1;37m    ^\u001b[0m\n\u001b[1;31mIndentationError\u001b[0m\u001b[1;31m:\u001b[0m expected an indented block\n"
     ]
    }
   ],
   "source": [
    "def abc(): #IndentationError: expected an indented block\n",
    "    pass\n",
    "    \n",
    "abc()"
   ]
  },
  {
   "cell_type": "code",
   "execution_count": 48,
   "id": "a199f914",
   "metadata": {},
   "outputs": [
    {
     "name": "stdout",
     "output_type": "stream",
     "text": [
      "before functools.partial(<function f at 0x000001EF5C6F1790>, c=3) <function f at 0x000001EF5C6F1AF0>\n",
      "after functools.partial(<function f at 0x000001EF5C6F1AF0>, c=3) <function f at 0x000001EF5C6F1AF0>\n",
      "before  5 3\n",
      "35\n"
     ]
    }
   ],
   "source": [
    "# partial function\n",
    "from functools import partial\n",
    "  \n",
    "# A normal function\n",
    "def f(x, c):\n",
    "    print('before ',x,c)    \n",
    "    return  10*c + x\n",
    "    print('after ',x,c)\n",
    "  # A partial function that calls f with\n",
    "# c as 3.\n",
    "# g = partial(f, 3) #53\n",
    "print('before',g,f)\n",
    "g = partial(f, c=3)  #35\n",
    "print('after',g,f)\n",
    "# g = partial(x=f, c=3)  #TypeError: type 'partial' takes at least one argument\n",
    "\n",
    "# Calling g()\n",
    "print(g(5))  \n",
    "# >>g = partial(f, c=3) value 3 is passed to function f \n",
    "# 3 is passed to the only unassigned variable in function f that is x"
   ]
  },
  {
   "cell_type": "code",
   "execution_count": 47,
   "id": "8da12000",
   "metadata": {},
   "outputs": [
    {
     "name": "stdout",
     "output_type": "stream",
     "text": [
      "312\n"
     ]
    }
   ],
   "source": [
    "from functools import *\n",
    "  \n",
    "# A normal function\n",
    "def add(a, b, c):\n",
    "    return 100 * a + 10 * b + c\n",
    "  \n",
    "# A partial function with b = 1 and c = 2\n",
    "add_part = partial(add, c = 2, b = 1)\n",
    "  \n",
    "# Calling partial function\n",
    "print(add_part(3))"
   ]
  },
  {
   "cell_type": "code",
   "execution_count": null,
   "id": "4d5a8d33",
   "metadata": {},
   "outputs": [],
   "source": [
    "# First Class functions in Python\n",
    "# Precision Handling\n",
    "# *args and **kwargs\n",
    "# Python closures\n",
    "# Function Decorators\n",
    "# Decorators in Python\n",
    "# Decorators with parameters in Python\n",
    "# Memoization using decorators in Python\n",
    "# Help function in Python\n",
    "# Python | __import__() function\n",
    "# Python | range() does not return an iterator\n",
    "# Coroutine in Python\n",
    "# Python bit functions on int (bit_length, to_bytes and from_bytes)"
   ]
  }
 ],
 "metadata": {
  "kernelspec": {
   "display_name": "Python 3 (ipykernel)",
   "language": "python",
   "name": "python3"
  },
  "language_info": {
   "codemirror_mode": {
    "name": "ipython",
    "version": 3
   },
   "file_extension": ".py",
   "mimetype": "text/x-python",
   "name": "python",
   "nbconvert_exporter": "python",
   "pygments_lexer": "ipython3",
   "version": "3.9.6"
  }
 },
 "nbformat": 4,
 "nbformat_minor": 5
}
